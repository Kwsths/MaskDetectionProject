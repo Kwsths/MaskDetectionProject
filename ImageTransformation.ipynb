{
 "cells": [
  {
   "cell_type": "code",
   "execution_count": 6,
   "metadata": {},
   "outputs": [
    {
     "name": "stdout",
     "output_type": "stream",
     "text": [
      "Collecting package metadata (current_repodata.json): done\n",
      "Solving environment: done\n",
      "\n",
      "# All requested packages already installed.\n",
      "\n",
      "\n",
      "Note: you may need to restart the kernel to use updated packages.\n"
     ]
    }
   ],
   "source": [
    "#conda install -c anaconda PILLOW"
   ]
  },
  {
   "cell_type": "code",
   "execution_count": 6,
   "metadata": {},
   "outputs": [],
   "source": [
    "import os\n",
    "import cv2\n",
    "import glob\n",
    "import numpy as np\n",
    "from PIL import Image\n",
    "from tqdm import tqdm\n",
    "import numpy as np\n",
    "import face_recognition"
   ]
  },
  {
   "cell_type": "markdown",
   "metadata": {},
   "source": [
    "We used the following code to extract the faces from the images. The first one uses Haar feature-based cascade classifiers and in many occcaisions gave us non-face images."
   ]
  },
  {
   "cell_type": "code",
   "execution_count": 8,
   "metadata": {},
   "outputs": [
    {
     "name": "stderr",
     "output_type": "stream",
     "text": [
      "100%|██████████| 1880/1880 [03:11<00:00,  9.79it/s]\n"
     ]
    }
   ],
   "source": [
    "size = 4\n",
    "\n",
    "source = \"val//with_mask//\"\n",
    "dest = \"val//with_mask//face_crop2//\"\n",
    "files = os.listdir(source)\n",
    "classifier = cv2.CascadeClassifier(\"haarcascade_frontalface_default.xml\")\n",
    "\n",
    "for file in tqdm(files):\n",
    "#image = os.path.join('train//with_mask//the-lite-one-surgical-mask-green-48105-angled-copy.jpg')\n",
    "    image = cv2.imread(source+file)\n",
    "    #image = image[:, :, ::-1]\n",
    "    faces = classifier.detectMultiScale(image)\n",
    "    \n",
    "    for f in faces:\n",
    "        (x, y, w, h) = [v for v in f]  # Scale the shapesize backup\n",
    "        # Save just the rectangle faces in SubRecFaces\n",
    "        face_img = image[y:y + h, x:x + w]\n",
    "        #cv2.imshow('face', face_img)\n",
    "        #cv2.waitKey(0)\n",
    "        resized = cv2.resize(face_img, (64, 64))\n",
    "        img = Image.fromarray(resized, 'RGB')\n",
    "        img = img.convert('L')\n",
    "        img.save(dest + 'croped'+file+'.jpg')"
   ]
  },
  {
   "cell_type": "code",
   "execution_count": 6,
   "metadata": {},
   "outputs": [
    {
     "data": {
      "text/plain": [
       "array([ 32,  84, 228, 228], dtype=int32)"
      ]
     },
     "execution_count": 6,
     "metadata": {},
     "output_type": "execute_result"
    }
   ],
   "source": [
    "faces[0]"
   ]
  },
  {
   "cell_type": "markdown",
   "metadata": {},
   "source": [
    "The next algorithm is the one that we finally used and it is based on HOG."
   ]
  },
  {
   "cell_type": "code",
   "execution_count": 3,
   "metadata": {},
   "outputs": [
    {
     "name": "stdout",
     "output_type": "stream",
     "text": [
      "1431\n"
     ]
    }
   ],
   "source": [
    "new_width = 64\n",
    "new_height = 64\n",
    "cnt = 0\n",
    "\n",
    "for image_file_name in os.listdir('val//without_mask//resized'):\n",
    "    \n",
    "    if image_file_name.endswith(\".jpg\") or image_file_name.endswith(\".png\")or image_file_name.endswith(\".jpeg\"):\n",
    "        cnt += 1\n",
    "        \n",
    "        \n",
    "        \n",
    "        image = face_recognition.load_image_file('val//without_mask//resized//' + image_file_name)\n",
    "        face_locations = face_recognition.face_locations(image)\n",
    "        \n",
    "        cnt2 = 0\n",
    "        \n",
    "        for f in face_locations:\n",
    "            cnt2 += 1\n",
    "            \n",
    "            top, right, bottom, left = f\n",
    "            \n",
    "            face_image = image[top:bottom, left:right]\n",
    "            \n",
    "            pil_image = Image.fromarray(face_image)\n",
    "            pil_image = pil_image.resize((new_width, new_height), Image.ANTIALIAS)\n",
    "            pil_image = pil_image.convert('L')\n",
    "            #pil_image.save('data//with_mask//resized//' + str(cnt) + '_' +str(cnt2)+  '.jpg')\n",
    "            pil_image.save('val//without_mask//face_crop//' + image_file_name + 'val' +str(cnt2)+  '.jpg' )\n",
    "            \n",
    "print(cnt)            \n",
    "            "
   ]
  },
  {
   "cell_type": "code",
   "execution_count": null,
   "metadata": {},
   "outputs": [],
   "source": []
  }
 ],
 "metadata": {
  "kernelspec": {
   "display_name": "Python 3",
   "language": "python",
   "name": "python3"
  },
  "language_info": {
   "codemirror_mode": {
    "name": "ipython",
    "version": 3
   },
   "file_extension": ".py",
   "mimetype": "text/x-python",
   "name": "python",
   "nbconvert_exporter": "python",
   "pygments_lexer": "ipython3",
   "version": "3.7.4"
  }
 },
 "nbformat": 4,
 "nbformat_minor": 2
}
