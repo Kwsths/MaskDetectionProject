{
 "cells": [
  {
   "cell_type": "code",
   "execution_count": 2,
   "metadata": {},
   "outputs": [],
   "source": [
    "import sys\n",
    "import shutil\n",
    "from io import BytesIO\n",
    "from pathlib import Path\n",
    "from typing import Tuple, List\n",
    "import os\n",
    "\n",
    "import IPython.display\n",
    "import PIL.Image\n",
    "from tensorflow.keras.preprocessing import image\n",
    "\n",
    "import math\n",
    "import numpy as np\n",
    "import pandas as pd\n",
    "import seaborn as sns\n",
    "from matplotlib import pyplot as plt\n",
    "from skimage.io import imread\n",
    "from skimage.measure import block_reduce\n",
    "from sklearn.metrics import roc_auc_score\n",
    "\n",
    "from tensorflow.python.keras.layers import Dense, Dropout, Flatten, Conv2D, MaxPooling2D\n",
    "from tensorflow.python.keras.models import Sequential, model_from_json\n",
    "from tensorflow.python.keras.utils import np_utils\n",
    "\n",
    "from sklearn.model_selection import train_test_split\n",
    "from sklearn.metrics import confusion_matrix\n",
    "from sklearn.metrics import roc_curve, auc"
   ]
  },
  {
   "cell_type": "code",
   "execution_count": 3,
   "metadata": {},
   "outputs": [],
   "source": [
    "def load_Mask_files() -> Tuple[List[Path], List[Path]]:\n",
    "    \"\"\"\n",
    "    This function discovers the positive and negative file paths for our task.\n",
    "    :return: Returns a tuple with the positive and negative paths\n",
    "    \"\"\"\n",
    "\n",
    "    # neg_path = 'SMILEsmileD-master/SMILEs/negatives/negatives7/'  # does not work on all OS\n",
    "\n",
    "    # works on every OS. Old way using os.path.join()\n",
    "\n",
    "    # neg_path = os.path.join('SMILEsmileD-master',\n",
    "    #                         'SMILEs',\n",
    "    #                         'negatives',\n",
    "    #                         'negatives7')\n",
    "\n",
    "    # new way by using pathlib module.\n",
    "    neg_path = Path.cwd().joinpath('data',\n",
    "                                   'without_mask')\n",
    "\n",
    "    print(f\"Negative path: {neg_path}\")\n",
    "\n",
    "    # pos_path = 'data/with_mask/'\n",
    "\n",
    "    pos_path = Path.cwd().joinpath('data',\n",
    "                                   'with_mask')\n",
    "\n",
    "    print(f\"Positive path: {pos_path}\", end='\\n\\n')\n",
    "\n",
    "    print('Loading Negative image paths')\n",
    "\n",
    "    # negative_paths = glob.glob(os.path.join(neg_path, '*.jpg'))\n",
    "    neg_paths = list(neg_path.glob('*.jpg'))\n",
    "\n",
    "    print(f'Loaded {len(neg_paths)} Negative image examples', end='\\n\\n')\n",
    "\n",
    "    print('Loading Positive image paths')\n",
    "    # positive_paths = glob.glob(os.path.join(neg_path, '*.jpg'))\n",
    "    pos_paths = list(pos_path.glob('*.jpg'))\n",
    "\n",
    "    print(f'Loaded {len(pos_paths)} Positive image examples')\n",
    "\n",
    "    return neg_paths, pos_paths"
   ]
  },
  {
   "cell_type": "code",
   "execution_count": 4,
   "metadata": {},
   "outputs": [],
   "source": [
    "def examples_to_dataset(img_paths: List[Path],\n",
    "                        labels: List[int],\n",
    "                        block_size: int = 2,\n",
    "                        as_gray: bool = True):\n",
    "    \"\"\"\n",
    "    This function, given the img_paths loads the images from disk.\n",
    "    Also, it reduces the images size by under-sampling the pixels\n",
    "\n",
    "\n",
    "    block_size:\n",
    "    1: same size.\n",
    "    2: undersample by 2\n",
    "\n",
    "    :param img_paths: A list of Paths that define the locations of our images\n",
    "    :param labels: The labels of our images\n",
    "    :param block_size: Int. 1 stay unchanged. 2 subsample by 2 etc\n",
    "    :param as_gray:\n",
    "    :return:\n",
    "    \"\"\"\n",
    "    assert len(img_paths) == len(labels)\n",
    "\n",
    "    X = []\n",
    "    y = []\n",
    "\n",
    "    for path, label in zip(img_paths, labels):\n",
    "        # reads the image from the filepath\n",
    "        img = imread(str(path),\n",
    "                     as_gray=as_gray)\n",
    "\n",
    "        # reduces the image size by x times by taking the mean of the pixels.\n",
    "        img = block_reduce(img,\n",
    "                           block_size=(block_size,\n",
    "                                       block_size),\n",
    "                           func=np.mean)\n",
    "\n",
    "        X.append(img)\n",
    "\n",
    "        y.append(label)\n",
    "\n",
    "    return np.asarray(X), np.asarray(y)"
   ]
  },
  {
   "cell_type": "code",
   "execution_count": 7,
   "metadata": {},
   "outputs": [],
   "source": [
    "def make_mosaic(images: np.ndarray,\n",
    "                n=None,\n",
    "                nx=None,\n",
    "                ny=None,\n",
    "                w=None,\n",
    "                h=None):\n",
    "    \"\"\"\n",
    "    Creates a mosaic of images for demonstration purposes.\n",
    "\n",
    "    Should work for 1d and 2d images,\n",
    "    assumes images are square but can be overwritten\n",
    "\n",
    "    :param images:\n",
    "    :param n:\n",
    "    :param nx:\n",
    "    :param ny:\n",
    "    :param w:\n",
    "    :param h:\n",
    "    :return:\n",
    "    \"\"\"\n",
    "\n",
    "    if n is None and nx is None and ny is None:\n",
    "\n",
    "        nx, ny = find_rectangle(len(images))\n",
    "\n",
    "    else:\n",
    "        nx = n if nx is None else nx\n",
    "        ny = n if ny is None else ny\n",
    "\n",
    "    images = np.array(images)\n",
    "\n",
    "    if images.ndim == 2:  # grey scale. Only one channel\n",
    "\n",
    "        side = int(np.sqrt(len(images[0])))\n",
    "\n",
    "        h = side if h is None else h\n",
    "        w = side if w is None else w\n",
    "\n",
    "        images = images.reshape(-1, h, w)\n",
    "\n",
    "    else:\n",
    "        h = images.shape[1]\n",
    "        w = images.shape[2]\n",
    "\n",
    "    image_gen = iter(images)\n",
    "\n",
    "    mosaic = np.empty((h * ny, w * nx))\n",
    "\n",
    "    for i in range(ny):\n",
    "\n",
    "        ia = (i) * h\n",
    "        ib = (i + 1) * h\n",
    "\n",
    "        for j in range(nx):\n",
    "            ja = j * w\n",
    "            jb = (j + 1) * w\n",
    "\n",
    "            mosaic[ia:ib, ja:jb] = next(image_gen)\n",
    "\n",
    "    return mosaic"
   ]
  },
  {
   "cell_type": "code",
   "execution_count": 8,
   "metadata": {},
   "outputs": [],
   "source": [
    "def show_array(a,\n",
    "               fmt='png',\n",
    "               filename=None):\n",
    "    \"\"\"\n",
    "\n",
    "    :param a:\n",
    "    :param fmt:\n",
    "    :param filename:\n",
    "    :return:\n",
    "    \"\"\"\n",
    "\n",
    "    a = np.squeeze(a)\n",
    "    a = np.uint8(np.clip(a, 0, 255))\n",
    "\n",
    "    image_data = BytesIO()\n",
    "\n",
    "    PIL.Image.fromarray(a).save(image_data, fmt)\n",
    "\n",
    "    if filename is None:\n",
    "        IPython.display.display(IPython.display.Image(data=image_data.getvalue()))\n",
    "        plt.show()\n",
    "    else:\n",
    "\n",
    "        with open(filename, 'w') as f:\n",
    "            image_data.seek(0)\n",
    "            shutil.copyfileobj(image_data, f)"
   ]
  },
  {
   "cell_type": "code",
   "execution_count": 9,
   "metadata": {},
   "outputs": [],
   "source": [
    "def print_indicator(data,\n",
    "                    model,\n",
    "                    class_names,\n",
    "                    bar_width=50):\n",
    "    \"\"\"\n",
    "\n",
    "    :param data:\n",
    "    :param model:\n",
    "    :param class_names:\n",
    "    :param bar_width:\n",
    "    :return:\n",
    "    \"\"\"\n",
    "\n",
    "    probabilities = model.predict(np.array([data]), verbose=0)[0]\n",
    "    \n",
    "    print(['No_Mask', 'Mask'])\n",
    "    print(probabilities, end='\\n\\n')\n",
    "\n",
    "    left_count = int(probabilities[1] * bar_width)\n",
    "\n",
    "    right_count = bar_width - left_count\n",
    "\n",
    "    left_side = '-' * left_count\n",
    "\n",
    "    right_side = '-' * right_count\n",
    "\n",
    "    print(f\"{class_names[0]} {left_side}###{right_side} {class_names[1]}\")"
   ]
  },
  {
   "cell_type": "code",
   "execution_count": 10,
   "metadata": {},
   "outputs": [],
   "source": [
    "def build_model(\n",
    "        x,\n",
    "        n_classes,\n",
    "        n_filters: int = 32,\n",
    "        n_pool: int = 2,\n",
    "        n_conv: int = 3,\n",
    "        dr: float = 0.25, ):\n",
    "    \"\"\"\n",
    "\n",
    "    :param x:\n",
    "    :param n_classes:\n",
    "    :param n_filters:\n",
    "    :param n_pool:\n",
    "    :param n_conv:\n",
    "    :param dr:\n",
    "    :return:\n",
    "    \"\"\"\n",
    "    assert n_classes == 2\n",
    "\n",
    "    seq_model = Sequential()\n",
    "\n",
    "    seq_model.add(Conv2D(n_filters,\n",
    "                         (n_conv, n_conv),\n",
    "                         activation='relu',\n",
    "                         input_shape=x.shape[1:]))\n",
    "\n",
    "    seq_model.add(Conv2D(n_filters,\n",
    "                         (n_conv, n_conv),\n",
    "                         activation='relu'))\n",
    "\n",
    "    seq_model.add(MaxPooling2D(pool_size=(n_pool,\n",
    "                                          n_pool)))\n",
    "\n",
    "    seq_model.add(Dropout(dr))\n",
    "    seq_model.add(Flatten())\n",
    "\n",
    "    seq_model.add(Dense(128,\n",
    "                        activation='relu'))\n",
    "\n",
    "    seq_model.add(Dropout(dr))\n",
    "\n",
    "    seq_model.add(Dense(n_classes,\n",
    "                        activation='softmax'))\n",
    "\n",
    "    seq_model.compile(loss='categorical_crossentropy',\n",
    "                      optimizer='adam',\n",
    "                      metrics=['accuracy'])\n",
    "\n",
    "    print(seq_model.summary())\n",
    "\n",
    "    return seq_model"
   ]
  },
  {
   "cell_type": "code",
   "execution_count": 11,
   "metadata": {},
   "outputs": [],
   "source": [
    "def print_confusion_matrix(y_true,\n",
    "                           y_pred,\n",
    "                           class_names: List[str],\n",
    "                           figsize: Tuple[int, int] = (10, 7),\n",
    "                           fontsize: int = 14) -> pd.DataFrame:\n",
    "    \"\"\"\n",
    "    Prints a confusion matrix, as returned by sklearn.metrics.confusion_matrix, as a heat-map.\n",
    "\n",
    "    For something more extraordinary check this repo:\n",
    "    https://github.com/wcipriano/pretty-print-confusion-matrix\n",
    "\n",
    "\n",
    "    :param class_names:  An ordered list of class names\n",
    "    :param figsize: A 2-long tuple, the first value determining the horizontal size of the outputted\n",
    "                    figure, the second determining the vertical size. Defaults to (10,7).\n",
    "    :param fontsize: Font size for axes labels. Defaults to 14.\n",
    "    :return: The confusion matrix as a dataset\n",
    "    \"\"\"\n",
    "    conf_matrix = confusion_matrix(y_true=y_true, y_pred=y_pred)\n",
    "\n",
    "    df_cm = pd.DataFrame(conf_matrix, index=class_names, columns=class_names)\n",
    "\n",
    "    fig = plt.figure(figsize=figsize)\n",
    "\n",
    "    try:\n",
    "        heatmap = sns.heatmap(df_cm, annot=True, fmt=\"d\")\n",
    "\n",
    "    except ValueError:\n",
    "\n",
    "        raise ValueError(\"Confusion matrix values must be integers.\")\n",
    "\n",
    "    heatmap.yaxis.set_ticklabels(heatmap.yaxis.get_ticklabels(),\n",
    "                                 rotation=0,\n",
    "                                 ha='right',\n",
    "                                 fontsize=fontsize)\n",
    "\n",
    "    heatmap.xaxis.set_ticklabels(heatmap.xaxis.get_ticklabels(),\n",
    "                                 rotation=45,\n",
    "                                 ha='right',\n",
    "                                 fontsize=fontsize)\n",
    "\n",
    "    plt.ylabel('True label')\n",
    "    plt.xlabel('Predicted label')\n",
    "    plt.show()\n",
    "\n",
    "    return df_cm"
   ]
  },
  {
   "cell_type": "code",
   "execution_count": 12,
   "metadata": {},
   "outputs": [
    {
     "name": "stdout",
     "output_type": "stream",
     "text": [
      "Negative path: /home/vaggelis/PycharmProjects/pythonProject/data/without_mask\n",
      "Positive path: /home/vaggelis/PycharmProjects/pythonProject/data/with_mask\n",
      "\n",
      "Loading Negative image paths\n",
      "Loaded 3349 Negative image examples\n",
      "\n",
      "Loading Positive image paths\n",
      "Loaded 3186 Positive image examples\n"
     ]
    }
   ],
   "source": [
    "# loading from disk the positive and negative paths \n",
    "negative_paths, positive_paths = load_Mask_files()"
   ]
  },
  {
   "cell_type": "code",
   "execution_count": 13,
   "metadata": {},
   "outputs": [],
   "source": [
    "# concatenating all the image paths\n",
    "image_paths = negative_paths + positive_paths\n",
    "    \n",
    "# creating the Y targets for the negative and positive paths\n",
    "image_labels = [0] * len(negative_paths) + [1] * len(positive_paths)"
   ]
  },
  {
   "cell_type": "code",
   "execution_count": 14,
   "metadata": {},
   "outputs": [
    {
     "data": {
      "text/plain": [
       "[PosixPath('/home/vaggelis/PycharmProjects/pythonProject/data/without_mask/1108.jpg1.jpg'),\n",
       " PosixPath('/home/vaggelis/PycharmProjects/pythonProject/data/without_mask/497.jpg1.jpg'),\n",
       " PosixPath('/home/vaggelis/PycharmProjects/pythonProject/data/without_mask/1032.jpgval1.jpg'),\n",
       " PosixPath('/home/vaggelis/PycharmProjects/pythonProject/data/without_mask/553.jpg1.jpg'),\n",
       " PosixPath('/home/vaggelis/PycharmProjects/pythonProject/data/without_mask/1374.jpg1.jpg'),\n",
       " PosixPath('/home/vaggelis/PycharmProjects/pythonProject/data/without_mask/1496.jpg1.jpg'),\n",
       " PosixPath('/home/vaggelis/PycharmProjects/pythonProject/data/without_mask/1610.jpg1.jpg'),\n",
       " PosixPath('/home/vaggelis/PycharmProjects/pythonProject/data/without_mask/107.jpg1.jpg'),\n",
       " PosixPath('/home/vaggelis/PycharmProjects/pythonProject/data/without_mask/1166.jpgval1.jpg'),\n",
       " PosixPath('/home/vaggelis/PycharmProjects/pythonProject/data/without_mask/1341.jpgval1.jpg'),\n",
       " PosixPath('/home/vaggelis/PycharmProjects/pythonProject/data/without_mask/683.jpgval1.jpg'),\n",
       " PosixPath('/home/vaggelis/PycharmProjects/pythonProject/data/without_mask/901.jpg1.jpg'),\n",
       " PosixPath('/home/vaggelis/PycharmProjects/pythonProject/data/without_mask/1541.jpg1.jpg'),\n",
       " PosixPath('/home/vaggelis/PycharmProjects/pythonProject/data/without_mask/1284.jpgval1.jpg'),\n",
       " PosixPath('/home/vaggelis/PycharmProjects/pythonProject/data/without_mask/1571.jpg1.jpg'),\n",
       " PosixPath('/home/vaggelis/PycharmProjects/pythonProject/data/without_mask/1166.jpg1.jpg'),\n",
       " PosixPath('/home/vaggelis/PycharmProjects/pythonProject/data/without_mask/1036.jpgval1.jpg'),\n",
       " PosixPath('/home/vaggelis/PycharmProjects/pythonProject/data/without_mask/33.jpgval1.jpg'),\n",
       " PosixPath('/home/vaggelis/PycharmProjects/pythonProject/data/without_mask/793.jpg1.jpg'),\n",
       " PosixPath('/home/vaggelis/PycharmProjects/pythonProject/data/without_mask/1362.jpg2.jpg'),\n",
       " PosixPath('/home/vaggelis/PycharmProjects/pythonProject/data/without_mask/549.jpgval1.jpg'),\n",
       " PosixPath('/home/vaggelis/PycharmProjects/pythonProject/data/without_mask/782.jpg1.jpg'),\n",
       " PosixPath('/home/vaggelis/PycharmProjects/pythonProject/data/without_mask/1068.jpgval1.jpg'),\n",
       " PosixPath('/home/vaggelis/PycharmProjects/pythonProject/data/without_mask/1201.jpgval1.jpg'),\n",
       " PosixPath('/home/vaggelis/PycharmProjects/pythonProject/data/without_mask/1425.jpgval1.jpg'),\n",
       " PosixPath('/home/vaggelis/PycharmProjects/pythonProject/data/without_mask/105.jpgval1.jpg'),\n",
       " PosixPath('/home/vaggelis/PycharmProjects/pythonProject/data/without_mask/366.jpgval1.jpg'),\n",
       " PosixPath('/home/vaggelis/PycharmProjects/pythonProject/data/without_mask/525.jpgval1.jpg'),\n",
       " PosixPath('/home/vaggelis/PycharmProjects/pythonProject/data/without_mask/382.jpg1.jpg'),\n",
       " PosixPath('/home/vaggelis/PycharmProjects/pythonProject/data/without_mask/2519.jpg1.jpg'),\n",
       " PosixPath('/home/vaggelis/PycharmProjects/pythonProject/data/without_mask/1937.jpg1.jpg'),\n",
       " PosixPath('/home/vaggelis/PycharmProjects/pythonProject/data/without_mask/284.jpgval1.jpg'),\n",
       " PosixPath('/home/vaggelis/PycharmProjects/pythonProject/data/without_mask/274.jpg1.jpg'),\n",
       " PosixPath('/home/vaggelis/PycharmProjects/pythonProject/data/without_mask/646.jpgval1.jpg'),\n",
       " PosixPath('/home/vaggelis/PycharmProjects/pythonProject/data/without_mask/594.jpgval1.jpg'),\n",
       " PosixPath('/home/vaggelis/PycharmProjects/pythonProject/data/without_mask/1073.jpgval1.jpg'),\n",
       " PosixPath('/home/vaggelis/PycharmProjects/pythonProject/data/without_mask/381.jpg1.jpg'),\n",
       " PosixPath('/home/vaggelis/PycharmProjects/pythonProject/data/without_mask/893.jpgval1.jpg'),\n",
       " PosixPath('/home/vaggelis/PycharmProjects/pythonProject/data/without_mask/94.jpgval1.jpg'),\n",
       " PosixPath('/home/vaggelis/PycharmProjects/pythonProject/data/without_mask/960.jpg1.jpg'),\n",
       " PosixPath('/home/vaggelis/PycharmProjects/pythonProject/data/without_mask/76.jpg1.jpg'),\n",
       " PosixPath('/home/vaggelis/PycharmProjects/pythonProject/data/without_mask/313.jpgval1.jpg'),\n",
       " PosixPath('/home/vaggelis/PycharmProjects/pythonProject/data/without_mask/797.jpg1.jpg'),\n",
       " PosixPath('/home/vaggelis/PycharmProjects/pythonProject/data/without_mask/1991.jpg1.jpg'),\n",
       " PosixPath('/home/vaggelis/PycharmProjects/pythonProject/data/without_mask/167.jpgval1.jpg'),\n",
       " PosixPath('/home/vaggelis/PycharmProjects/pythonProject/data/without_mask/1358.jpg2.jpg'),\n",
       " PosixPath('/home/vaggelis/PycharmProjects/pythonProject/data/without_mask/932.jpgval1.jpg'),\n",
       " PosixPath('/home/vaggelis/PycharmProjects/pythonProject/data/without_mask/1542.jpg1.jpg'),\n",
       " PosixPath('/home/vaggelis/PycharmProjects/pythonProject/data/without_mask/353.jpgval1.jpg'),\n",
       " PosixPath('/home/vaggelis/PycharmProjects/pythonProject/data/without_mask/1859.jpg1.jpg'),\n",
       " PosixPath('/home/vaggelis/PycharmProjects/pythonProject/data/without_mask/816.jpg1.jpg'),\n",
       " PosixPath('/home/vaggelis/PycharmProjects/pythonProject/data/without_mask/849.jpgval1.jpg'),\n",
       " PosixPath('/home/vaggelis/PycharmProjects/pythonProject/data/without_mask/1980.jpg1.jpg'),\n",
       " PosixPath('/home/vaggelis/PycharmProjects/pythonProject/data/without_mask/1155.jpg1.jpg'),\n",
       " PosixPath('/home/vaggelis/PycharmProjects/pythonProject/data/without_mask/1444.jpg1.jpg'),\n",
       " PosixPath('/home/vaggelis/PycharmProjects/pythonProject/data/without_mask/177.jpgval1.jpg'),\n",
       " PosixPath('/home/vaggelis/PycharmProjects/pythonProject/data/without_mask/1829.jpg1.jpg'),\n",
       " PosixPath('/home/vaggelis/PycharmProjects/pythonProject/data/without_mask/664.jpgval1.jpg'),\n",
       " PosixPath('/home/vaggelis/PycharmProjects/pythonProject/data/without_mask/83.jpgval1.jpg'),\n",
       " PosixPath('/home/vaggelis/PycharmProjects/pythonProject/data/without_mask/930.jpg1.jpg'),\n",
       " PosixPath('/home/vaggelis/PycharmProjects/pythonProject/data/without_mask/1291.jpg2.jpg'),\n",
       " PosixPath('/home/vaggelis/PycharmProjects/pythonProject/data/without_mask/818.jpgval1.jpg'),\n",
       " PosixPath('/home/vaggelis/PycharmProjects/pythonProject/data/without_mask/653.jpgval1.jpg'),\n",
       " PosixPath('/home/vaggelis/PycharmProjects/pythonProject/data/without_mask/1420.jpg1.jpg'),\n",
       " PosixPath('/home/vaggelis/PycharmProjects/pythonProject/data/without_mask/493.jpg1.jpg'),\n",
       " PosixPath('/home/vaggelis/PycharmProjects/pythonProject/data/without_mask/1521.jpg1.jpg'),\n",
       " PosixPath('/home/vaggelis/PycharmProjects/pythonProject/data/without_mask/785.jpg1.jpg'),\n",
       " PosixPath('/home/vaggelis/PycharmProjects/pythonProject/data/without_mask/1116.jpg1.jpg'),\n",
       " PosixPath('/home/vaggelis/PycharmProjects/pythonProject/data/without_mask/1881.jpg1.jpg'),\n",
       " PosixPath('/home/vaggelis/PycharmProjects/pythonProject/data/without_mask/1561.jpg1.jpg'),\n",
       " PosixPath('/home/vaggelis/PycharmProjects/pythonProject/data/without_mask/1402.jpg1.jpg'),\n",
       " PosixPath('/home/vaggelis/PycharmProjects/pythonProject/data/without_mask/1029.jpgval1.jpg'),\n",
       " PosixPath('/home/vaggelis/PycharmProjects/pythonProject/data/without_mask/2049.jpg1.jpg'),\n",
       " PosixPath('/home/vaggelis/PycharmProjects/pythonProject/data/without_mask/134.jpgval1.jpg'),\n",
       " PosixPath('/home/vaggelis/PycharmProjects/pythonProject/data/without_mask/491.jpgval1.jpg'),\n",
       " PosixPath('/home/vaggelis/PycharmProjects/pythonProject/data/without_mask/724.jpgval1.jpg'),\n",
       " PosixPath('/home/vaggelis/PycharmProjects/pythonProject/data/without_mask/2064.jpg1.jpg'),\n",
       " PosixPath('/home/vaggelis/PycharmProjects/pythonProject/data/without_mask/432.jpgval1.jpg'),\n",
       " PosixPath('/home/vaggelis/PycharmProjects/pythonProject/data/without_mask/1931.jpg1.jpg'),\n",
       " PosixPath('/home/vaggelis/PycharmProjects/pythonProject/data/without_mask/1390.jpg1.jpg'),\n",
       " PosixPath('/home/vaggelis/PycharmProjects/pythonProject/data/without_mask/2088.jpg1.jpg'),\n",
       " PosixPath('/home/vaggelis/PycharmProjects/pythonProject/data/without_mask/1582.jpg1.jpg'),\n",
       " PosixPath('/home/vaggelis/PycharmProjects/pythonProject/data/without_mask/1101.jpg1.jpg'),\n",
       " PosixPath('/home/vaggelis/PycharmProjects/pythonProject/data/without_mask/123.jpg1.jpg'),\n",
       " PosixPath('/home/vaggelis/PycharmProjects/pythonProject/data/without_mask/1083.jpgval1.jpg'),\n",
       " PosixPath('/home/vaggelis/PycharmProjects/pythonProject/data/without_mask/686.jpgval1.jpg'),\n",
       " PosixPath('/home/vaggelis/PycharmProjects/pythonProject/data/without_mask/1323.jpgval1.jpg'),\n",
       " PosixPath('/home/vaggelis/PycharmProjects/pythonProject/data/without_mask/2147.jpg1.jpg'),\n",
       " PosixPath('/home/vaggelis/PycharmProjects/pythonProject/data/without_mask/744.jpg1.jpg'),\n",
       " PosixPath('/home/vaggelis/PycharmProjects/pythonProject/data/without_mask/1397.jpgval1.jpg'),\n",
       " PosixPath('/home/vaggelis/PycharmProjects/pythonProject/data/without_mask/266.jpgval1.jpg'),\n",
       " PosixPath('/home/vaggelis/PycharmProjects/pythonProject/data/without_mask/507.jpg1.jpg'),\n",
       " PosixPath('/home/vaggelis/PycharmProjects/pythonProject/data/without_mask/598.jpg1.jpg'),\n",
       " PosixPath('/home/vaggelis/PycharmProjects/pythonProject/data/without_mask/647.jpgval1.jpg'),\n",
       " PosixPath('/home/vaggelis/PycharmProjects/pythonProject/data/without_mask/1804.jpg1.jpg'),\n",
       " PosixPath('/home/vaggelis/PycharmProjects/pythonProject/data/without_mask/812.jpgval1.jpg'),\n",
       " PosixPath('/home/vaggelis/PycharmProjects/pythonProject/data/without_mask/1332.jpg1.jpg'),\n",
       " PosixPath('/home/vaggelis/PycharmProjects/pythonProject/data/without_mask/67.jpg1.jpg'),\n",
       " PosixPath('/home/vaggelis/PycharmProjects/pythonProject/data/without_mask/1431.jpgval1.jpg'),\n",
       " PosixPath('/home/vaggelis/PycharmProjects/pythonProject/data/without_mask/916.jpg1.jpg'),\n",
       " PosixPath('/home/vaggelis/PycharmProjects/pythonProject/data/without_mask/757.jpgval1.jpg'),\n",
       " PosixPath('/home/vaggelis/PycharmProjects/pythonProject/data/without_mask/1800.jpg1.jpg'),\n",
       " PosixPath('/home/vaggelis/PycharmProjects/pythonProject/data/without_mask/1534.jpg1.jpg'),\n",
       " PosixPath('/home/vaggelis/PycharmProjects/pythonProject/data/without_mask/1316.jpg1.jpg'),\n",
       " PosixPath('/home/vaggelis/PycharmProjects/pythonProject/data/without_mask/153.jpg1.jpg'),\n",
       " PosixPath('/home/vaggelis/PycharmProjects/pythonProject/data/without_mask/18.jpgval1.jpg'),\n",
       " PosixPath('/home/vaggelis/PycharmProjects/pythonProject/data/without_mask/588.jpgval1.jpg'),\n",
       " PosixPath('/home/vaggelis/PycharmProjects/pythonProject/data/without_mask/755.jpgval1.jpg'),\n",
       " PosixPath('/home/vaggelis/PycharmProjects/pythonProject/data/without_mask/1148.jpg1.jpg'),\n",
       " PosixPath('/home/vaggelis/PycharmProjects/pythonProject/data/without_mask/88.jpgval1.jpg'),\n",
       " PosixPath('/home/vaggelis/PycharmProjects/pythonProject/data/without_mask/993.jpg1.jpg'),\n",
       " PosixPath('/home/vaggelis/PycharmProjects/pythonProject/data/without_mask/416.jpgval1.jpg'),\n",
       " PosixPath('/home/vaggelis/PycharmProjects/pythonProject/data/without_mask/584.jpg1.jpg'),\n",
       " PosixPath('/home/vaggelis/PycharmProjects/pythonProject/data/without_mask/872.jpgval1.jpg'),\n",
       " PosixPath('/home/vaggelis/PycharmProjects/pythonProject/data/without_mask/217.jpgval1.jpg'),\n",
       " PosixPath('/home/vaggelis/PycharmProjects/pythonProject/data/without_mask/971.jpgval1.jpg'),\n",
       " PosixPath('/home/vaggelis/PycharmProjects/pythonProject/data/without_mask/1693.jpg1.jpg'),\n",
       " PosixPath('/home/vaggelis/PycharmProjects/pythonProject/data/without_mask/945.jpgval1.jpg'),\n",
       " PosixPath('/home/vaggelis/PycharmProjects/pythonProject/data/without_mask/550.jpg1.jpg'),\n",
       " PosixPath('/home/vaggelis/PycharmProjects/pythonProject/data/without_mask/35.jpgval1.jpg'),\n",
       " PosixPath('/home/vaggelis/PycharmProjects/pythonProject/data/without_mask/932.jpg1.jpg'),\n",
       " PosixPath('/home/vaggelis/PycharmProjects/pythonProject/data/without_mask/947.jpg1.jpg'),\n",
       " PosixPath('/home/vaggelis/PycharmProjects/pythonProject/data/without_mask/494.jpgval1.jpg'),\n",
       " PosixPath('/home/vaggelis/PycharmProjects/pythonProject/data/without_mask/1058.jpgval1.jpg'),\n",
       " PosixPath('/home/vaggelis/PycharmProjects/pythonProject/data/without_mask/459.jpgval1.jpg'),\n",
       " PosixPath('/home/vaggelis/PycharmProjects/pythonProject/data/without_mask/1052.jpg1.jpg'),\n",
       " PosixPath('/home/vaggelis/PycharmProjects/pythonProject/data/without_mask/1113.jpg1.jpg'),\n",
       " PosixPath('/home/vaggelis/PycharmProjects/pythonProject/data/without_mask/885.jpg1.jpg'),\n",
       " PosixPath('/home/vaggelis/PycharmProjects/pythonProject/data/without_mask/195.jpg1.jpg'),\n",
       " PosixPath('/home/vaggelis/PycharmProjects/pythonProject/data/without_mask/1371.jpgval2.jpg'),\n",
       " PosixPath('/home/vaggelis/PycharmProjects/pythonProject/data/without_mask/1304.jpgval1.jpg'),\n",
       " PosixPath('/home/vaggelis/PycharmProjects/pythonProject/data/without_mask/160.jpgval1.jpg'),\n",
       " PosixPath('/home/vaggelis/PycharmProjects/pythonProject/data/without_mask/1772.jpg1.jpg'),\n",
       " PosixPath('/home/vaggelis/PycharmProjects/pythonProject/data/without_mask/235.jpgval1.jpg'),\n",
       " PosixPath('/home/vaggelis/PycharmProjects/pythonProject/data/without_mask/570.jpgval1.jpg'),\n",
       " PosixPath('/home/vaggelis/PycharmProjects/pythonProject/data/without_mask/1044.jpg2.jpg'),\n",
       " PosixPath('/home/vaggelis/PycharmProjects/pythonProject/data/without_mask/218.jpg1.jpg'),\n",
       " PosixPath('/home/vaggelis/PycharmProjects/pythonProject/data/without_mask/73.jpg1.jpg'),\n",
       " PosixPath('/home/vaggelis/PycharmProjects/pythonProject/data/without_mask/1492.jpg1.jpg'),\n",
       " PosixPath('/home/vaggelis/PycharmProjects/pythonProject/data/without_mask/1988.jpg1.jpg'),\n",
       " PosixPath('/home/vaggelis/PycharmProjects/pythonProject/data/without_mask/1363.jpgval1.jpg'),\n",
       " PosixPath('/home/vaggelis/PycharmProjects/pythonProject/data/without_mask/735.jpg1.jpg'),\n",
       " PosixPath('/home/vaggelis/PycharmProjects/pythonProject/data/without_mask/1374.jpgval1.jpg'),\n",
       " PosixPath('/home/vaggelis/PycharmProjects/pythonProject/data/without_mask/1667.jpg1.jpg'),\n",
       " PosixPath('/home/vaggelis/PycharmProjects/pythonProject/data/without_mask/237.jpg1.jpg'),\n",
       " PosixPath('/home/vaggelis/PycharmProjects/pythonProject/data/without_mask/1036.jpg1.jpg'),\n",
       " PosixPath('/home/vaggelis/PycharmProjects/pythonProject/data/without_mask/499.jpg1.jpg'),\n",
       " PosixPath('/home/vaggelis/PycharmProjects/pythonProject/data/without_mask/583.jpgval1.jpg'),\n",
       " PosixPath('/home/vaggelis/PycharmProjects/pythonProject/data/without_mask/1894.jpg1.jpg'),\n",
       " PosixPath('/home/vaggelis/PycharmProjects/pythonProject/data/without_mask/1192.jpg2.jpg'),\n",
       " PosixPath('/home/vaggelis/PycharmProjects/pythonProject/data/without_mask/1179.jpgval1.jpg'),\n",
       " PosixPath('/home/vaggelis/PycharmProjects/pythonProject/data/without_mask/453.jpg1.jpg'),\n",
       " PosixPath('/home/vaggelis/PycharmProjects/pythonProject/data/without_mask/2125.jpg1.jpg'),\n",
       " PosixPath('/home/vaggelis/PycharmProjects/pythonProject/data/without_mask/16.jpg1.jpg'),\n",
       " PosixPath('/home/vaggelis/PycharmProjects/pythonProject/data/without_mask/1011.jpgval1.jpg'),\n",
       " PosixPath('/home/vaggelis/PycharmProjects/pythonProject/data/without_mask/452.jpg1.jpg'),\n",
       " PosixPath('/home/vaggelis/PycharmProjects/pythonProject/data/without_mask/1296.jpgval1.jpg'),\n",
       " PosixPath('/home/vaggelis/PycharmProjects/pythonProject/data/without_mask/71.jpgval1.jpg'),\n",
       " PosixPath('/home/vaggelis/PycharmProjects/pythonProject/data/without_mask/112.jpgval1.jpg'),\n",
       " PosixPath('/home/vaggelis/PycharmProjects/pythonProject/data/without_mask/102.jpg1.jpg'),\n",
       " PosixPath('/home/vaggelis/PycharmProjects/pythonProject/data/without_mask/1429.jpgval1.jpg'),\n",
       " PosixPath('/home/vaggelis/PycharmProjects/pythonProject/data/without_mask/72.jpg1.jpg'),\n",
       " PosixPath('/home/vaggelis/PycharmProjects/pythonProject/data/without_mask/978.jpgval1.jpg'),\n",
       " PosixPath('/home/vaggelis/PycharmProjects/pythonProject/data/without_mask/621.jpg1.jpg'),\n",
       " PosixPath('/home/vaggelis/PycharmProjects/pythonProject/data/without_mask/307.jpg1.jpg'),\n",
       " PosixPath('/home/vaggelis/PycharmProjects/pythonProject/data/without_mask/2099.jpg1.jpg'),\n",
       " PosixPath('/home/vaggelis/PycharmProjects/pythonProject/data/without_mask/3759.jpg1.jpg'),\n",
       " PosixPath('/home/vaggelis/PycharmProjects/pythonProject/data/without_mask/1699.jpg1.jpg'),\n",
       " PosixPath('/home/vaggelis/PycharmProjects/pythonProject/data/without_mask/1261.jpgval1.jpg'),\n",
       " PosixPath('/home/vaggelis/PycharmProjects/pythonProject/data/without_mask/1729.jpg1.jpg'),\n",
       " PosixPath('/home/vaggelis/PycharmProjects/pythonProject/data/without_mask/1239.jpg1.jpg'),\n",
       " PosixPath('/home/vaggelis/PycharmProjects/pythonProject/data/without_mask/764.jpgval1.jpg'),\n",
       " PosixPath('/home/vaggelis/PycharmProjects/pythonProject/data/without_mask/767.jpgval1.jpg'),\n",
       " PosixPath('/home/vaggelis/PycharmProjects/pythonProject/data/without_mask/1185.jpgval1.jpg'),\n",
       " PosixPath('/home/vaggelis/PycharmProjects/pythonProject/data/without_mask/574.jpg1.jpg'),\n",
       " PosixPath('/home/vaggelis/PycharmProjects/pythonProject/data/without_mask/649.jpgval1.jpg'),\n",
       " PosixPath('/home/vaggelis/PycharmProjects/pythonProject/data/without_mask/1395.jpg1.jpg'),\n",
       " PosixPath('/home/vaggelis/PycharmProjects/pythonProject/data/without_mask/638.jpg1.jpg'),\n",
       " PosixPath('/home/vaggelis/PycharmProjects/pythonProject/data/without_mask/1278.jpgval1.jpg'),\n",
       " PosixPath('/home/vaggelis/PycharmProjects/pythonProject/data/without_mask/115.jpgval1.jpg'),\n",
       " PosixPath('/home/vaggelis/PycharmProjects/pythonProject/data/without_mask/461.jpg1.jpg'),\n",
       " PosixPath('/home/vaggelis/PycharmProjects/pythonProject/data/without_mask/170.jpgval1.jpg'),\n",
       " PosixPath('/home/vaggelis/PycharmProjects/pythonProject/data/without_mask/443.jpg1.jpg'),\n",
       " PosixPath('/home/vaggelis/PycharmProjects/pythonProject/data/without_mask/1105.jpg1.jpg'),\n",
       " PosixPath('/home/vaggelis/PycharmProjects/pythonProject/data/without_mask/118.jpgval1.jpg'),\n",
       " PosixPath('/home/vaggelis/PycharmProjects/pythonProject/data/without_mask/1088.jpgval1.jpg'),\n",
       " PosixPath('/home/vaggelis/PycharmProjects/pythonProject/data/without_mask/528.jpg1.jpg'),\n",
       " PosixPath('/home/vaggelis/PycharmProjects/pythonProject/data/without_mask/1995.jpg1.jpg'),\n",
       " PosixPath('/home/vaggelis/PycharmProjects/pythonProject/data/without_mask/778.jpgval1.jpg'),\n",
       " PosixPath('/home/vaggelis/PycharmProjects/pythonProject/data/without_mask/866.jpgval1.jpg'),\n",
       " PosixPath('/home/vaggelis/PycharmProjects/pythonProject/data/without_mask/415.jpgval1.jpg'),\n",
       " PosixPath('/home/vaggelis/PycharmProjects/pythonProject/data/without_mask/1546.jpg1.jpg'),\n",
       " PosixPath('/home/vaggelis/PycharmProjects/pythonProject/data/without_mask/239.jpgval1.jpg'),\n",
       " PosixPath('/home/vaggelis/PycharmProjects/pythonProject/data/without_mask/490.jpg1.jpg'),\n",
       " PosixPath('/home/vaggelis/PycharmProjects/pythonProject/data/without_mask/1062.jpgval1.jpg'),\n",
       " PosixPath('/home/vaggelis/PycharmProjects/pythonProject/data/without_mask/1055.jpg1.jpg'),\n",
       " PosixPath('/home/vaggelis/PycharmProjects/pythonProject/data/without_mask/1104.jpg1.jpg'),\n",
       " PosixPath('/home/vaggelis/PycharmProjects/pythonProject/data/without_mask/316.jpgval1.jpg'),\n",
       " PosixPath('/home/vaggelis/PycharmProjects/pythonProject/data/without_mask/1279.jpg1.jpg'),\n",
       " PosixPath('/home/vaggelis/PycharmProjects/pythonProject/data/without_mask/619.jpg1.jpg'),\n",
       " PosixPath('/home/vaggelis/PycharmProjects/pythonProject/data/without_mask/304.jpgval1.jpg'),\n",
       " PosixPath('/home/vaggelis/PycharmProjects/pythonProject/data/without_mask/625.jpg1.jpg'),\n",
       " PosixPath('/home/vaggelis/PycharmProjects/pythonProject/data/without_mask/1437.jpg1.jpg'),\n",
       " PosixPath('/home/vaggelis/PycharmProjects/pythonProject/data/without_mask/696.jpg1.jpg'),\n",
       " PosixPath('/home/vaggelis/PycharmProjects/pythonProject/data/without_mask/726.jpgval1.jpg'),\n",
       " PosixPath('/home/vaggelis/PycharmProjects/pythonProject/data/without_mask/421.jpgval1.jpg'),\n",
       " PosixPath('/home/vaggelis/PycharmProjects/pythonProject/data/without_mask/17.jpgval1.jpg'),\n",
       " PosixPath('/home/vaggelis/PycharmProjects/pythonProject/data/without_mask/1160.jpgval1.jpg'),\n",
       " PosixPath('/home/vaggelis/PycharmProjects/pythonProject/data/without_mask/318.jpg1.jpg'),\n",
       " PosixPath('/home/vaggelis/PycharmProjects/pythonProject/data/without_mask/614.jpg1.jpg'),\n",
       " PosixPath('/home/vaggelis/PycharmProjects/pythonProject/data/without_mask/492.jpg1.jpg'),\n",
       " PosixPath('/home/vaggelis/PycharmProjects/pythonProject/data/without_mask/956.jpg1.jpg'),\n",
       " PosixPath('/home/vaggelis/PycharmProjects/pythonProject/data/without_mask/946.jpg1.jpg'),\n",
       " PosixPath('/home/vaggelis/PycharmProjects/pythonProject/data/without_mask/463.jpg1.jpg'),\n",
       " PosixPath('/home/vaggelis/PycharmProjects/pythonProject/data/without_mask/275.jpgval1.jpg'),\n",
       " PosixPath('/home/vaggelis/PycharmProjects/pythonProject/data/without_mask/615.jpgval1.jpg'),\n",
       " PosixPath('/home/vaggelis/PycharmProjects/pythonProject/data/without_mask/839.jpgval1.jpg'),\n",
       " PosixPath('/home/vaggelis/PycharmProjects/pythonProject/data/without_mask/736.jpg1.jpg'),\n",
       " PosixPath('/home/vaggelis/PycharmProjects/pythonProject/data/without_mask/1045.jpg1.jpg'),\n",
       " PosixPath('/home/vaggelis/PycharmProjects/pythonProject/data/without_mask/1127.jpgval1.jpg'),\n",
       " PosixPath('/home/vaggelis/PycharmProjects/pythonProject/data/without_mask/176.jpg1.jpg'),\n",
       " PosixPath('/home/vaggelis/PycharmProjects/pythonProject/data/without_mask/212.jpg1.jpg'),\n",
       " PosixPath('/home/vaggelis/PycharmProjects/pythonProject/data/without_mask/1139.jpg1.jpg'),\n",
       " PosixPath('/home/vaggelis/PycharmProjects/pythonProject/data/without_mask/740.jpgval1.jpg'),\n",
       " PosixPath('/home/vaggelis/PycharmProjects/pythonProject/data/without_mask/498.jpg1.jpg'),\n",
       " PosixPath('/home/vaggelis/PycharmProjects/pythonProject/data/without_mask/1177.jpgval1.jpg'),\n",
       " PosixPath('/home/vaggelis/PycharmProjects/pythonProject/data/without_mask/386.jpgval1.jpg'),\n",
       " PosixPath('/home/vaggelis/PycharmProjects/pythonProject/data/without_mask/1947.jpg1.jpg'),\n",
       " PosixPath('/home/vaggelis/PycharmProjects/pythonProject/data/without_mask/234.jpg1.jpg'),\n",
       " PosixPath('/home/vaggelis/PycharmProjects/pythonProject/data/without_mask/1291.jpgval1.jpg'),\n",
       " PosixPath('/home/vaggelis/PycharmProjects/pythonProject/data/without_mask/1786.jpg1.jpg'),\n",
       " PosixPath('/home/vaggelis/PycharmProjects/pythonProject/data/without_mask/1405.jpg1.jpg'),\n",
       " PosixPath('/home/vaggelis/PycharmProjects/pythonProject/data/without_mask/376.jpg1.jpg'),\n",
       " PosixPath('/home/vaggelis/PycharmProjects/pythonProject/data/without_mask/410.jpgval1.jpg'),\n",
       " PosixPath('/home/vaggelis/PycharmProjects/pythonProject/data/without_mask/1228.jpg1.jpg'),\n",
       " PosixPath('/home/vaggelis/PycharmProjects/pythonProject/data/without_mask/286.jpgval2.jpg'),\n",
       " PosixPath('/home/vaggelis/PycharmProjects/pythonProject/data/without_mask/2138.jpg1.jpg'),\n",
       " PosixPath('/home/vaggelis/PycharmProjects/pythonProject/data/without_mask/1637.jpggval1.jpg'),\n",
       " PosixPath('/home/vaggelis/PycharmProjects/pythonProject/data/without_mask/260.jpg1.jpg'),\n",
       " PosixPath('/home/vaggelis/PycharmProjects/pythonProject/data/without_mask/826.jpg1.jpg'),\n",
       " PosixPath('/home/vaggelis/PycharmProjects/pythonProject/data/without_mask/616.jpgval1.jpg'),\n",
       " PosixPath('/home/vaggelis/PycharmProjects/pythonProject/data/without_mask/425.jpgval1.jpg'),\n",
       " PosixPath('/home/vaggelis/PycharmProjects/pythonProject/data/without_mask/1309.jpg1.jpg'),\n",
       " PosixPath('/home/vaggelis/PycharmProjects/pythonProject/data/without_mask/486.jpgval1.jpg'),\n",
       " PosixPath('/home/vaggelis/PycharmProjects/pythonProject/data/without_mask/2085.jpg1.jpg'),\n",
       " PosixPath('/home/vaggelis/PycharmProjects/pythonProject/data/without_mask/892.jpg1.jpg'),\n",
       " PosixPath('/home/vaggelis/PycharmProjects/pythonProject/data/without_mask/13.jpg1.jpg'),\n",
       " PosixPath('/home/vaggelis/PycharmProjects/pythonProject/data/without_mask/1327.jpg1.jpg'),\n",
       " PosixPath('/home/vaggelis/PycharmProjects/pythonProject/data/without_mask/1987.jpg1.jpg'),\n",
       " PosixPath('/home/vaggelis/PycharmProjects/pythonProject/data/without_mask/1086.jpgval1.jpg'),\n",
       " PosixPath('/home/vaggelis/PycharmProjects/pythonProject/data/without_mask/284.jpg1.jpg'),\n",
       " PosixPath('/home/vaggelis/PycharmProjects/pythonProject/data/without_mask/1491.jpg1.jpg'),\n",
       " PosixPath('/home/vaggelis/PycharmProjects/pythonProject/data/without_mask/434.jpgval1.jpg'),\n",
       " PosixPath('/home/vaggelis/PycharmProjects/pythonProject/data/without_mask/227.jpg1.jpg'),\n",
       " PosixPath('/home/vaggelis/PycharmProjects/pythonProject/data/without_mask/388.jpg1.jpg'),\n",
       " PosixPath('/home/vaggelis/PycharmProjects/pythonProject/data/without_mask/714.jpgval1.jpg'),\n",
       " PosixPath('/home/vaggelis/PycharmProjects/pythonProject/data/without_mask/1806.jpg1.jpg'),\n",
       " PosixPath('/home/vaggelis/PycharmProjects/pythonProject/data/without_mask/1203.jpgval1.jpg'),\n",
       " PosixPath('/home/vaggelis/PycharmProjects/pythonProject/data/without_mask/143.jpg1.jpg'),\n",
       " PosixPath('/home/vaggelis/PycharmProjects/pythonProject/data/without_mask/1227.jpgval1.jpg'),\n",
       " PosixPath('/home/vaggelis/PycharmProjects/pythonProject/data/without_mask/1386.jpgval1.jpg'),\n",
       " PosixPath('/home/vaggelis/PycharmProjects/pythonProject/data/without_mask/687.jpgval1.jpg'),\n",
       " PosixPath('/home/vaggelis/PycharmProjects/pythonProject/data/without_mask/1457.jpg1.jpg'),\n",
       " PosixPath('/home/vaggelis/PycharmProjects/pythonProject/data/without_mask/914.jpgval1.jpg'),\n",
       " PosixPath('/home/vaggelis/PycharmProjects/pythonProject/data/without_mask/1929.jpg1.jpg'),\n",
       " PosixPath('/home/vaggelis/PycharmProjects/pythonProject/data/without_mask/373.jpgval1.jpg'),\n",
       " PosixPath('/home/vaggelis/PycharmProjects/pythonProject/data/without_mask/1253.jpg1.jpg'),\n",
       " PosixPath('/home/vaggelis/PycharmProjects/pythonProject/data/without_mask/1623.jpg1.jpg'),\n",
       " PosixPath('/home/vaggelis/PycharmProjects/pythonProject/data/without_mask/359.jpg1.jpg'),\n",
       " PosixPath('/home/vaggelis/PycharmProjects/pythonProject/data/without_mask/379.jpg1.jpg'),\n",
       " PosixPath('/home/vaggelis/PycharmProjects/pythonProject/data/without_mask/681.jpg1.jpg'),\n",
       " PosixPath('/home/vaggelis/PycharmProjects/pythonProject/data/without_mask/605.jpg1.jpg'),\n",
       " PosixPath('/home/vaggelis/PycharmProjects/pythonProject/data/without_mask/270.jpg1.jpg'),\n",
       " PosixPath('/home/vaggelis/PycharmProjects/pythonProject/data/without_mask/1511.jpg1.jpg'),\n",
       " PosixPath('/home/vaggelis/PycharmProjects/pythonProject/data/without_mask/1318.jpgval1.jpg'),\n",
       " PosixPath('/home/vaggelis/PycharmProjects/pythonProject/data/without_mask/2121.jpg1.jpg'),\n",
       " PosixPath('/home/vaggelis/PycharmProjects/pythonProject/data/without_mask/1469.jpg1.jpg'),\n",
       " PosixPath('/home/vaggelis/PycharmProjects/pythonProject/data/without_mask/1591.jpg1.jpg'),\n",
       " PosixPath('/home/vaggelis/PycharmProjects/pythonProject/data/without_mask/2133.jpg1.jpg'),\n",
       " PosixPath('/home/vaggelis/PycharmProjects/pythonProject/data/without_mask/292.jpgval1.jpg'),\n",
       " PosixPath('/home/vaggelis/PycharmProjects/pythonProject/data/without_mask/157.jpg1.jpg'),\n",
       " PosixPath('/home/vaggelis/PycharmProjects/pythonProject/data/without_mask/1538.jpg1.jpg'),\n",
       " PosixPath('/home/vaggelis/PycharmProjects/pythonProject/data/without_mask/1135.jpgval1.jpg'),\n",
       " PosixPath('/home/vaggelis/PycharmProjects/pythonProject/data/without_mask/1986.jpg2.jpg'),\n",
       " PosixPath('/home/vaggelis/PycharmProjects/pythonProject/data/without_mask/250.jpgval1.jpg'),\n",
       " PosixPath('/home/vaggelis/PycharmProjects/pythonProject/data/without_mask/283.jpgval1.jpg'),\n",
       " PosixPath('/home/vaggelis/PycharmProjects/pythonProject/data/without_mask/287.jpg1.jpg'),\n",
       " PosixPath('/home/vaggelis/PycharmProjects/pythonProject/data/without_mask/1959.jpg1.jpg'),\n",
       " PosixPath('/home/vaggelis/PycharmProjects/pythonProject/data/without_mask/981.jpgval1.jpg'),\n",
       " PosixPath('/home/vaggelis/PycharmProjects/pythonProject/data/without_mask/1380.jpgval1.jpg'),\n",
       " PosixPath('/home/vaggelis/PycharmProjects/pythonProject/data/without_mask/662.jpg1.jpg'),\n",
       " PosixPath('/home/vaggelis/PycharmProjects/pythonProject/data/without_mask/2002.jpg1.jpg'),\n",
       " PosixPath('/home/vaggelis/PycharmProjects/pythonProject/data/without_mask/876.jpg1.jpg'),\n",
       " PosixPath('/home/vaggelis/PycharmProjects/pythonProject/data/without_mask/1369.jpgval1.jpg'),\n",
       " PosixPath('/home/vaggelis/PycharmProjects/pythonProject/data/without_mask/79.jpg1.jpg'),\n",
       " PosixPath('/home/vaggelis/PycharmProjects/pythonProject/data/without_mask/1831.jpg1.jpg'),\n",
       " PosixPath('/home/vaggelis/PycharmProjects/pythonProject/data/without_mask/967.jpgval1.jpg'),\n",
       " PosixPath('/home/vaggelis/PycharmProjects/pythonProject/data/without_mask/1299.jpgval1.jpg'),\n",
       " PosixPath('/home/vaggelis/PycharmProjects/pythonProject/data/without_mask/756.jpg1.jpg'),\n",
       " PosixPath('/home/vaggelis/PycharmProjects/pythonProject/data/without_mask/1399.jpg1.jpg'),\n",
       " PosixPath('/home/vaggelis/PycharmProjects/pythonProject/data/without_mask/167.jpg1.jpg'),\n",
       " PosixPath('/home/vaggelis/PycharmProjects/pythonProject/data/without_mask/406.jpg1.jpg'),\n",
       " PosixPath('/home/vaggelis/PycharmProjects/pythonProject/data/without_mask/722.jpgval1.jpg'),\n",
       " PosixPath('/home/vaggelis/PycharmProjects/pythonProject/data/without_mask/298.jpgval1.jpg'),\n",
       " PosixPath('/home/vaggelis/PycharmProjects/pythonProject/data/without_mask/2086.jpg1.jpg'),\n",
       " PosixPath('/home/vaggelis/PycharmProjects/pythonProject/data/without_mask/233.jpg1.jpg'),\n",
       " PosixPath('/home/vaggelis/PycharmProjects/pythonProject/data/without_mask/779.jpg1.jpg'),\n",
       " PosixPath('/home/vaggelis/PycharmProjects/pythonProject/data/without_mask/1447.jpg1.jpg'),\n",
       " PosixPath('/home/vaggelis/PycharmProjects/pythonProject/data/without_mask/24.jpgval1.jpg'),\n",
       " PosixPath('/home/vaggelis/PycharmProjects/pythonProject/data/without_mask/1071.jpg1.jpg'),\n",
       " PosixPath('/home/vaggelis/PycharmProjects/pythonProject/data/without_mask/1718.jpg1.jpg'),\n",
       " PosixPath('/home/vaggelis/PycharmProjects/pythonProject/data/without_mask/15.jpgval1.jpg'),\n",
       " PosixPath('/home/vaggelis/PycharmProjects/pythonProject/data/without_mask/415.jpg1.jpg'),\n",
       " PosixPath('/home/vaggelis/PycharmProjects/pythonProject/data/without_mask/64.jpgval1.jpg'),\n",
       " PosixPath('/home/vaggelis/PycharmProjects/pythonProject/data/without_mask/1956.jpg1.jpg'),\n",
       " PosixPath('/home/vaggelis/PycharmProjects/pythonProject/data/without_mask/416.jpg1.jpg'),\n",
       " PosixPath('/home/vaggelis/PycharmProjects/pythonProject/data/without_mask/1370.jpg1.jpg'),\n",
       " PosixPath('/home/vaggelis/PycharmProjects/pythonProject/data/without_mask/441.jpg1.jpg'),\n",
       " PosixPath('/home/vaggelis/PycharmProjects/pythonProject/data/without_mask/1578.jpg1.jpg'),\n",
       " PosixPath('/home/vaggelis/PycharmProjects/pythonProject/data/without_mask/1097.jpg1.jpg'),\n",
       " PosixPath('/home/vaggelis/PycharmProjects/pythonProject/data/without_mask/1569.jpg1.jpg'),\n",
       " PosixPath('/home/vaggelis/PycharmProjects/pythonProject/data/without_mask/256.jpgval1.jpg'),\n",
       " PosixPath('/home/vaggelis/PycharmProjects/pythonProject/data/without_mask/648.jpg1.jpg'),\n",
       " PosixPath('/home/vaggelis/PycharmProjects/pythonProject/data/without_mask/553.jpgval1.jpg'),\n",
       " PosixPath('/home/vaggelis/PycharmProjects/pythonProject/data/without_mask/320.jpgval1.jpg'),\n",
       " PosixPath('/home/vaggelis/PycharmProjects/pythonProject/data/without_mask/306.jpgval1.jpg'),\n",
       " PosixPath('/home/vaggelis/PycharmProjects/pythonProject/data/without_mask/198.jpgval1.jpg'),\n",
       " PosixPath('/home/vaggelis/PycharmProjects/pythonProject/data/without_mask/1712.jpg1.jpg'),\n",
       " PosixPath('/home/vaggelis/PycharmProjects/pythonProject/data/without_mask/2131.jpg1.jpg'),\n",
       " PosixPath('/home/vaggelis/PycharmProjects/pythonProject/data/without_mask/1651.jpg1.jpg'),\n",
       " PosixPath('/home/vaggelis/PycharmProjects/pythonProject/data/without_mask/2096.jpg1.jpg'),\n",
       " PosixPath('/home/vaggelis/PycharmProjects/pythonProject/data/without_mask/1174.jpg1.jpg'),\n",
       " PosixPath('/home/vaggelis/PycharmProjects/pythonProject/data/without_mask/1222.jpgval1.jpg'),\n",
       " PosixPath('/home/vaggelis/PycharmProjects/pythonProject/data/without_mask/1244.jpg1.jpg'),\n",
       " PosixPath('/home/vaggelis/PycharmProjects/pythonProject/data/without_mask/145.jpg1.jpg'),\n",
       " PosixPath('/home/vaggelis/PycharmProjects/pythonProject/data/without_mask/1682.jpg1.jpg'),\n",
       " PosixPath('/home/vaggelis/PycharmProjects/pythonProject/data/without_mask/1821.jpg1.jpg'),\n",
       " PosixPath('/home/vaggelis/PycharmProjects/pythonProject/data/without_mask/1022.jpg1.jpg'),\n",
       " PosixPath('/home/vaggelis/PycharmProjects/pythonProject/data/without_mask/741.jpg1.jpg'),\n",
       " PosixPath('/home/vaggelis/PycharmProjects/pythonProject/data/without_mask/1167.jpgval1.jpg'),\n",
       " PosixPath('/home/vaggelis/PycharmProjects/pythonProject/data/without_mask/721.jpgval1.jpg'),\n",
       " PosixPath('/home/vaggelis/PycharmProjects/pythonProject/data/without_mask/146.jpgval1.jpg'),\n",
       " PosixPath('/home/vaggelis/PycharmProjects/pythonProject/data/without_mask/1865.jpg1.jpg'),\n",
       " PosixPath('/home/vaggelis/PycharmProjects/pythonProject/data/without_mask/18.jpg1.jpg'),\n",
       " PosixPath('/home/vaggelis/PycharmProjects/pythonProject/data/without_mask/56.jpgval1.jpg'),\n",
       " PosixPath('/home/vaggelis/PycharmProjects/pythonProject/data/without_mask/1076.jpg1.jpg'),\n",
       " PosixPath('/home/vaggelis/PycharmProjects/pythonProject/data/without_mask/1331.jpg1.jpg'),\n",
       " PosixPath('/home/vaggelis/PycharmProjects/pythonProject/data/without_mask/1359.jpgval1.jpg'),\n",
       " PosixPath('/home/vaggelis/PycharmProjects/pythonProject/data/without_mask/1854.jpg1.jpg'),\n",
       " PosixPath('/home/vaggelis/PycharmProjects/pythonProject/data/without_mask/526.jpgval1.jpg'),\n",
       " PosixPath('/home/vaggelis/PycharmProjects/pythonProject/data/without_mask/238.jpg4.jpg'),\n",
       " PosixPath('/home/vaggelis/PycharmProjects/pythonProject/data/without_mask/1252.jpgval1.jpg'),\n",
       " PosixPath('/home/vaggelis/PycharmProjects/pythonProject/data/without_mask/216.jpg1.jpg'),\n",
       " PosixPath('/home/vaggelis/PycharmProjects/pythonProject/data/without_mask/328.jpg1.jpg'),\n",
       " PosixPath('/home/vaggelis/PycharmProjects/pythonProject/data/without_mask/794.jpg1.jpg'),\n",
       " PosixPath('/home/vaggelis/PycharmProjects/pythonProject/data/without_mask/1356.jpg1.jpg'),\n",
       " PosixPath('/home/vaggelis/PycharmProjects/pythonProject/data/without_mask/1345.jpgval1.jpg'),\n",
       " PosixPath('/home/vaggelis/PycharmProjects/pythonProject/data/without_mask/324.jpg1.jpg'),\n",
       " PosixPath('/home/vaggelis/PycharmProjects/pythonProject/data/without_mask/567.jpg1.jpg'),\n",
       " PosixPath('/home/vaggelis/PycharmProjects/pythonProject/data/without_mask/1272.jpgval1.jpg'),\n",
       " PosixPath('/home/vaggelis/PycharmProjects/pythonProject/data/without_mask/1463.jpg1.jpg'),\n",
       " PosixPath('/home/vaggelis/PycharmProjects/pythonProject/data/without_mask/1051.jpgval1.jpg'),\n",
       " PosixPath('/home/vaggelis/PycharmProjects/pythonProject/data/without_mask/1565.jpg1.jpg'),\n",
       " PosixPath('/home/vaggelis/PycharmProjects/pythonProject/data/without_mask/423.jpgval1.jpg'),\n",
       " PosixPath('/home/vaggelis/PycharmProjects/pythonProject/data/without_mask/1584.jpg1.jpg'),\n",
       " PosixPath('/home/vaggelis/PycharmProjects/pythonProject/data/without_mask/281.jpg1.jpg'),\n",
       " PosixPath('/home/vaggelis/PycharmProjects/pythonProject/data/without_mask/1906.jpg1.jpg'),\n",
       " PosixPath('/home/vaggelis/PycharmProjects/pythonProject/data/without_mask/1029.jpg1.jpg'),\n",
       " PosixPath('/home/vaggelis/PycharmProjects/pythonProject/data/without_mask/1074.jpgval1.jpg'),\n",
       " PosixPath('/home/vaggelis/PycharmProjects/pythonProject/data/without_mask/1160.jpg1.jpg'),\n",
       " PosixPath('/home/vaggelis/PycharmProjects/pythonProject/data/without_mask/1594.jpg1.jpg'),\n",
       " PosixPath('/home/vaggelis/PycharmProjects/pythonProject/data/without_mask/104.jpg1.jpg'),\n",
       " PosixPath('/home/vaggelis/PycharmProjects/pythonProject/data/without_mask/291.jpgval1.jpg'),\n",
       " PosixPath('/home/vaggelis/PycharmProjects/pythonProject/data/without_mask/650.jpgval1.jpg'),\n",
       " PosixPath('/home/vaggelis/PycharmProjects/pythonProject/data/without_mask/1471.jpg1.jpg'),\n",
       " PosixPath('/home/vaggelis/PycharmProjects/pythonProject/data/without_mask/1297.jpg1.jpg'),\n",
       " PosixPath('/home/vaggelis/PycharmProjects/pythonProject/data/without_mask/171.jpg1.jpg'),\n",
       " PosixPath('/home/vaggelis/PycharmProjects/pythonProject/data/without_mask/884.jpg1.jpg'),\n",
       " PosixPath('/home/vaggelis/PycharmProjects/pythonProject/data/without_mask/1468.jpg1.jpg'),\n",
       " PosixPath('/home/vaggelis/PycharmProjects/pythonProject/data/without_mask/1525.jpgvgal1.jpg'),\n",
       " PosixPath('/home/vaggelis/PycharmProjects/pythonProject/data/without_mask/46.jpg1.jpg'),\n",
       " PosixPath('/home/vaggelis/PycharmProjects/pythonProject/data/without_mask/1113.jpgval1.jpg'),\n",
       " PosixPath('/home/vaggelis/PycharmProjects/pythonProject/data/without_mask/732.jpg1.jpg'),\n",
       " PosixPath('/home/vaggelis/PycharmProjects/pythonProject/data/without_mask/1668.jpg1.jpg'),\n",
       " PosixPath('/home/vaggelis/PycharmProjects/pythonProject/data/without_mask/873.jpg1.jpg'),\n",
       " PosixPath('/home/vaggelis/PycharmProjects/pythonProject/data/without_mask/1983.jpg1.jpg'),\n",
       " PosixPath('/home/vaggelis/PycharmProjects/pythonProject/data/without_mask/1864.jpg1.jpg'),\n",
       " PosixPath('/home/vaggelis/PycharmProjects/pythonProject/data/without_mask/692.jpg1.jpg'),\n",
       " PosixPath('/home/vaggelis/PycharmProjects/pythonProject/data/without_mask/685.jpgval1.jpg'),\n",
       " PosixPath('/home/vaggelis/PycharmProjects/pythonProject/data/without_mask/436.jpgval1.jpg'),\n",
       " PosixPath('/home/vaggelis/PycharmProjects/pythonProject/data/without_mask/1508.jpg1.jpg'),\n",
       " PosixPath('/home/vaggelis/PycharmProjects/pythonProject/data/without_mask/2033.jpg1.jpg'),\n",
       " PosixPath('/home/vaggelis/PycharmProjects/pythonProject/data/without_mask/940.jpg1.jpg'),\n",
       " PosixPath('/home/vaggelis/PycharmProjects/pythonProject/data/without_mask/615.jpg1.jpg'),\n",
       " PosixPath('/home/vaggelis/PycharmProjects/pythonProject/data/without_mask/1228.jpgval1.jpg'),\n",
       " PosixPath('/home/vaggelis/PycharmProjects/pythonProject/data/without_mask/1324.jpg1.jpg'),\n",
       " PosixPath('/home/vaggelis/PycharmProjects/pythonProject/data/without_mask/733.jpg1.jpg'),\n",
       " PosixPath('/home/vaggelis/PycharmProjects/pythonProject/data/without_mask/1.jpgval1.jpg'),\n",
       " PosixPath('/home/vaggelis/PycharmProjects/pythonProject/data/without_mask/1410.jpg1.jpg'),\n",
       " PosixPath('/home/vaggelis/PycharmProjects/pythonProject/data/without_mask/320.jpg2.jpg'),\n",
       " PosixPath('/home/vaggelis/PycharmProjects/pythonProject/data/without_mask/1998.jpg1.jpg'),\n",
       " PosixPath('/home/vaggelis/PycharmProjects/pythonProject/data/without_mask/1266.jpgval1.jpg'),\n",
       " PosixPath('/home/vaggelis/PycharmProjects/pythonProject/data/without_mask/1409.jpgval1.jpg'),\n",
       " PosixPath('/home/vaggelis/PycharmProjects/pythonProject/data/without_mask/388.jpgval1.jpg'),\n",
       " PosixPath('/home/vaggelis/PycharmProjects/pythonProject/data/without_mask/970.jpgval1.jpg'),\n",
       " PosixPath('/home/vaggelis/PycharmProjects/pythonProject/data/without_mask/1015.jpg1.jpg'),\n",
       " PosixPath('/home/vaggelis/PycharmProjects/pythonProject/data/without_mask/435.jpgval1.jpg'),\n",
       " PosixPath('/home/vaggelis/PycharmProjects/pythonProject/data/without_mask/155.jpg1.jpg'),\n",
       " PosixPath('/home/vaggelis/PycharmProjects/pythonProject/data/without_mask/1394.jpg1.jpg'),\n",
       " PosixPath('/home/vaggelis/PycharmProjects/pythonProject/data/without_mask/168.jpgval1.jpg'),\n",
       " PosixPath('/home/vaggelis/PycharmProjects/pythonProject/data/without_mask/845.jpg1.jpg'),\n",
       " PosixPath('/home/vaggelis/PycharmProjects/pythonProject/data/without_mask/1104.jpgval1.jpg'),\n",
       " PosixPath('/home/vaggelis/PycharmProjects/pythonProject/data/without_mask/1339.jpg1.jpg'),\n",
       " PosixPath('/home/vaggelis/PycharmProjects/pythonProject/data/without_mask/1539.jpg1.jpg'),\n",
       " PosixPath('/home/vaggelis/PycharmProjects/pythonProject/data/without_mask/967.jpg1.jpg'),\n",
       " PosixPath('/home/vaggelis/PycharmProjects/pythonProject/data/without_mask/1540.jpg1.jpg'),\n",
       " PosixPath('/home/vaggelis/PycharmProjects/pythonProject/data/without_mask/887.jpgval1.jpg'),\n",
       " PosixPath('/home/vaggelis/PycharmProjects/pythonProject/data/without_mask/978.jpg1.jpg'),\n",
       " PosixPath('/home/vaggelis/PycharmProjects/pythonProject/data/without_mask/224.jpgval1.jpg'),\n",
       " PosixPath('/home/vaggelis/PycharmProjects/pythonProject/data/without_mask/904.jpgval1.jpg'),\n",
       " PosixPath('/home/vaggelis/PycharmProjects/pythonProject/data/without_mask/671.jpg1.jpg'),\n",
       " PosixPath('/home/vaggelis/PycharmProjects/pythonProject/data/without_mask/571.jpg1.jpg'),\n",
       " PosixPath('/home/vaggelis/PycharmProjects/pythonProject/data/without_mask/1233.jpgval1.jpg'),\n",
       " PosixPath('/home/vaggelis/PycharmProjects/pythonProject/data/without_mask/2068.jpg1.jpg'),\n",
       " PosixPath('/home/vaggelis/PycharmProjects/pythonProject/data/without_mask/464.jpgval1.jpg'),\n",
       " PosixPath('/home/vaggelis/PycharmProjects/pythonProject/data/without_mask/1265.jpgval1.jpg'),\n",
       " PosixPath('/home/vaggelis/PycharmProjects/pythonProject/data/without_mask/1620.jp.jpg'),\n",
       " PosixPath('/home/vaggelis/PycharmProjects/pythonProject/data/without_mask/1234.jpgval1.jpg'),\n",
       " PosixPath('/home/vaggelis/PycharmProjects/pythonProject/data/without_mask/646.jpg1.jpg'),\n",
       " PosixPath('/home/vaggelis/PycharmProjects/pythonProject/data/without_mask/858.jpgval1.jpg'),\n",
       " PosixPath('/home/vaggelis/PycharmProjects/pythonProject/data/without_mask/1605.jpg1.jpg'),\n",
       " PosixPath('/home/vaggelis/PycharmProjects/pythonProject/data/without_mask/753.jpg1.jpg'),\n",
       " PosixPath('/home/vaggelis/PycharmProjects/pythonProject/data/without_mask/312.jpg1.jpg'),\n",
       " PosixPath('/home/vaggelis/PycharmProjects/pythonProject/data/without_mask/65.jpg1.jpg'),\n",
       " PosixPath('/home/vaggelis/PycharmProjects/pythonProject/data/without_mask/1764.jpg1.jpg'),\n",
       " PosixPath('/home/vaggelis/PycharmProjects/pythonProject/data/without_mask/965.jpgval1.jpg'),\n",
       " PosixPath('/home/vaggelis/PycharmProjects/pythonProject/data/without_mask/1706.jpg1.jpg'),\n",
       " PosixPath('/home/vaggelis/PycharmProjects/pythonProject/data/without_mask/2071.jpg1.jpg'),\n",
       " PosixPath('/home/vaggelis/PycharmProjects/pythonProject/data/without_mask/925.jpg1.jpg'),\n",
       " PosixPath('/home/vaggelis/PycharmProjects/pythonProject/data/without_mask/99.jpg1.jpg'),\n",
       " PosixPath('/home/vaggelis/PycharmProjects/pythonProject/data/without_mask/813.jpg1.jpg'),\n",
       " PosixPath('/home/vaggelis/PycharmProjects/pythonProject/data/without_mask/1369.jpg1.jpg'),\n",
       " PosixPath('/home/vaggelis/PycharmProjects/pythonProject/data/without_mask/453.jpgval1.jpg'),\n",
       " PosixPath('/home/vaggelis/PycharmProjects/pythonProject/data/without_mask/301.jpgval1.jpg'),\n",
       " PosixPath('/home/vaggelis/PycharmProjects/pythonProject/data/without_mask/264.jpg1.jpg'),\n",
       " PosixPath('/home/vaggelis/PycharmProjects/pythonProject/data/without_mask/442.jpg1.jpg'),\n",
       " PosixPath('/home/vaggelis/PycharmProjects/pythonProject/data/without_mask/814.jpgval1.jpg'),\n",
       " PosixPath('/home/vaggelis/PycharmProjects/pythonProject/data/without_mask/977.jpgval1.jpg'),\n",
       " PosixPath('/home/vaggelis/PycharmProjects/pythonProject/data/without_mask/1141.jpg1.jpg'),\n",
       " PosixPath('/home/vaggelis/PycharmProjects/pythonProject/data/without_mask/139.jpgval1.jpg'),\n",
       " PosixPath('/home/vaggelis/PycharmProjects/pythonProject/data/without_mask/1725.jpg1.jpg'),\n",
       " PosixPath('/home/vaggelis/PycharmProjects/pythonProject/data/without_mask/2038.jpg1.jpg'),\n",
       " PosixPath('/home/vaggelis/PycharmProjects/pythonProject/data/without_mask/333.jpg1.jpg'),\n",
       " PosixPath('/home/vaggelis/PycharmProjects/pythonProject/data/without_mask/1692.jpg1.jpg'),\n",
       " PosixPath('/home/vaggelis/PycharmProjects/pythonProject/data/without_mask/986.jpg1.jpg'),\n",
       " PosixPath('/home/vaggelis/PycharmProjects/pythonProject/data/without_mask/1070.jpgval1.jpg'),\n",
       " PosixPath('/home/vaggelis/PycharmProjects/pythonProject/data/without_mask/1636.jpg1.jpg'),\n",
       " PosixPath('/home/vaggelis/PycharmProjects/pythonProject/data/without_mask/2104.jpg1.jpg'),\n",
       " PosixPath('/home/vaggelis/PycharmProjects/pythonProject/data/without_mask/1082.jpg1.jpg'),\n",
       " PosixPath('/home/vaggelis/PycharmProjects/pythonProject/data/without_mask/146.jpg1.jpg'),\n",
       " PosixPath('/home/vaggelis/PycharmProjects/pythonProject/data/without_mask/181.jpg1.jpg'),\n",
       " PosixPath('/home/vaggelis/PycharmProjects/pythonProject/data/without_mask/1042.jpg1.jpg'),\n",
       " PosixPath('/home/vaggelis/PycharmProjects/pythonProject/data/without_mask/1025.jpgval1.jpg'),\n",
       " PosixPath('/home/vaggelis/PycharmProjects/pythonProject/data/without_mask/1304.jpg1.jpg'),\n",
       " PosixPath('/home/vaggelis/PycharmProjects/pythonProject/data/without_mask/699.jpg1.jpg'),\n",
       " PosixPath('/home/vaggelis/PycharmProjects/pythonProject/data/without_mask/645.jpgval1.jpg'),\n",
       " PosixPath('/home/vaggelis/PycharmProjects/pythonProject/data/without_mask/409.jpgval2.jpg'),\n",
       " PosixPath('/home/vaggelis/PycharmProjects/pythonProject/data/without_mask/423.jpg1.jpg'),\n",
       " PosixPath('/home/vaggelis/PycharmProjects/pythonProject/data/without_mask/841.jpg1.jpg'),\n",
       " PosixPath('/home/vaggelis/PycharmProjects/pythonProject/data/without_mask/1943.jpg1.jpg'),\n",
       " PosixPath('/home/vaggelis/PycharmProjects/pythonProject/data/without_mask/307.jpgval1.jpg'),\n",
       " PosixPath('/home/vaggelis/PycharmProjects/pythonProject/data/without_mask/352.jpg1.jpg'),\n",
       " PosixPath('/home/vaggelis/PycharmProjects/pythonProject/data/without_mask/941.jpg1.jpg'),\n",
       " PosixPath('/home/vaggelis/PycharmProjects/pythonProject/data/without_mask/644.jpg1.jpg'),\n",
       " PosixPath('/home/vaggelis/PycharmProjects/pythonProject/data/without_mask/718.jpgval1.jpg'),\n",
       " PosixPath('/home/vaggelis/PycharmProjects/pythonProject/data/without_mask/110.jpg1.jpg'),\n",
       " PosixPath('/home/vaggelis/PycharmProjects/pythonProject/data/without_mask/800.jpg1.jpg'),\n",
       " PosixPath('/home/vaggelis/PycharmProjects/pythonProject/data/without_mask/198.jpg1.jpg'),\n",
       " PosixPath('/home/vaggelis/PycharmProjects/pythonProject/data/without_mask/1812.jpg1.jpg'),\n",
       " PosixPath('/home/vaggelis/PycharmProjects/pythonProject/data/without_mask/1453.jpg1.jpg'),\n",
       " PosixPath('/home/vaggelis/PycharmProjects/pythonProject/data/without_mask/172.jpg1.jpg'),\n",
       " PosixPath('/home/vaggelis/PycharmProjects/pythonProject/data/without_mask/2015.jpg1.jpg'),\n",
       " PosixPath('/home/vaggelis/PycharmProjects/pythonProject/data/without_mask/490.jpgval1.jpg'),\n",
       " PosixPath('/home/vaggelis/PycharmProjects/pythonProject/data/without_mask/1434.jpg1.jpg'),\n",
       " PosixPath('/home/vaggelis/PycharmProjects/pythonProject/data/without_mask/1008.jpg1.jpg'),\n",
       " PosixPath('/home/vaggelis/PycharmProjects/pythonProject/data/without_mask/229.jpg1.jpg'),\n",
       " PosixPath('/home/vaggelis/PycharmProjects/pythonProject/data/without_mask/355.jpg1.jpg'),\n",
       " PosixPath('/home/vaggelis/PycharmProjects/pythonProject/data/without_mask/1416.jpg1.jpg'),\n",
       " PosixPath('/home/vaggelis/PycharmProjects/pythonProject/data/without_mask/1286.jpgval1.jpg'),\n",
       " PosixPath('/home/vaggelis/PycharmProjects/pythonProject/data/without_mask/1858.jpg1.jpg'),\n",
       " PosixPath('/home/vaggelis/PycharmProjects/pythonProject/data/without_mask/1922.jpg1.jpg'),\n",
       " PosixPath('/home/vaggelis/PycharmProjects/pythonProject/data/without_mask/496.jpgval1.jpg'),\n",
       " PosixPath('/home/vaggelis/PycharmProjects/pythonProject/data/without_mask/1114.jpgval1.jpg'),\n",
       " PosixPath('/home/vaggelis/PycharmProjects/pythonProject/data/without_mask/607.jpg1.jpg'),\n",
       " PosixPath('/home/vaggelis/PycharmProjects/pythonProject/data/without_mask/1754.jpg1.jpg'),\n",
       " PosixPath('/home/vaggelis/PycharmProjects/pythonProject/data/without_mask/729.jpg1.jpg'),\n",
       " PosixPath('/home/vaggelis/PycharmProjects/pythonProject/data/without_mask/2111.jpg1.jpg'),\n",
       " PosixPath('/home/vaggelis/PycharmProjects/pythonProject/data/without_mask/128.jpgval1.jpg'),\n",
       " PosixPath('/home/vaggelis/PycharmProjects/pythonProject/data/without_mask/602.jpg1.jpg'),\n",
       " PosixPath('/home/vaggelis/PycharmProjects/pythonProject/data/without_mask/39.1.jpg'),\n",
       " PosixPath('/home/vaggelis/PycharmProjects/pythonProject/data/without_mask/1183.jpg1.jpg'),\n",
       " PosixPath('/home/vaggelis/PycharmProjects/pythonProject/data/without_mask/278.jpgval1.jpg'),\n",
       " PosixPath('/home/vaggelis/PycharmProjects/pythonProject/data/without_mask/37.jpg1.jpg'),\n",
       " PosixPath('/home/vaggelis/PycharmProjects/pythonProject/data/without_mask/199.jpgval1.jpg'),\n",
       " PosixPath('/home/vaggelis/PycharmProjects/pythonProject/data/without_mask/493.jpgval1.jpg'),\n",
       " PosixPath('/home/vaggelis/PycharmProjects/pythonProject/data/without_mask/902.jpgval1.jpg'),\n",
       " PosixPath('/home/vaggelis/PycharmProjects/pythonProject/data/without_mask/1833.jpg1.jpg'),\n",
       " PosixPath('/home/vaggelis/PycharmProjects/pythonProject/data/without_mask/1429.jpg1.jpg'),\n",
       " PosixPath('/home/vaggelis/PycharmProjects/pythonProject/data/without_mask/1359.jpg1.jpg'),\n",
       " PosixPath('/home/vaggelis/PycharmProjects/pythonProject/data/without_mask/1133.jpgval1.jpg'),\n",
       " PosixPath('/home/vaggelis/PycharmProjects/pythonProject/data/without_mask/950.jpg1.jpg'),\n",
       " PosixPath('/home/vaggelis/PycharmProjects/pythonProject/data/without_mask/1720.jpg1.jpg'),\n",
       " PosixPath('/home/vaggelis/PycharmProjects/pythonProject/data/without_mask/1404.jpgval1.jpg'),\n",
       " PosixPath('/home/vaggelis/PycharmProjects/pythonProject/data/without_mask/1733.jpg1.jpg'),\n",
       " PosixPath('/home/vaggelis/PycharmProjects/pythonProject/data/without_mask/1400.jpg1.jpg'),\n",
       " PosixPath('/home/vaggelis/PycharmProjects/pythonProject/data/without_mask/1419.jpgval1.jpg'),\n",
       " PosixPath('/home/vaggelis/PycharmProjects/pythonProject/data/without_mask/1389.jpgval1.jpg'),\n",
       " PosixPath('/home/vaggelis/PycharmProjects/pythonProject/data/without_mask/712.jpgval1.jpg'),\n",
       " PosixPath('/home/vaggelis/PycharmProjects/pythonProject/data/without_mask/854.jpgval1.jpg'),\n",
       " PosixPath('/home/vaggelis/PycharmProjects/pythonProject/data/without_mask/402.jpg1.jpg'),\n",
       " PosixPath('/home/vaggelis/PycharmProjects/pythonProject/data/without_mask/1702.jpg1.jpg'),\n",
       " PosixPath('/home/vaggelis/PycharmProjects/pythonProject/data/without_mask/1796.jpg1.jpg'),\n",
       " PosixPath('/home/vaggelis/PycharmProjects/pythonProject/data/without_mask/54.jpg1.jpg'),\n",
       " PosixPath('/home/vaggelis/PycharmProjects/pythonProject/data/without_mask/745.jpgval1.jpg'),\n",
       " PosixPath('/home/vaggelis/PycharmProjects/pythonProject/data/without_mask/584.jpgval1.jpg'),\n",
       " PosixPath('/home/vaggelis/PycharmProjects/pythonProject/data/without_mask/220.jpg1.jpg'),\n",
       " PosixPath('/home/vaggelis/PycharmProjects/pythonProject/data/without_mask/2101.jpg1.jpg'),\n",
       " PosixPath('/home/vaggelis/PycharmProjects/pythonProject/data/without_mask/1367.jpgval1.jpg'),\n",
       " PosixPath('/home/vaggelis/PycharmProjects/pythonProject/data/without_mask/1465.jpg1.jpg'),\n",
       " PosixPath('/home/vaggelis/PycharmProjects/pythonProject/data/without_mask/9.jpg1.jpg'),\n",
       " PosixPath('/home/vaggelis/PycharmProjects/pythonProject/data/without_mask/617.jpg1.jpg'),\n",
       " PosixPath('/home/vaggelis/PycharmProjects/pythonProject/data/without_mask/236.jpg1.jpg'),\n",
       " PosixPath('/home/vaggelis/PycharmProjects/pythonProject/data/without_mask/521.jpgval1.jpg'),\n",
       " PosixPath('/home/vaggelis/PycharmProjects/pythonProject/data/without_mask/592.jpgval2.jpg'),\n",
       " PosixPath('/home/vaggelis/PycharmProjects/pythonProject/data/without_mask/361.jpgval1.jpg'),\n",
       " PosixPath('/home/vaggelis/PycharmProjects/pythonProject/data/without_mask/395.jpgval1.jpg'),\n",
       " PosixPath('/home/vaggelis/PycharmProjects/pythonProject/data/without_mask/1617.jpg1.jpg'),\n",
       " PosixPath('/home/vaggelis/PycharmProjects/pythonProject/data/without_mask/1060.jpgval1.jpg'),\n",
       " PosixPath('/home/vaggelis/PycharmProjects/pythonProject/data/without_mask/636.jpg1.jpg'),\n",
       " PosixPath('/home/vaggelis/PycharmProjects/pythonProject/data/without_mask/1221.jpgval1.jpg'),\n",
       " PosixPath('/home/vaggelis/PycharmProjects/pythonProject/data/without_mask/938.jp1.jpg'),\n",
       " PosixPath('/home/vaggelis/PycharmProjects/pythonProject/data/without_mask/504.jpgval1.jpg'),\n",
       " PosixPath('/home/vaggelis/PycharmProjects/pythonProject/data/without_mask/985.jpg1.jpg'),\n",
       " PosixPath('/home/vaggelis/PycharmProjects/pythonProject/data/without_mask/1811.jpg1.jpg'),\n",
       " PosixPath('/home/vaggelis/PycharmProjects/pythonProject/data/without_mask/592.jpg1.jpg'),\n",
       " PosixPath('/home/vaggelis/PycharmProjects/pythonProject/data/without_mask/1007.jpg1.jpg'),\n",
       " PosixPath('/home/vaggelis/PycharmProjects/pythonProject/data/without_mask/2142.jpg1.jpg'),\n",
       " PosixPath('/home/vaggelis/PycharmProjects/pythonProject/data/without_mask/536.jpgval1.jpg'),\n",
       " PosixPath('/home/vaggelis/PycharmProjects/pythonProject/data/without_mask/1172.jpgval1.jpg'),\n",
       " PosixPath('/home/vaggelis/PycharmProjects/pythonProject/data/without_mask/1196.jpg1.jpg'),\n",
       " PosixPath('/home/vaggelis/PycharmProjects/pythonProject/data/without_mask/1093.jpg1.jpg'),\n",
       " PosixPath('/home/vaggelis/PycharmProjects/pythonProject/data/without_mask/1649.jpg1.jpg'),\n",
       " PosixPath('/home/vaggelis/PycharmProjects/pythonProject/data/without_mask/642.jpgval1.jpg'),\n",
       " PosixPath('/home/vaggelis/PycharmProjects/pythonProject/data/without_mask/246.jpgval1.jpg'),\n",
       " PosixPath('/home/vaggelis/PycharmProjects/pythonProject/data/without_mask/820.jpgval1.jpg'),\n",
       " PosixPath('/home/vaggelis/PycharmProjects/pythonProject/data/without_mask/1910.jpg1.jpg'),\n",
       " PosixPath('/home/vaggelis/PycharmProjects/pythonProject/data/without_mask/209.jpg1.jpg'),\n",
       " PosixPath('/home/vaggelis/PycharmProjects/pythonProject/data/without_mask/173.jpgval1.jpg'),\n",
       " PosixPath('/home/vaggelis/PycharmProjects/pythonProject/data/without_mask/914.jpg1.jpg'),\n",
       " PosixPath('/home/vaggelis/PycharmProjects/pythonProject/data/without_mask/998.jpg1.jpg'),\n",
       " PosixPath('/home/vaggelis/PycharmProjects/pythonProject/data/without_mask/1746.jpg1.jpg'),\n",
       " PosixPath('/home/vaggelis/PycharmProjects/pythonProject/data/without_mask/829.jpg1.jpg'),\n",
       " PosixPath('/home/vaggelis/PycharmProjects/pythonProject/data/without_mask/1984.jpg1.jpg'),\n",
       " PosixPath('/home/vaggelis/PycharmProjects/pythonProject/data/without_mask/52.jpg1.jpg'),\n",
       " PosixPath('/home/vaggelis/PycharmProjects/pythonProject/data/without_mask/1050.jpg1.jpg'),\n",
       " PosixPath('/home/vaggelis/PycharmProjects/pythonProject/data/without_mask/868.jpgval1.jpg'),\n",
       " PosixPath('/home/vaggelis/PycharmProjects/pythonProject/data/without_mask/299.jpgval1.jpg'),\n",
       " PosixPath('/home/vaggelis/PycharmProjects/pythonProject/data/without_mask/1918.jpg1.jpg'),\n",
       " PosixPath('/home/vaggelis/PycharmProjects/pythonProject/data/without_mask/54.jpgval1.jpg'),\n",
       " PosixPath('/home/vaggelis/PycharmProjects/pythonProject/data/without_mask/28.jpg1.jpg'),\n",
       " PosixPath('/home/vaggelis/PycharmProjects/pythonProject/data/without_mask/78.jpg1.jpg'),\n",
       " PosixPath('/home/vaggelis/PycharmProjects/pythonProject/data/without_mask/1761.jpg1.jpg'),\n",
       " PosixPath('/home/vaggelis/PycharmProjects/pythonProject/data/without_mask/55.jpg1.jpg'),\n",
       " PosixPath('/home/vaggelis/PycharmProjects/pythonProject/data/without_mask/105.jpg1.jpg'),\n",
       " PosixPath('/home/vaggelis/PycharmProjects/pythonProject/data/without_mask/892.jpgval1.jpg'),\n",
       " PosixPath('/home/vaggelis/PycharmProjects/pythonProject/data/without_mask/1851.jpg1.jpg'),\n",
       " PosixPath('/home/vaggelis/PycharmProjects/pythonProject/data/without_mask/230.jpg1.jpg'),\n",
       " PosixPath('/home/vaggelis/PycharmProjects/pythonProject/data/without_mask/1184.jpgval1.jpg'),\n",
       " PosixPath('/home/vaggelis/PycharmProjects/pythonProject/data/without_mask/668.jpg1.jpg'),\n",
       " PosixPath('/home/vaggelis/PycharmProjects/pythonProject/data/without_mask/789.jpg1.jpg'),\n",
       " PosixPath('/home/vaggelis/PycharmProjects/pythonProject/data/without_mask/1173.jpgval1.jpg'),\n",
       " PosixPath('/home/vaggelis/PycharmProjects/pythonProject/data/without_mask/116.jpg1.jpg'),\n",
       " PosixPath('/home/vaggelis/PycharmProjects/pythonProject/data/without_mask/29.jpg1.jpg'),\n",
       " PosixPath('/home/vaggelis/PycharmProjects/pythonProject/data/without_mask/338.jpg1.jpg'),\n",
       " PosixPath('/home/vaggelis/PycharmProjects/pythonProject/data/without_mask/135.jpgval1.jpg'),\n",
       " PosixPath('/home/vaggelis/PycharmProjects/pythonProject/data/without_mask/1145.jpgval1.jpg'),\n",
       " PosixPath('/home/vaggelis/PycharmProjects/pythonProject/data/without_mask/171.jpgval1.jpg'),\n",
       " PosixPath('/home/vaggelis/PycharmProjects/pythonProject/data/without_mask/1416.jpgval1.jpg'),\n",
       " PosixPath('/home/vaggelis/PycharmProjects/pythonProject/data/without_mask/1334.jpg1.jpg'),\n",
       " PosixPath('/home/vaggelis/PycharmProjects/pythonProject/data/without_mask/2084.jpg1.jpg'),\n",
       " PosixPath('/home/vaggelis/PycharmProjects/pythonProject/data/without_mask/1614.jpg1.jpg'),\n",
       " PosixPath('/home/vaggelis/PycharmProjects/pythonProject/data/without_mask/1372.jpgval1.jpg'),\n",
       " PosixPath('/home/vaggelis/PycharmProjects/pythonProject/data/without_mask/486.jpg1.jpg'),\n",
       " PosixPath('/home/vaggelis/PycharmProjects/pythonProject/data/without_mask/1294.jpgval1.jpg'),\n",
       " PosixPath('/home/vaggelis/PycharmProjects/pythonProject/data/without_mask/1308.jpg1.jpg'),\n",
       " PosixPath('/home/vaggelis/PycharmProjects/pythonProject/data/without_mask/881.jpg1.jpg'),\n",
       " PosixPath('/home/vaggelis/PycharmProjects/pythonProject/data/without_mask/772.jpgval2.jpg'),\n",
       " PosixPath('/home/vaggelis/PycharmProjects/pythonProject/data/without_mask/1033.jpgval1.jpg'),\n",
       " PosixPath('/home/vaggelis/PycharmProjects/pythonProject/data/without_mask/89.jpgval1.jpg'),\n",
       " PosixPath('/home/vaggelis/PycharmProjects/pythonProject/data/without_mask/603.jpgval1.jpg'),\n",
       " PosixPath('/home/vaggelis/PycharmProjects/pythonProject/data/without_mask/1518.jpg1.jpg'),\n",
       " PosixPath('/home/vaggelis/PycharmProjects/pythonProject/data/without_mask/426.jpg1.jpg'),\n",
       " PosixPath('/home/vaggelis/PycharmProjects/pythonProject/data/without_mask/838.jpg1.jpg'),\n",
       " PosixPath('/home/vaggelis/PycharmProjects/pythonProject/data/without_mask/640.jpg1.jpg'),\n",
       " PosixPath('/home/vaggelis/PycharmProjects/pythonProject/data/without_mask/1867.jpg1.jpg'),\n",
       " PosixPath('/home/vaggelis/PycharmProjects/pythonProject/data/without_mask/778.jpg1.jpg'),\n",
       " PosixPath('/home/vaggelis/PycharmProjects/pythonProject/data/without_mask/133.jpg1.jpg'),\n",
       " PosixPath('/home/vaggelis/PycharmProjects/pythonProject/data/without_mask/1435.jpg1.jpg'),\n",
       " PosixPath('/home/vaggelis/PycharmProjects/pythonProject/data/without_mask/21.jpgval1.jpg'),\n",
       " PosixPath('/home/vaggelis/PycharmProjects/pythonProject/data/without_mask/2066.jpg1.jpg'),\n",
       " PosixPath('/home/vaggelis/PycharmProjects/pythonProject/data/without_mask/80.jpgval1.jpg'),\n",
       " PosixPath('/home/vaggelis/PycharmProjects/pythonProject/data/without_mask/1743.jpg1.jpg'),\n",
       " PosixPath('/home/vaggelis/PycharmProjects/pythonProject/data/without_mask/136.jpg1.jpg'),\n",
       " PosixPath('/home/vaggelis/PycharmProjects/pythonProject/data/without_mask/609.jpgval1.jpg'),\n",
       " PosixPath('/home/vaggelis/PycharmProjects/pythonProject/data/without_mask/1213.jpgval1.jpg'),\n",
       " PosixPath('/home/vaggelis/PycharmProjects/pythonProject/data/without_mask/981.jpg1.jpg'),\n",
       " PosixPath('/home/vaggelis/PycharmProjects/pythonProject/data/without_mask/1117.jpgval1.jpg'),\n",
       " PosixPath('/home/vaggelis/PycharmProjects/pythonProject/data/without_mask/882.jpg1.jpg'),\n",
       " PosixPath('/home/vaggelis/PycharmProjects/pythonProject/data/without_mask/1615.jpg1.jpg'),\n",
       " PosixPath('/home/vaggelis/PycharmProjects/pythonProject/data/without_mask/568.jpgval1.jpg'),\n",
       " PosixPath('/home/vaggelis/PycharmProjects/pythonProject/data/without_mask/529.jpg1.jpg'),\n",
       " PosixPath('/home/vaggelis/PycharmProjects/pythonProject/data/without_mask/1139.jpgval1.jpg'),\n",
       " PosixPath('/home/vaggelis/PycharmProjects/pythonProject/data/without_mask/604.jpgval1.jpg'),\n",
       " PosixPath('/home/vaggelis/PycharmProjects/pythonProject/data/without_mask/795.jpgval1.jpg'),\n",
       " PosixPath('/home/vaggelis/PycharmProjects/pythonProject/data/without_mask/445.jpg1.jpg'),\n",
       " PosixPath('/home/vaggelis/PycharmProjects/pythonProject/data/without_mask/1559.jpg1.jpg'),\n",
       " PosixPath('/home/vaggelis/PycharmProjects/pythonProject/data/without_mask/1150.jpg1.jpg'),\n",
       " PosixPath('/home/vaggelis/PycharmProjects/pythonProject/data/without_mask/698.jpgval1.jpg'),\n",
       " PosixPath('/home/vaggelis/PycharmProjects/pythonProject/data/without_mask/130.jpg1.jpg'),\n",
       " PosixPath('/home/vaggelis/PycharmProjects/pythonProject/data/without_mask/894.jpg1.jpg'),\n",
       " PosixPath('/home/vaggelis/PycharmProjects/pythonProject/data/without_mask/35.jpg1.jpg'),\n",
       " PosixPath('/home/vaggelis/PycharmProjects/pythonProject/data/without_mask/498.jpgval1.jpg'),\n",
       " PosixPath('/home/vaggelis/PycharmProjects/pythonProject/data/without_mask/242.jpgval1.jpg'),\n",
       " PosixPath('/home/vaggelis/PycharmProjects/pythonProject/data/without_mask/1051.jpg1.jpg'),\n",
       " PosixPath('/home/vaggelis/PycharmProjects/pythonProject/data/without_mask/296.jpgval1.jpg'),\n",
       " PosixPath('/home/vaggelis/PycharmProjects/pythonProject/data/without_mask/891.jpgval1.jpg'),\n",
       " PosixPath('/home/vaggelis/PycharmProjects/pythonProject/data/without_mask/717.jpgval1.jpg'),\n",
       " PosixPath('/home/vaggelis/PycharmProjects/pythonProject/data/without_mask/314.jpgval1.jpg'),\n",
       " PosixPath('/home/vaggelis/PycharmProjects/pythonProject/data/without_mask/1461.jpg1.jpg'),\n",
       " PosixPath('/home/vaggelis/PycharmProjects/pythonProject/data/without_mask/1857.jpg1.jpg'),\n",
       " PosixPath('/home/vaggelis/PycharmProjects/pythonProject/data/without_mask/1311.jpgval1.jpg'),\n",
       " PosixPath('/home/vaggelis/PycharmProjects/pythonProject/data/without_mask/204.jpg1.jpg'),\n",
       " PosixPath('/home/vaggelis/PycharmProjects/pythonProject/data/without_mask/87.jpgval1.jpg'),\n",
       " PosixPath('/home/vaggelis/PycharmProjects/pythonProject/data/without_mask/320.jpg1.jpg'),\n",
       " PosixPath('/home/vaggelis/PycharmProjects/pythonProject/data/without_mask/569.jpg1.jpg'),\n",
       " PosixPath('/home/vaggelis/PycharmProjects/pythonProject/data/without_mask/2006.jpg1.jpg'),\n",
       " PosixPath('/home/vaggelis/PycharmProjects/pythonProject/data/without_mask/1572.jpg1.jpg'),\n",
       " PosixPath('/home/vaggelis/PycharmProjects/pythonProject/data/without_mask/1293.jpg1.jpg'),\n",
       " PosixPath('/home/vaggelis/PycharmProjects/pythonProject/data/without_mask/1562.jpg1.jpg'),\n",
       " PosixPath('/home/vaggelis/PycharmProjects/pythonProject/data/without_mask/1059.jpgval1.jpg'),\n",
       " PosixPath('/home/vaggelis/PycharmProjects/pythonProject/data/without_mask/1703.jpg1.jpg'),\n",
       " PosixPath('/home/vaggelis/PycharmProjects/pythonProject/data/without_mask/1903.jpg1.jpg'),\n",
       " PosixPath('/home/vaggelis/PycharmProjects/pythonProject/data/without_mask/533.jpgval1.jpg'),\n",
       " PosixPath('/home/vaggelis/PycharmProjects/pythonProject/data/without_mask/713.jpgval1.jpg'),\n",
       " PosixPath('/home/vaggelis/PycharmProjects/pythonProject/data/without_mask/715.jpg1.jpg'),\n",
       " PosixPath('/home/vaggelis/PycharmProjects/pythonProject/data/without_mask/740.jpg1.jpg'),\n",
       " PosixPath('/home/vaggelis/PycharmProjects/pythonProject/data/without_mask/575.jpgval1.jpg'),\n",
       " PosixPath('/home/vaggelis/PycharmProjects/pythonProject/data/without_mask/1073.jpg1.jpg'),\n",
       " PosixPath('/home/vaggelis/PycharmProjects/pythonProject/data/without_mask/2048.jpg1.jpg'),\n",
       " PosixPath('/home/vaggelis/PycharmProjects/pythonProject/data/without_mask/1305.jpg1.jpg'),\n",
       " PosixPath('/home/vaggelis/PycharmProjects/pythonProject/data/without_mask/1249.jpgval1.jpg'),\n",
       " PosixPath('/home/vaggelis/PycharmProjects/pythonProject/data/without_mask/1817.jpg1.jpg'),\n",
       " PosixPath('/home/vaggelis/PycharmProjects/pythonProject/data/without_mask/1267.jpg1.jpg'),\n",
       " PosixPath('/home/vaggelis/PycharmProjects/pythonProject/data/without_mask/934.jpg1.jpg'),\n",
       " PosixPath('/home/vaggelis/PycharmProjects/pythonProject/data/without_mask/2009.jpg1.jpg'),\n",
       " PosixPath('/home/vaggelis/PycharmProjects/pythonProject/data/without_mask/257.jpgval1.jpg'),\n",
       " PosixPath('/home/vaggelis/PycharmProjects/pythonProject/data/without_mask/255.jpg1.jpg'),\n",
       " PosixPath('/home/vaggelis/PycharmProjects/pythonProject/data/without_mask/196.jpg1.jpg'),\n",
       " PosixPath('/home/vaggelis/PycharmProjects/pythonProject/data/without_mask/1803.jpg1.jpg'),\n",
       " PosixPath('/home/vaggelis/PycharmProjects/pythonProject/data/without_mask/466.jpg1.jpg'),\n",
       " PosixPath('/home/vaggelis/PycharmProjects/pythonProject/data/without_mask/129.jpg1.jpg'),\n",
       " PosixPath('/home/vaggelis/PycharmProjects/pythonProject/data/without_mask/1953.jpg1.jpg'),\n",
       " PosixPath('/home/vaggelis/PycharmProjects/pythonProject/data/without_mask/200.jpgval1.jpg'),\n",
       " PosixPath('/home/vaggelis/PycharmProjects/pythonProject/data/without_mask/1782.jpg1.jpg'),\n",
       " PosixPath('/home/vaggelis/PycharmProjects/pythonProject/data/without_mask/1935.jpg1.jpg'),\n",
       " PosixPath('/home/vaggelis/PycharmProjects/pythonProject/data/without_mask/542.jpgval1.jpg'),\n",
       " PosixPath('/home/vaggelis/PycharmProjects/pythonProject/data/without_mask/1665.jpg1.jpg'),\n",
       " PosixPath('/home/vaggelis/PycharmProjects/pythonProject/data/without_mask/979.jpgval1.jpg'),\n",
       " PosixPath('/home/vaggelis/PycharmProjects/pythonProject/data/without_mask/1737.jpg1.jpg'),\n",
       " PosixPath('/home/vaggelis/PycharmProjects/pythonProject/data/without_mask/1365.jpg1.jpg'),\n",
       " PosixPath('/home/vaggelis/PycharmProjects/pythonProject/data/without_mask/1276.jpg1.jpg'),\n",
       " PosixPath('/home/vaggelis/PycharmProjects/pythonProject/data/without_mask/70.jpgval1.jpg'),\n",
       " PosixPath('/home/vaggelis/PycharmProjects/pythonProject/data/without_mask/2069.jpg1.jpg'),\n",
       " PosixPath('/home/vaggelis/PycharmProjects/pythonProject/data/without_mask/237.jpgval1.jpg'),\n",
       " PosixPath('/home/vaggelis/PycharmProjects/pythonProject/data/without_mask/976.jpgval1.jpg'),\n",
       " PosixPath('/home/vaggelis/PycharmProjects/pythonProject/data/without_mask/661.jpgval1.jpg'),\n",
       " PosixPath('/home/vaggelis/PycharmProjects/pythonProject/data/without_mask/2083.jpg1.jpg'),\n",
       " PosixPath('/home/vaggelis/PycharmProjects/pythonProject/data/without_mask/285.jpgval1.jpg'),\n",
       " PosixPath('/home/vaggelis/PycharmProjects/pythonProject/data/without_mask/1969.jpg1.jpg'),\n",
       " PosixPath('/home/vaggelis/PycharmProjects/pythonProject/data/without_mask/2102.jpg1.jpg'),\n",
       " PosixPath('/home/vaggelis/PycharmProjects/pythonProject/data/without_mask/183.jpg1.jpg'),\n",
       " PosixPath('/home/vaggelis/PycharmProjects/pythonProject/data/without_mask/881.jpgval1.jpg'),\n",
       " PosixPath('/home/vaggelis/PycharmProjects/pythonProject/data/without_mask/1769.jpg1.jpg'),\n",
       " PosixPath('/home/vaggelis/PycharmProjects/pythonProject/data/without_mask/817.jpgval1.jpg'),\n",
       " PosixPath('/home/vaggelis/PycharmProjects/pythonProject/data/without_mask/925.jpgval1.jpg'),\n",
       " PosixPath('/home/vaggelis/PycharmProjects/pythonProject/data/without_mask/1030.jpgval1.jpg'),\n",
       " PosixPath('/home/vaggelis/PycharmProjects/pythonProject/data/without_mask/1493.jpg1.jpg'),\n",
       " PosixPath('/home/vaggelis/PycharmProjects/pythonProject/data/without_mask/751.jpg1.jpg'),\n",
       " PosixPath('/home/vaggelis/PycharmProjects/pythonProject/data/without_mask/1163.jpgval1.jpg'),\n",
       " PosixPath('/home/vaggelis/PycharmProjects/pythonProject/data/without_mask/485.jpg1.jpg'),\n",
       " PosixPath('/home/vaggelis/PycharmProjects/pythonProject/data/without_mask/261.jpgval1.jpg'),\n",
       " PosixPath('/home/vaggelis/PycharmProjects/pythonProject/data/without_mask/432.jpg1.jpg'),\n",
       " PosixPath('/home/vaggelis/PycharmProjects/pythonProject/data/without_mask/1964.jpg1.jpg'),\n",
       " PosixPath('/home/vaggelis/PycharmProjects/pythonProject/data/without_mask/85.jpgval1.jpg'),\n",
       " PosixPath('/home/vaggelis/PycharmProjects/pythonProject/data/without_mask/1004.jpgval1.jpg'),\n",
       " PosixPath('/home/vaggelis/PycharmProjects/pythonProject/data/without_mask/1011.jpg1.jpg'),\n",
       " PosixPath('/home/vaggelis/PycharmProjects/pythonProject/data/without_mask/1006.jpg1.jpg'),\n",
       " PosixPath('/home/vaggelis/PycharmProjects/pythonProject/data/without_mask/1581.jpg1.jpg'),\n",
       " PosixPath('/home/vaggelis/PycharmProjects/pythonProject/data/without_mask/1832.jpg1.jpg'),\n",
       " PosixPath('/home/vaggelis/PycharmProjects/pythonProject/data/without_mask/897.jpgval1.jpg'),\n",
       " PosixPath('/home/vaggelis/PycharmProjects/pythonProject/data/without_mask/1256.jpgval1.jpg'),\n",
       " PosixPath('/home/vaggelis/PycharmProjects/pythonProject/data/without_mask/1050.jpgval1.jpg'),\n",
       " PosixPath('/home/vaggelis/PycharmProjects/pythonProject/data/without_mask/294.jpg1.jpg'),\n",
       " PosixPath('/home/vaggelis/PycharmProjects/pythonProject/data/without_mask/52.jpgval1.jpg'),\n",
       " PosixPath('/home/vaggelis/PycharmProjects/pythonProject/data/without_mask/752.jpg1.jpg'),\n",
       " PosixPath('/home/vaggelis/PycharmProjects/pythonProject/data/without_mask/574.jpgval1.jpg'),\n",
       " PosixPath('/home/vaggelis/PycharmProjects/pythonProject/data/without_mask/1264.jpg1.jpg'),\n",
       " PosixPath('/home/vaggelis/PycharmProjects/pythonProject/data/without_mask/81.jpgval1.jpg'),\n",
       " PosixPath('/home/vaggelis/PycharmProjects/pythonProject/data/without_mask/847.jpgval1.jpg'),\n",
       " PosixPath('/home/vaggelis/PycharmProjects/pythonProject/data/without_mask/591.jpgval1.jpg'),\n",
       " PosixPath('/home/vaggelis/PycharmProjects/pythonProject/data/without_mask/364.jpgval1.jpg'),\n",
       " PosixPath('/home/vaggelis/PycharmProjects/pythonProject/data/without_mask/1099.jpgval1.jpg'),\n",
       " PosixPath('/home/vaggelis/PycharmProjects/pythonProject/data/without_mask/689.jpg1.jpg'),\n",
       " PosixPath('/home/vaggelis/PycharmProjects/pythonProject/data/without_mask/418.jpgval1.jpg'),\n",
       " PosixPath('/home/vaggelis/PycharmProjects/pythonProject/data/without_mask/405.jpgval1.jpg'),\n",
       " PosixPath('/home/vaggelis/PycharmProjects/pythonProject/data/without_mask/801.jpg1.jpg'),\n",
       " PosixPath('/home/vaggelis/PycharmProjects/pythonProject/data/without_mask/246.jpg1.jpg'),\n",
       " PosixPath('/home/vaggelis/PycharmProjects/pythonProject/data/without_mask/1677.jpg1.jpg'),\n",
       " PosixPath('/home/vaggelis/PycharmProjects/pythonProject/data/without_mask/482.jpg1.jpg'),\n",
       " PosixPath('/home/vaggelis/PycharmProjects/pythonProject/data/without_mask/741.jpgval1.jpg'),\n",
       " PosixPath('/home/vaggelis/PycharmProjects/pythonProject/data/without_mask/1509.jpg1.jpg'),\n",
       " PosixPath('/home/vaggelis/PycharmProjects/pythonProject/data/without_mask/317.jpgval1.jpg'),\n",
       " PosixPath('/home/vaggelis/PycharmProjects/pythonProject/data/without_mask/1248.jpg1.jpg'),\n",
       " PosixPath('/home/vaggelis/PycharmProjects/pythonProject/data/without_mask/1574.jpg1.jpg'),\n",
       " PosixPath('/home/vaggelis/PycharmProjects/pythonProject/data/without_mask/1063.jpgval1.jpg'),\n",
       " PosixPath('/home/vaggelis/PycharmProjects/pythonProject/data/without_mask/962.jpg1.jpg'),\n",
       " PosixPath('/home/vaggelis/PycharmProjects/pythonProject/data/without_mask/267.jpg1.jpg'),\n",
       " PosixPath('/home/vaggelis/PycharmProjects/pythonProject/data/without_mask/2080.jpg1.jpg'),\n",
       " PosixPath('/home/vaggelis/PycharmProjects/pythonProject/data/without_mask/4337.jpg1.jpg'),\n",
       " PosixPath('/home/vaggelis/PycharmProjects/pythonProject/data/without_mask/1214.jpgval1.jpg'),\n",
       " PosixPath('/home/vaggelis/PycharmProjects/pythonProject/data/without_mask/273.jpg1.jpg'),\n",
       " PosixPath('/home/vaggelis/PycharmProjects/pythonProject/data/without_mask/362.jpgval1.jpg'),\n",
       " PosixPath('/home/vaggelis/PycharmProjects/pythonProject/data/without_mask/707.jpgval1.jpg'),\n",
       " PosixPath('/home/vaggelis/PycharmProjects/pythonProject/data/without_mask/1848.jpg1.jpg'),\n",
       " PosixPath('/home/vaggelis/PycharmProjects/pythonProject/data/without_mask/1820.jpg1.jpg'),\n",
       " PosixPath('/home/vaggelis/PycharmProjects/pythonProject/data/without_mask/596.jpg1.jpg'),\n",
       " PosixPath('/home/vaggelis/PycharmProjects/pythonProject/data/without_mask/163.jpgval1.jpg'),\n",
       " PosixPath('/home/vaggelis/PycharmProjects/pythonProject/data/without_mask/1794.jpg1.jpg'),\n",
       " PosixPath('/home/vaggelis/PycharmProjects/pythonProject/data/without_mask/1055.jpgval1.jpg'),\n",
       " PosixPath('/home/vaggelis/PycharmProjects/pythonProject/data/without_mask/1034.jpg1.jpg'),\n",
       " PosixPath('/home/vaggelis/PycharmProjects/pythonProject/data/without_mask/1384.jpg1.jpg'),\n",
       " PosixPath('/home/vaggelis/PycharmProjects/pythonProject/data/without_mask/1516.jpg1.jpg'),\n",
       " PosixPath('/home/vaggelis/PycharmProjects/pythonProject/data/without_mask/121.jpgval1.jpg'),\n",
       " PosixPath('/home/vaggelis/PycharmProjects/pythonProject/data/without_mask/68.jpgval1.jpg'),\n",
       " PosixPath('/home/vaggelis/PycharmProjects/pythonProject/data/without_mask/857.jpg1.jpg'),\n",
       " PosixPath('/home/vaggelis/PycharmProjects/pythonProject/data/without_mask/1181.jpgval1.jpg'),\n",
       " PosixPath('/home/vaggelis/PycharmProjects/pythonProject/data/without_mask/576.jpgval1.jpg'),\n",
       " PosixPath('/home/vaggelis/PycharmProjects/pythonProject/data/without_mask/1954.jpg1.jpg'),\n",
       " PosixPath('/home/vaggelis/PycharmProjects/pythonProject/data/without_mask/847.jpg1.jpg'),\n",
       " PosixPath('/home/vaggelis/PycharmProjects/pythonProject/data/without_mask/772.jpgval1.jpg'),\n",
       " PosixPath('/home/vaggelis/PycharmProjects/pythonProject/data/without_mask/203.jpgval1.jpg'),\n",
       " PosixPath('/home/vaggelis/PycharmProjects/pythonProject/data/without_mask/683.jpg1.jpg'),\n",
       " PosixPath('/home/vaggelis/PycharmProjects/pythonProject/data/without_mask/262.jpg1.jpg'),\n",
       " PosixPath('/home/vaggelis/PycharmProjects/pythonProject/data/without_mask/1046.jpg1.jpg'),\n",
       " PosixPath('/home/vaggelis/PycharmProjects/pythonProject/data/without_mask/111.jpgval1.jpg'),\n",
       " PosixPath('/home/vaggelis/PycharmProjects/pythonProject/data/without_mask/109.jpgval1.jpg'),\n",
       " PosixPath('/home/vaggelis/PycharmProjects/pythonProject/data/without_mask/715.jpgval1.jpg'),\n",
       " PosixPath('/home/vaggelis/PycharmProjects/pythonProject/data/without_mask/606.jpg2.jpg'),\n",
       " PosixPath('/home/vaggelis/PycharmProjects/pythonProject/data/without_mask/1891.jpg1.jpg'),\n",
       " PosixPath('/home/vaggelis/PycharmProjects/pythonProject/data/without_mask/563.jpg1.jpg'),\n",
       " PosixPath('/home/vaggelis/PycharmProjects/pythonProject/data/without_mask/150.jpg1.jpg'),\n",
       " PosixPath('/home/vaggelis/PycharmProjects/pythonProject/data/without_mask/1843.jpg1.jpg'),\n",
       " PosixPath('/home/vaggelis/PycharmProjects/pythonProject/data/without_mask/470.jpgval1.jpg'),\n",
       " PosixPath('/home/vaggelis/PycharmProjects/pythonProject/data/without_mask/648.jpgval1.jpg'),\n",
       " PosixPath('/home/vaggelis/PycharmProjects/pythonProject/data/without_mask/1826.jpg1.jpg'),\n",
       " PosixPath('/home/vaggelis/PycharmProjects/pythonProject/data/without_mask/2.jpgval1.jpg'),\n",
       " PosixPath('/home/vaggelis/PycharmProjects/pythonProject/data/without_mask/1071.jpgval1.jpg'),\n",
       " PosixPath('/home/vaggelis/PycharmProjects/pythonProject/data/without_mask/1427.jpg1.jpg'),\n",
       " PosixPath('/home/vaggelis/PycharmProjects/pythonProject/data/without_mask/489.jpgval1.jpg'),\n",
       " PosixPath('/home/vaggelis/PycharmProjects/pythonProject/data/without_mask/1707.jpg1.jpg'),\n",
       " PosixPath('/home/vaggelis/PycharmProjects/pythonProject/data/without_mask/3769.jpg2.jpg'),\n",
       " PosixPath('/home/vaggelis/PycharmProjects/pythonProject/data/without_mask/1212.jpgval1.jpg'),\n",
       " PosixPath('/home/vaggelis/PycharmProjects/pythonProject/data/without_mask/398.jpgval1.jpg'),\n",
       " PosixPath('/home/vaggelis/PycharmProjects/pythonProject/data/without_mask/2020.jpg1.jpg'),\n",
       " PosixPath('/home/vaggelis/PycharmProjects/pythonProject/data/without_mask/282.jpg1.jpg'),\n",
       " PosixPath('/home/vaggelis/PycharmProjects/pythonProject/data/without_mask/1175.jpg1.jpg'),\n",
       " PosixPath('/home/vaggelis/PycharmProjects/pythonProject/data/without_mask/930.jpgval1.jpg'),\n",
       " PosixPath('/home/vaggelis/PycharmProjects/pythonProject/data/without_mask/275.jpg1.jpg'),\n",
       " PosixPath('/home/vaggelis/PycharmProjects/pythonProject/data/without_mask/690.jpgval1.jpg'),\n",
       " PosixPath('/home/vaggelis/PycharmProjects/pythonProject/data/without_mask/2056.jpg1.jpg'),\n",
       " PosixPath('/home/vaggelis/PycharmProjects/pythonProject/data/without_mask/1329.jpg1.jpg'),\n",
       " PosixPath('/home/vaggelis/PycharmProjects/pythonProject/data/without_mask/1171.jpg1.jpg'),\n",
       " PosixPath('/home/vaggelis/PycharmProjects/pythonProject/data/without_mask/1159.jpgval1.jpg'),\n",
       " PosixPath('/home/vaggelis/PycharmProjects/pythonProject/data/without_mask/592.jpgval1.jpg'),\n",
       " PosixPath('/home/vaggelis/PycharmProjects/pythonProject/data/without_mask/319.jpg1.jpg'),\n",
       " PosixPath('/home/vaggelis/PycharmProjects/pythonProject/data/without_mask/763.jpgval1.jpg'),\n",
       " PosixPath('/home/vaggelis/PycharmProjects/pythonProject/data/without_mask/810.jpgval1.jpg'),\n",
       " PosixPath('/home/vaggelis/PycharmProjects/pythonProject/data/without_mask/874.jpgval1.jpg'),\n",
       " PosixPath('/home/vaggelis/PycharmProjects/pythonProject/data/without_mask/2022.jpg1.jpg'),\n",
       " PosixPath('/home/vaggelis/PycharmProjects/pythonProject/data/without_mask/731.jpg1.jpg'),\n",
       " PosixPath('/home/vaggelis/PycharmProjects/pythonProject/data/without_mask/477.jpg1.jpg'),\n",
       " PosixPath('/home/vaggelis/PycharmProjects/pythonProject/data/without_mask/2106.jpg1.jpg'),\n",
       " PosixPath('/home/vaggelis/PycharmProjects/pythonProject/data/without_mask/1570.jpg1.jpg'),\n",
       " PosixPath('/home/vaggelis/PycharmProjects/pythonProject/data/without_mask/614.jpgval1.jpg'),\n",
       " PosixPath('/home/vaggelis/PycharmProjects/pythonProject/data/without_mask/883.jpg1.jpg'),\n",
       " PosixPath('/home/vaggelis/PycharmProjects/pythonProject/data/without_mask/1084.jpg1.jpg'),\n",
       " PosixPath('/home/vaggelis/PycharmProjects/pythonProject/data/without_mask/178.jpgval1.jpg'),\n",
       " PosixPath('/home/vaggelis/PycharmProjects/pythonProject/data/without_mask/303.jpgval1.jpg'),\n",
       " PosixPath('/home/vaggelis/PycharmProjects/pythonProject/data/without_mask/266.jpg1.jpg'),\n",
       " PosixPath('/home/vaggelis/PycharmProjects/pythonProject/data/without_mask/863.jpgval1.jpg'),\n",
       " PosixPath('/home/vaggelis/PycharmProjects/pythonProject/data/without_mask/1016.jpgval1.jpg'),\n",
       " PosixPath('/home/vaggelis/PycharmProjects/pythonProject/data/without_mask/1748.jpg1.jpg'),\n",
       " PosixPath('/home/vaggelis/PycharmProjects/pythonProject/data/without_mask/2081.jpg1.jpg'),\n",
       " PosixPath('/home/vaggelis/PycharmProjects/pythonProject/data/without_mask/1642.jpg1.jpg'),\n",
       " PosixPath('/home/vaggelis/PycharmProjects/pythonProject/data/without_mask/1025.jpg1.jpg'),\n",
       " PosixPath('/home/vaggelis/PycharmProjects/pythonProject/data/without_mask/528.jpgval1.jpg'),\n",
       " PosixPath('/home/vaggelis/PycharmProjects/pythonProject/data/without_mask/1816.jpg1.jpg'),\n",
       " PosixPath('/home/vaggelis/PycharmProjects/pythonProject/data/without_mask/375.jpgval1.jpg'),\n",
       " PosixPath('/home/vaggelis/PycharmProjects/pythonProject/data/without_mask/1115.jpgval1.jpg'),\n",
       " PosixPath('/home/vaggelis/PycharmProjects/pythonProject/data/without_mask/527.jpgval1.jpg'),\n",
       " PosixPath('/home/vaggelis/PycharmProjects/pythonProject/data/without_mask/602.jpgval1.jpg'),\n",
       " PosixPath('/home/vaggelis/PycharmProjects/pythonProject/data/without_mask/1886.jpg1.jpg'),\n",
       " PosixPath('/home/vaggelis/PycharmProjects/pythonProject/data/without_mask/922.jpg1.jpg'),\n",
       " PosixPath('/home/vaggelis/PycharmProjects/pythonProject/data/without_mask/329.jpgval1.jpg'),\n",
       " PosixPath('/home/vaggelis/PycharmProjects/pythonProject/data/without_mask/437.jpgval1.jpg'),\n",
       " PosixPath('/home/vaggelis/PycharmProjects/pythonProject/data/without_mask/110.jpgval1.jpg'),\n",
       " PosixPath('/home/vaggelis/PycharmProjects/pythonProject/data/without_mask/801.jpgval1.jpg'),\n",
       " PosixPath('/home/vaggelis/PycharmProjects/pythonProject/data/without_mask/154.jpg1.jpg'),\n",
       " PosixPath('/home/vaggelis/PycharmProjects/pythonProject/data/without_mask/835.jpg1.jpg'),\n",
       " PosixPath('/home/vaggelis/PycharmProjects/pythonProject/data/without_mask/1249.jpg1.jpg'),\n",
       " PosixPath('/home/vaggelis/PycharmProjects/pythonProject/data/without_mask/1419.jpg1.jpg'),\n",
       " PosixPath('/home/vaggelis/PycharmProjects/pythonProject/data/without_mask/1327.jpgval1.jpg'),\n",
       " PosixPath('/home/vaggelis/PycharmProjects/pythonProject/data/without_mask/1114.jpg1.jpg'),\n",
       " PosixPath('/home/vaggelis/PycharmProjects/pythonProject/data/without_mask/1558.jpg1.jpg'),\n",
       " PosixPath('/home/vaggelis/PycharmProjects/pythonProject/data/without_mask/727.jpg1.jpg'),\n",
       " PosixPath('/home/vaggelis/PycharmProjects/pythonProject/data/without_mask/1295.jpg1.jpg'),\n",
       " PosixPath('/home/vaggelis/PycharmProjects/pythonProject/data/without_mask/512.jpgval1.jpg'),\n",
       " PosixPath('/home/vaggelis/PycharmProjects/pythonProject/data/without_mask/1592.jpg1.jpg'),\n",
       " PosixPath('/home/vaggelis/PycharmProjects/pythonProject/data/without_mask/288.jpg1.jpg'),\n",
       " PosixPath('/home/vaggelis/PycharmProjects/pythonProject/data/without_mask/1226.jpg1.jpg'),\n",
       " PosixPath('/home/vaggelis/PycharmProjects/pythonProject/data/without_mask/366.jpg1.jpg'),\n",
       " PosixPath('/home/vaggelis/PycharmProjects/pythonProject/data/without_mask/214.jpgval1.jpg'),\n",
       " PosixPath('/home/vaggelis/PycharmProjects/pythonProject/data/without_mask/440.jpgval1.jpg'),\n",
       " PosixPath('/home/vaggelis/PycharmProjects/pythonProject/data/without_mask/111.jpg1.jpg'),\n",
       " PosixPath('/home/vaggelis/PycharmProjects/pythonProject/data/without_mask/44.jpgval1.jpg'),\n",
       " PosixPath('/home/vaggelis/PycharmProjects/pythonProject/data/without_mask/1701.jpg1.jpg'),\n",
       " PosixPath('/home/vaggelis/PycharmProjects/pythonProject/data/without_mask/2014.jpg1.jpg'),\n",
       " PosixPath('/home/vaggelis/PycharmProjects/pythonProject/data/without_mask/1012.jpg1.jpg'),\n",
       " PosixPath('/home/vaggelis/PycharmProjects/pythonProject/data/without_mask/318.jpgval1.jpg'),\n",
       " PosixPath('/home/vaggelis/PycharmProjects/pythonProject/data/without_mask/24.jpg1.jpg'),\n",
       " PosixPath('/home/vaggelis/PycharmProjects/pythonProject/data/without_mask/1000.jpg1.jpg'),\n",
       " PosixPath('/home/vaggelis/PycharmProjects/pythonProject/data/without_mask/1792.jpg1.jpg'),\n",
       " PosixPath('/home/vaggelis/PycharmProjects/pythonProject/data/without_mask/613.jpg1.jpg'),\n",
       " PosixPath('/home/vaggelis/PycharmProjects/pythonProject/data/without_mask/550.jpgval1.jpg'),\n",
       " PosixPath('/home/vaggelis/PycharmProjects/pythonProject/data/without_mask/1986.jpg1.jpg'),\n",
       " PosixPath('/home/vaggelis/PycharmProjects/pythonProject/data/without_mask/1486.jpg1.jpg'),\n",
       " PosixPath('/home/vaggelis/PycharmProjects/pythonProject/data/without_mask/397.jpgval1.jpg'),\n",
       " PosixPath('/home/vaggelis/PycharmProjects/pythonProject/data/without_mask/796.jpg1.jpg'),\n",
       " PosixPath('/home/vaggelis/PycharmProjects/pythonProject/data/without_mask/223.jpgval1.jpg'),\n",
       " PosixPath('/home/vaggelis/PycharmProjects/pythonProject/data/without_mask/330.jpg1.jpg'),\n",
       " PosixPath('/home/vaggelis/PycharmProjects/pythonProject/data/without_mask/27.jpg1.jpg'),\n",
       " PosixPath('/home/vaggelis/PycharmProjects/pythonProject/data/without_mask/1000.jpgval1.jpg'),\n",
       " PosixPath('/home/vaggelis/PycharmProjects/pythonProject/data/without_mask/1321.jpgval1.jpg'),\n",
       " PosixPath('/home/vaggelis/PycharmProjects/pythonProject/data/without_mask/333.jpgval1.jpg'),\n",
       " PosixPath('/home/vaggelis/PycharmProjects/pythonProject/data/without_mask/854.jpg1.jpg'),\n",
       " PosixPath('/home/vaggelis/PycharmProjects/pythonProject/data/without_mask/1101.jpgval1.jpg'),\n",
       " PosixPath('/home/vaggelis/PycharmProjects/pythonProject/data/without_mask/56.jpg1.jpg'),\n",
       " PosixPath('/home/vaggelis/PycharmProjects/pythonProject/data/without_mask/1343.jpgval1.jpg'),\n",
       " PosixPath('/home/vaggelis/PycharmProjects/pythonProject/data/without_mask/1192.jpgval1.jpg'),\n",
       " PosixPath('/home/vaggelis/PycharmProjects/pythonProject/data/without_mask/463.jpgval1.jpg'),\n",
       " PosixPath('/home/vaggelis/PycharmProjects/pythonProject/data/without_mask/1022.jpg2.jpg'),\n",
       " PosixPath('/home/vaggelis/PycharmProjects/pythonProject/data/without_mask/644.jpgval1.jpg'),\n",
       " PosixPath('/home/vaggelis/PycharmProjects/pythonProject/data/without_mask/159.jpgval1.jpg'),\n",
       " PosixPath('/home/vaggelis/PycharmProjects/pythonProject/data/without_mask/59.jpgval1.jpg'),\n",
       " PosixPath('/home/vaggelis/PycharmProjects/pythonProject/data/without_mask/1485.jpg1.jpg'),\n",
       " PosixPath('/home/vaggelis/PycharmProjects/pythonProject/data/without_mask/1390.jpgval1.jpg'),\n",
       " PosixPath('/home/vaggelis/PycharmProjects/pythonProject/data/without_mask/9.jpgval1.jpg'),\n",
       " PosixPath('/home/vaggelis/PycharmProjects/pythonProject/data/without_mask/598.jpgval1.jpg'),\n",
       " PosixPath('/home/vaggelis/PycharmProjects/pythonProject/data/without_mask/915.jpgval1.jpg'),\n",
       " PosixPath('/home/vaggelis/PycharmProjects/pythonProject/data/without_mask/26.jpgval1.jpg'),\n",
       " PosixPath('/home/vaggelis/PycharmProjects/pythonProject/data/without_mask/1100.jpg1.jpg'),\n",
       " PosixPath('/home/vaggelis/PycharmProjects/pythonProject/data/without_mask/650.jpg1.jpg'),\n",
       " PosixPath('/home/vaggelis/PycharmProjects/pythonProject/data/without_mask/330.jpgval1.jpg'),\n",
       " PosixPath('/home/vaggelis/PycharmProjects/pythonProject/data/without_mask/1168.jpgval1.jpg'),\n",
       " PosixPath('/home/vaggelis/PycharmProjects/pythonProject/data/without_mask/292.jpg1.jpg'),\n",
       " PosixPath('/home/vaggelis/PycharmProjects/pythonProject/data/without_mask/1061.jpgval1.jpg'),\n",
       " PosixPath('/home/vaggelis/PycharmProjects/pythonProject/data/without_mask/687.jpg1.jpg'),\n",
       " PosixPath('/home/vaggelis/PycharmProjects/pythonProject/data/without_mask/839.jpg1.jpg'),\n",
       " PosixPath('/home/vaggelis/PycharmProjects/pythonProject/data/without_mask/269.jpg1.jpg'),\n",
       " PosixPath('/home/vaggelis/PycharmProjects/pythonProject/data/without_mask/1287.jpg1.jpg'),\n",
       " PosixPath('/home/vaggelis/PycharmProjects/pythonProject/data/without_mask/312.jpgval1.jpg'),\n",
       " PosixPath('/home/vaggelis/PycharmProjects/pythonProject/data/without_mask/149.jpg1.jpg'),\n",
       " PosixPath('/home/vaggelis/PycharmProjects/pythonProject/data/without_mask/1504.jpg1.jpg'),\n",
       " PosixPath('/home/vaggelis/PycharmProjects/pythonProject/data/without_mask/695.jpgval1.jpg'),\n",
       " PosixPath('/home/vaggelis/PycharmProjects/pythonProject/data/without_mask/253.jpgval1.jpg'),\n",
       " PosixPath('/home/vaggelis/PycharmProjects/pythonProject/data/without_mask/400.jpgval1.jpg'),\n",
       " PosixPath('/home/vaggelis/PycharmProjects/pythonProject/data/without_mask/1078.jpg1.jpg'),\n",
       " PosixPath('/home/vaggelis/PycharmProjects/pythonProject/data/without_mask/108.jpgval1.jpg'),\n",
       " PosixPath('/home/vaggelis/PycharmProjects/pythonProject/data/without_mask/1255.jpgval1.jpg'),\n",
       " PosixPath('/home/vaggelis/PycharmProjects/pythonProject/data/without_mask/1022.jpgval1.jpg'),\n",
       " PosixPath('/home/vaggelis/PycharmProjects/pythonProject/data/without_mask/169.jpg1.jpg'),\n",
       " PosixPath('/home/vaggelis/PycharmProjects/pythonProject/data/without_mask/332.jpgval1.jpg'),\n",
       " PosixPath('/home/vaggelis/PycharmProjects/pythonProject/data/without_mask/222.jpg1.jpg'),\n",
       " PosixPath('/home/vaggelis/PycharmProjects/pythonProject/data/without_mask/1802.jpg1.jpg'),\n",
       " PosixPath('/home/vaggelis/PycharmProjects/pythonProject/data/without_mask/1194.jpg1.jpg'),\n",
       " PosixPath('/home/vaggelis/PycharmProjects/pythonProject/data/without_mask/1883.jpg1.jpg'),\n",
       " PosixPath('/home/vaggelis/PycharmProjects/pythonProject/data/without_mask/1069.jpg2.jpg'),\n",
       " PosixPath('/home/vaggelis/PycharmProjects/pythonProject/data/without_mask/22.jpgval1.jpg'),\n",
       " PosixPath('/home/vaggelis/PycharmProjects/pythonProject/data/without_mask/2043.jpg1.jpg'),\n",
       " PosixPath('/home/vaggelis/PycharmProjects/pythonProject/data/without_mask/1203.jpg1.jpg'),\n",
       " PosixPath('/home/vaggelis/PycharmProjects/pythonProject/data/without_mask/1001.jpg1.jpg'),\n",
       " PosixPath('/home/vaggelis/PycharmProjects/pythonProject/data/without_mask/663.jpgval1.jpg'),\n",
       " PosixPath('/home/vaggelis/PycharmProjects/pythonProject/data/without_mask/1083.jpg1.jpg'),\n",
       " PosixPath('/home/vaggelis/PycharmProjects/pythonProject/data/without_mask/442.jpgval1.jpg'),\n",
       " PosixPath('/home/vaggelis/PycharmProjects/pythonProject/data/without_mask/620.jpg1.jpg'),\n",
       " PosixPath('/home/vaggelis/PycharmProjects/pythonProject/data/without_mask/274.jpgval1.jpg'),\n",
       " PosixPath('/home/vaggelis/PycharmProjects/pythonProject/data/without_mask/827.jpg1.jpg'),\n",
       " PosixPath('/home/vaggelis/PycharmProjects/pythonProject/data/without_mask/46.jpgval1.jpg'),\n",
       " PosixPath('/home/vaggelis/PycharmProjects/pythonProject/data/without_mask/427.jpg1.jpg'),\n",
       " PosixPath('/home/vaggelis/PycharmProjects/pythonProject/data/without_mask/865.jpg1.jpg'),\n",
       " PosixPath('/home/vaggelis/PycharmProjects/pythonProject/data/without_mask/42.jpg1.jpg'),\n",
       " PosixPath('/home/vaggelis/PycharmProjects/pythonProject/data/without_mask/1358.jpgval1.jpg'),\n",
       " PosixPath('/home/vaggelis/PycharmProjects/pythonProject/data/without_mask/1388.jpg1.jpg'),\n",
       " PosixPath('/home/vaggelis/PycharmProjects/pythonProject/data/without_mask/197.jpg1.jpg'),\n",
       " PosixPath('/home/vaggelis/PycharmProjects/pythonProject/data/without_mask/1292.jpg1.jpg'),\n",
       " PosixPath('/home/vaggelis/PycharmProjects/pythonProject/data/without_mask/855.jpgval1.jpg'),\n",
       " PosixPath('/home/vaggelis/PycharmProjects/pythonProject/data/without_mask/1406.jpg1.jpg'),\n",
       " PosixPath('/home/vaggelis/PycharmProjects/pythonProject/data/without_mask/569.jpgval1.jpg'),\n",
       " PosixPath('/home/vaggelis/PycharmProjects/pythonProject/data/without_mask/1238.jpgval1.jpg'),\n",
       " PosixPath('/home/vaggelis/PycharmProjects/pythonProject/data/without_mask/1495.jpg1.jpg'),\n",
       " PosixPath('/home/vaggelis/PycharmProjects/pythonProject/data/without_mask/1927.jpg1.jpg'),\n",
       " PosixPath('/home/vaggelis/PycharmProjects/pythonProject/data/without_mask/669.jpg1.jpg'),\n",
       " PosixPath('/home/vaggelis/PycharmProjects/pythonProject/data/without_mask/1026.jpg1.jpg'),\n",
       " PosixPath('/home/vaggelis/PycharmProjects/pythonProject/data/without_mask/1078.jpgval1.jpg'),\n",
       " PosixPath('/home/vaggelis/PycharmProjects/pythonProject/data/without_mask/191.jpg1.jpg'),\n",
       " PosixPath('/home/vaggelis/PycharmProjects/pythonProject/data/without_mask/1590.jpg1.jpg'),\n",
       " PosixPath('/home/vaggelis/PycharmProjects/pythonProject/data/without_mask/1109.jpgval1.jpg'),\n",
       " PosixPath('/home/vaggelis/PycharmProjects/pythonProject/data/without_mask/566.jpg1.jpg'),\n",
       " PosixPath('/home/vaggelis/PycharmProjects/pythonProject/data/without_mask/522.jpgval1.jpg'),\n",
       " PosixPath('/home/vaggelis/PycharmProjects/pythonProject/data/without_mask/449.jpgval1.jpg'),\n",
       " PosixPath('/home/vaggelis/PycharmProjects/pythonProject/data/without_mask/205.jpg1.jpg'),\n",
       " PosixPath('/home/vaggelis/PycharmProjects/pythonProject/data/without_mask/1358.jpg1.jpg'),\n",
       " PosixPath('/home/vaggelis/PycharmProjects/pythonProject/data/without_mask/1107.jpgval1.jpg'),\n",
       " PosixPath('/home/vaggelis/PycharmProjects/pythonProject/data/without_mask/2013.jpg1.jpg'),\n",
       " PosixPath('/home/vaggelis/PycharmProjects/pythonProject/data/without_mask/1226.jpgval1.jpg'),\n",
       " PosixPath('/home/vaggelis/PycharmProjects/pythonProject/data/without_mask/219.jpg1.jpg'),\n",
       " PosixPath('/home/vaggelis/PycharmProjects/pythonProject/data/without_mask/1462.jpg1.jpg'),\n",
       " PosixPath('/home/vaggelis/PycharmProjects/pythonProject/data/without_mask/1464.jpg1.jpg'),\n",
       " PosixPath('/home/vaggelis/PycharmProjects/pythonProject/data/without_mask/2117.jpg1.jpg'),\n",
       " PosixPath('/home/vaggelis/PycharmProjects/pythonProject/data/without_mask/282.jpgval1.jpg'),\n",
       " PosixPath('/home/vaggelis/PycharmProjects/pythonProject/data/without_mask/10.jpggval1.jpg'),\n",
       " PosixPath('/home/vaggelis/PycharmProjects/pythonProject/data/without_mask/1072.jpgval1.jpg'),\n",
       " PosixPath('/home/vaggelis/PycharmProjects/pythonProject/data/without_mask/1283.jpg1.jpg'),\n",
       " PosixPath('/home/vaggelis/PycharmProjects/pythonProject/data/without_mask/1362.jpg3.jpg'),\n",
       " PosixPath('/home/vaggelis/PycharmProjects/pythonProject/data/without_mask/657.jpgval1.jpg'),\n",
       " PosixPath('/home/vaggelis/PycharmProjects/pythonProject/data/without_mask/1604.jpg1.jpg'),\n",
       " PosixPath('/home/vaggelis/PycharmProjects/pythonProject/data/without_mask/1403.jpgval1.jpg'),\n",
       " PosixPath('/home/vaggelis/PycharmProjects/pythonProject/data/without_mask/2012.jpg1.jpg'),\n",
       " PosixPath('/home/vaggelis/PycharmProjects/pythonProject/data/without_mask/1289.jpgval1.jpg'),\n",
       " PosixPath('/home/vaggelis/PycharmProjects/pythonProject/data/without_mask/1165.jpg1.jpg'),\n",
       " PosixPath('/home/vaggelis/PycharmProjects/pythonProject/data/without_mask/3409.jpg2.jpg'),\n",
       " PosixPath('/home/vaggelis/PycharmProjects/pythonProject/data/without_mask/721.jpg1.jpg'),\n",
       " PosixPath('/home/vaggelis/PycharmProjects/pythonProject/data/without_mask/562.jpg1.jpg'),\n",
       " PosixPath('/home/vaggelis/PycharmProjects/pythonProject/data/without_mask/517.jpgval1.jpg'),\n",
       " PosixPath('/home/vaggelis/PycharmProjects/pythonProject/data/without_mask/1023.jpg1.jpg'),\n",
       " PosixPath('/home/vaggelis/PycharmProjects/pythonProject/data/without_mask/408.jpg1.jpg'),\n",
       " PosixPath('/home/vaggelis/PycharmProjects/pythonProject/data/without_mask/1246.jpgval1.jpg'),\n",
       " PosixPath('/home/vaggelis/PycharmProjects/pythonProject/data/without_mask/653.jpg3.jpg'),\n",
       " PosixPath('/home/vaggelis/PycharmProjects/pythonProject/data/without_mask/882.jpgval1.jpg'),\n",
       " PosixPath('/home/vaggelis/PycharmProjects/pythonProject/data/without_mask/787.jpgval1.jpg'),\n",
       " PosixPath('/home/vaggelis/PycharmProjects/pythonProject/data/without_mask/800.jpgval1.jpg'),\n",
       " PosixPath('/home/vaggelis/PycharmProjects/pythonProject/data/without_mask/113.jpgval1.jpg'),\n",
       " PosixPath('/home/vaggelis/PycharmProjects/pythonProject/data/without_mask/538.jpgval1.jpg'),\n",
       " PosixPath('/home/vaggelis/PycharmProjects/pythonProject/data/without_mask/624.jpgval1.jpg'),\n",
       " PosixPath('/home/vaggelis/PycharmProjects/pythonProject/data/without_mask/2113.jpg1.jpg'),\n",
       " PosixPath('/home/vaggelis/PycharmProjects/pythonProject/data/without_mask/213.jpg1.jpg'),\n",
       " PosixPath('/home/vaggelis/PycharmProjects/pythonProject/data/without_mask/1199.jpgval1.jpg'),\n",
       " PosixPath('/home/vaggelis/PycharmProjects/pythonProject/data/without_mask/1289.jpg1.jpg'),\n",
       " PosixPath('/home/vaggelis/PycharmProjects/pythonProject/data/without_mask/1408.jpgval1.jpg'),\n",
       " PosixPath('/home/vaggelis/PycharmProjects/pythonProject/data/without_mask/21.jpgval3.jpg'),\n",
       " PosixPath('/home/vaggelis/PycharmProjects/pythonProject/data/without_mask/641.jpgval1.jpg'),\n",
       " PosixPath('/home/vaggelis/PycharmProjects/pythonProject/data/without_mask/508.jpgval1.jpg'),\n",
       " PosixPath('/home/vaggelis/PycharmProjects/pythonProject/data/without_mask/1742.jpg1.jpg'),\n",
       " PosixPath('/home/vaggelis/PycharmProjects/pythonProject/data/without_mask/850.jpgval1.jpg'),\n",
       " PosixPath('/home/vaggelis/PycharmProjects/pythonProject/data/without_mask/895.jpgval1.jpg'),\n",
       " PosixPath('/home/vaggelis/PycharmProjects/pythonProject/data/without_mask/261.jpg1.jpg'),\n",
       " PosixPath('/home/vaggelis/PycharmProjects/pythonProject/data/without_mask/84.jpgval1.jpg'),\n",
       " PosixPath('/home/vaggelis/PycharmProjects/pythonProject/data/without_mask/1299.jpg1.jpg'),\n",
       " PosixPath('/home/vaggelis/PycharmProjects/pythonProject/data/without_mask/1543.jpg1.jpg'),\n",
       " PosixPath('/home/vaggelis/PycharmProjects/pythonProject/data/without_mask/1095.jpg1.jpg'),\n",
       " PosixPath('/home/vaggelis/PycharmProjects/pythonProject/data/without_mask/957.jpgval1.jpg'),\n",
       " PosixPath('/home/vaggelis/PycharmProjects/pythonProject/data/without_mask/1313.jpgval1.jpg'),\n",
       " PosixPath('/home/vaggelis/PycharmProjects/pythonProject/data/without_mask/514.jpgval1.jpg'),\n",
       " PosixPath('/home/vaggelis/PycharmProjects/pythonProject/data/without_mask/1681.jpg1.jpg'),\n",
       " PosixPath('/home/vaggelis/PycharmProjects/pythonProject/data/without_mask/1219.jpg1.jpg'),\n",
       " PosixPath('/home/vaggelis/PycharmProjects/pythonProject/data/without_mask/951.jpg1.jpg'),\n",
       " PosixPath('/home/vaggelis/PycharmProjects/pythonProject/data/without_mask/674.jpg1.jpg'),\n",
       " PosixPath('/home/vaggelis/PycharmProjects/pythonProject/data/without_mask/1371.jpg1.jpg'),\n",
       " PosixPath('/home/vaggelis/PycharmProjects/pythonProject/data/without_mask/2103.jpg1.jpg'),\n",
       " PosixPath('/home/vaggelis/PycharmProjects/pythonProject/data/without_mask/948.jpgval1.jpg'),\n",
       " ...]"
      ]
     },
     "execution_count": 14,
     "metadata": {},
     "output_type": "execute_result"
    }
   ],
   "source": [
    "image_paths"
   ]
  },
  {
   "cell_type": "code",
   "execution_count": 15,
   "metadata": {},
   "outputs": [
    {
     "data": {
      "text/plain": [
       "[0,\n",
       " 0,\n",
       " 0,\n",
       " 0,\n",
       " 0,\n",
       " 0,\n",
       " 0,\n",
       " 0,\n",
       " 0,\n",
       " 0,\n",
       " 0,\n",
       " 0,\n",
       " 0,\n",
       " 0,\n",
       " 0,\n",
       " 0,\n",
       " 0,\n",
       " 0,\n",
       " 0,\n",
       " 0,\n",
       " 0,\n",
       " 0,\n",
       " 0,\n",
       " 0,\n",
       " 0,\n",
       " 0,\n",
       " 0,\n",
       " 0,\n",
       " 0,\n",
       " 0,\n",
       " 0,\n",
       " 0,\n",
       " 0,\n",
       " 0,\n",
       " 0,\n",
       " 0,\n",
       " 0,\n",
       " 0,\n",
       " 0,\n",
       " 0,\n",
       " 0,\n",
       " 0,\n",
       " 0,\n",
       " 0,\n",
       " 0,\n",
       " 0,\n",
       " 0,\n",
       " 0,\n",
       " 0,\n",
       " 0,\n",
       " 0,\n",
       " 0,\n",
       " 0,\n",
       " 0,\n",
       " 0,\n",
       " 0,\n",
       " 0,\n",
       " 0,\n",
       " 0,\n",
       " 0,\n",
       " 0,\n",
       " 0,\n",
       " 0,\n",
       " 0,\n",
       " 0,\n",
       " 0,\n",
       " 0,\n",
       " 0,\n",
       " 0,\n",
       " 0,\n",
       " 0,\n",
       " 0,\n",
       " 0,\n",
       " 0,\n",
       " 0,\n",
       " 0,\n",
       " 0,\n",
       " 0,\n",
       " 0,\n",
       " 0,\n",
       " 0,\n",
       " 0,\n",
       " 0,\n",
       " 0,\n",
       " 0,\n",
       " 0,\n",
       " 0,\n",
       " 0,\n",
       " 0,\n",
       " 0,\n",
       " 0,\n",
       " 0,\n",
       " 0,\n",
       " 0,\n",
       " 0,\n",
       " 0,\n",
       " 0,\n",
       " 0,\n",
       " 0,\n",
       " 0,\n",
       " 0,\n",
       " 0,\n",
       " 0,\n",
       " 0,\n",
       " 0,\n",
       " 0,\n",
       " 0,\n",
       " 0,\n",
       " 0,\n",
       " 0,\n",
       " 0,\n",
       " 0,\n",
       " 0,\n",
       " 0,\n",
       " 0,\n",
       " 0,\n",
       " 0,\n",
       " 0,\n",
       " 0,\n",
       " 0,\n",
       " 0,\n",
       " 0,\n",
       " 0,\n",
       " 0,\n",
       " 0,\n",
       " 0,\n",
       " 0,\n",
       " 0,\n",
       " 0,\n",
       " 0,\n",
       " 0,\n",
       " 0,\n",
       " 0,\n",
       " 0,\n",
       " 0,\n",
       " 0,\n",
       " 0,\n",
       " 0,\n",
       " 0,\n",
       " 0,\n",
       " 0,\n",
       " 0,\n",
       " 0,\n",
       " 0,\n",
       " 0,\n",
       " 0,\n",
       " 0,\n",
       " 0,\n",
       " 0,\n",
       " 0,\n",
       " 0,\n",
       " 0,\n",
       " 0,\n",
       " 0,\n",
       " 0,\n",
       " 0,\n",
       " 0,\n",
       " 0,\n",
       " 0,\n",
       " 0,\n",
       " 0,\n",
       " 0,\n",
       " 0,\n",
       " 0,\n",
       " 0,\n",
       " 0,\n",
       " 0,\n",
       " 0,\n",
       " 0,\n",
       " 0,\n",
       " 0,\n",
       " 0,\n",
       " 0,\n",
       " 0,\n",
       " 0,\n",
       " 0,\n",
       " 0,\n",
       " 0,\n",
       " 0,\n",
       " 0,\n",
       " 0,\n",
       " 0,\n",
       " 0,\n",
       " 0,\n",
       " 0,\n",
       " 0,\n",
       " 0,\n",
       " 0,\n",
       " 0,\n",
       " 0,\n",
       " 0,\n",
       " 0,\n",
       " 0,\n",
       " 0,\n",
       " 0,\n",
       " 0,\n",
       " 0,\n",
       " 0,\n",
       " 0,\n",
       " 0,\n",
       " 0,\n",
       " 0,\n",
       " 0,\n",
       " 0,\n",
       " 0,\n",
       " 0,\n",
       " 0,\n",
       " 0,\n",
       " 0,\n",
       " 0,\n",
       " 0,\n",
       " 0,\n",
       " 0,\n",
       " 0,\n",
       " 0,\n",
       " 0,\n",
       " 0,\n",
       " 0,\n",
       " 0,\n",
       " 0,\n",
       " 0,\n",
       " 0,\n",
       " 0,\n",
       " 0,\n",
       " 0,\n",
       " 0,\n",
       " 0,\n",
       " 0,\n",
       " 0,\n",
       " 0,\n",
       " 0,\n",
       " 0,\n",
       " 0,\n",
       " 0,\n",
       " 0,\n",
       " 0,\n",
       " 0,\n",
       " 0,\n",
       " 0,\n",
       " 0,\n",
       " 0,\n",
       " 0,\n",
       " 0,\n",
       " 0,\n",
       " 0,\n",
       " 0,\n",
       " 0,\n",
       " 0,\n",
       " 0,\n",
       " 0,\n",
       " 0,\n",
       " 0,\n",
       " 0,\n",
       " 0,\n",
       " 0,\n",
       " 0,\n",
       " 0,\n",
       " 0,\n",
       " 0,\n",
       " 0,\n",
       " 0,\n",
       " 0,\n",
       " 0,\n",
       " 0,\n",
       " 0,\n",
       " 0,\n",
       " 0,\n",
       " 0,\n",
       " 0,\n",
       " 0,\n",
       " 0,\n",
       " 0,\n",
       " 0,\n",
       " 0,\n",
       " 0,\n",
       " 0,\n",
       " 0,\n",
       " 0,\n",
       " 0,\n",
       " 0,\n",
       " 0,\n",
       " 0,\n",
       " 0,\n",
       " 0,\n",
       " 0,\n",
       " 0,\n",
       " 0,\n",
       " 0,\n",
       " 0,\n",
       " 0,\n",
       " 0,\n",
       " 0,\n",
       " 0,\n",
       " 0,\n",
       " 0,\n",
       " 0,\n",
       " 0,\n",
       " 0,\n",
       " 0,\n",
       " 0,\n",
       " 0,\n",
       " 0,\n",
       " 0,\n",
       " 0,\n",
       " 0,\n",
       " 0,\n",
       " 0,\n",
       " 0,\n",
       " 0,\n",
       " 0,\n",
       " 0,\n",
       " 0,\n",
       " 0,\n",
       " 0,\n",
       " 0,\n",
       " 0,\n",
       " 0,\n",
       " 0,\n",
       " 0,\n",
       " 0,\n",
       " 0,\n",
       " 0,\n",
       " 0,\n",
       " 0,\n",
       " 0,\n",
       " 0,\n",
       " 0,\n",
       " 0,\n",
       " 0,\n",
       " 0,\n",
       " 0,\n",
       " 0,\n",
       " 0,\n",
       " 0,\n",
       " 0,\n",
       " 0,\n",
       " 0,\n",
       " 0,\n",
       " 0,\n",
       " 0,\n",
       " 0,\n",
       " 0,\n",
       " 0,\n",
       " 0,\n",
       " 0,\n",
       " 0,\n",
       " 0,\n",
       " 0,\n",
       " 0,\n",
       " 0,\n",
       " 0,\n",
       " 0,\n",
       " 0,\n",
       " 0,\n",
       " 0,\n",
       " 0,\n",
       " 0,\n",
       " 0,\n",
       " 0,\n",
       " 0,\n",
       " 0,\n",
       " 0,\n",
       " 0,\n",
       " 0,\n",
       " 0,\n",
       " 0,\n",
       " 0,\n",
       " 0,\n",
       " 0,\n",
       " 0,\n",
       " 0,\n",
       " 0,\n",
       " 0,\n",
       " 0,\n",
       " 0,\n",
       " 0,\n",
       " 0,\n",
       " 0,\n",
       " 0,\n",
       " 0,\n",
       " 0,\n",
       " 0,\n",
       " 0,\n",
       " 0,\n",
       " 0,\n",
       " 0,\n",
       " 0,\n",
       " 0,\n",
       " 0,\n",
       " 0,\n",
       " 0,\n",
       " 0,\n",
       " 0,\n",
       " 0,\n",
       " 0,\n",
       " 0,\n",
       " 0,\n",
       " 0,\n",
       " 0,\n",
       " 0,\n",
       " 0,\n",
       " 0,\n",
       " 0,\n",
       " 0,\n",
       " 0,\n",
       " 0,\n",
       " 0,\n",
       " 0,\n",
       " 0,\n",
       " 0,\n",
       " 0,\n",
       " 0,\n",
       " 0,\n",
       " 0,\n",
       " 0,\n",
       " 0,\n",
       " 0,\n",
       " 0,\n",
       " 0,\n",
       " 0,\n",
       " 0,\n",
       " 0,\n",
       " 0,\n",
       " 0,\n",
       " 0,\n",
       " 0,\n",
       " 0,\n",
       " 0,\n",
       " 0,\n",
       " 0,\n",
       " 0,\n",
       " 0,\n",
       " 0,\n",
       " 0,\n",
       " 0,\n",
       " 0,\n",
       " 0,\n",
       " 0,\n",
       " 0,\n",
       " 0,\n",
       " 0,\n",
       " 0,\n",
       " 0,\n",
       " 0,\n",
       " 0,\n",
       " 0,\n",
       " 0,\n",
       " 0,\n",
       " 0,\n",
       " 0,\n",
       " 0,\n",
       " 0,\n",
       " 0,\n",
       " 0,\n",
       " 0,\n",
       " 0,\n",
       " 0,\n",
       " 0,\n",
       " 0,\n",
       " 0,\n",
       " 0,\n",
       " 0,\n",
       " 0,\n",
       " 0,\n",
       " 0,\n",
       " 0,\n",
       " 0,\n",
       " 0,\n",
       " 0,\n",
       " 0,\n",
       " 0,\n",
       " 0,\n",
       " 0,\n",
       " 0,\n",
       " 0,\n",
       " 0,\n",
       " 0,\n",
       " 0,\n",
       " 0,\n",
       " 0,\n",
       " 0,\n",
       " 0,\n",
       " 0,\n",
       " 0,\n",
       " 0,\n",
       " 0,\n",
       " 0,\n",
       " 0,\n",
       " 0,\n",
       " 0,\n",
       " 0,\n",
       " 0,\n",
       " 0,\n",
       " 0,\n",
       " 0,\n",
       " 0,\n",
       " 0,\n",
       " 0,\n",
       " 0,\n",
       " 0,\n",
       " 0,\n",
       " 0,\n",
       " 0,\n",
       " 0,\n",
       " 0,\n",
       " 0,\n",
       " 0,\n",
       " 0,\n",
       " 0,\n",
       " 0,\n",
       " 0,\n",
       " 0,\n",
       " 0,\n",
       " 0,\n",
       " 0,\n",
       " 0,\n",
       " 0,\n",
       " 0,\n",
       " 0,\n",
       " 0,\n",
       " 0,\n",
       " 0,\n",
       " 0,\n",
       " 0,\n",
       " 0,\n",
       " 0,\n",
       " 0,\n",
       " 0,\n",
       " 0,\n",
       " 0,\n",
       " 0,\n",
       " 0,\n",
       " 0,\n",
       " 0,\n",
       " 0,\n",
       " 0,\n",
       " 0,\n",
       " 0,\n",
       " 0,\n",
       " 0,\n",
       " 0,\n",
       " 0,\n",
       " 0,\n",
       " 0,\n",
       " 0,\n",
       " 0,\n",
       " 0,\n",
       " 0,\n",
       " 0,\n",
       " 0,\n",
       " 0,\n",
       " 0,\n",
       " 0,\n",
       " 0,\n",
       " 0,\n",
       " 0,\n",
       " 0,\n",
       " 0,\n",
       " 0,\n",
       " 0,\n",
       " 0,\n",
       " 0,\n",
       " 0,\n",
       " 0,\n",
       " 0,\n",
       " 0,\n",
       " 0,\n",
       " 0,\n",
       " 0,\n",
       " 0,\n",
       " 0,\n",
       " 0,\n",
       " 0,\n",
       " 0,\n",
       " 0,\n",
       " 0,\n",
       " 0,\n",
       " 0,\n",
       " 0,\n",
       " 0,\n",
       " 0,\n",
       " 0,\n",
       " 0,\n",
       " 0,\n",
       " 0,\n",
       " 0,\n",
       " 0,\n",
       " 0,\n",
       " 0,\n",
       " 0,\n",
       " 0,\n",
       " 0,\n",
       " 0,\n",
       " 0,\n",
       " 0,\n",
       " 0,\n",
       " 0,\n",
       " 0,\n",
       " 0,\n",
       " 0,\n",
       " 0,\n",
       " 0,\n",
       " 0,\n",
       " 0,\n",
       " 0,\n",
       " 0,\n",
       " 0,\n",
       " 0,\n",
       " 0,\n",
       " 0,\n",
       " 0,\n",
       " 0,\n",
       " 0,\n",
       " 0,\n",
       " 0,\n",
       " 0,\n",
       " 0,\n",
       " 0,\n",
       " 0,\n",
       " 0,\n",
       " 0,\n",
       " 0,\n",
       " 0,\n",
       " 0,\n",
       " 0,\n",
       " 0,\n",
       " 0,\n",
       " 0,\n",
       " 0,\n",
       " 0,\n",
       " 0,\n",
       " 0,\n",
       " 0,\n",
       " 0,\n",
       " 0,\n",
       " 0,\n",
       " 0,\n",
       " 0,\n",
       " 0,\n",
       " 0,\n",
       " 0,\n",
       " 0,\n",
       " 0,\n",
       " 0,\n",
       " 0,\n",
       " 0,\n",
       " 0,\n",
       " 0,\n",
       " 0,\n",
       " 0,\n",
       " 0,\n",
       " 0,\n",
       " 0,\n",
       " 0,\n",
       " 0,\n",
       " 0,\n",
       " 0,\n",
       " 0,\n",
       " 0,\n",
       " 0,\n",
       " 0,\n",
       " 0,\n",
       " 0,\n",
       " 0,\n",
       " 0,\n",
       " 0,\n",
       " 0,\n",
       " 0,\n",
       " 0,\n",
       " 0,\n",
       " 0,\n",
       " 0,\n",
       " 0,\n",
       " 0,\n",
       " 0,\n",
       " 0,\n",
       " 0,\n",
       " 0,\n",
       " 0,\n",
       " 0,\n",
       " 0,\n",
       " 0,\n",
       " 0,\n",
       " 0,\n",
       " 0,\n",
       " 0,\n",
       " 0,\n",
       " 0,\n",
       " 0,\n",
       " 0,\n",
       " 0,\n",
       " 0,\n",
       " 0,\n",
       " 0,\n",
       " 0,\n",
       " 0,\n",
       " 0,\n",
       " 0,\n",
       " 0,\n",
       " 0,\n",
       " 0,\n",
       " 0,\n",
       " 0,\n",
       " 0,\n",
       " 0,\n",
       " 0,\n",
       " 0,\n",
       " 0,\n",
       " 0,\n",
       " 0,\n",
       " 0,\n",
       " 0,\n",
       " 0,\n",
       " 0,\n",
       " 0,\n",
       " 0,\n",
       " 0,\n",
       " 0,\n",
       " 0,\n",
       " 0,\n",
       " 0,\n",
       " 0,\n",
       " 0,\n",
       " 0,\n",
       " 0,\n",
       " 0,\n",
       " 0,\n",
       " 0,\n",
       " 0,\n",
       " 0,\n",
       " 0,\n",
       " 0,\n",
       " 0,\n",
       " 0,\n",
       " 0,\n",
       " 0,\n",
       " 0,\n",
       " 0,\n",
       " 0,\n",
       " 0,\n",
       " 0,\n",
       " 0,\n",
       " 0,\n",
       " 0,\n",
       " 0,\n",
       " 0,\n",
       " 0,\n",
       " 0,\n",
       " 0,\n",
       " 0,\n",
       " 0,\n",
       " 0,\n",
       " 0,\n",
       " 0,\n",
       " 0,\n",
       " 0,\n",
       " 0,\n",
       " 0,\n",
       " 0,\n",
       " 0,\n",
       " 0,\n",
       " 0,\n",
       " 0,\n",
       " 0,\n",
       " 0,\n",
       " 0,\n",
       " 0,\n",
       " 0,\n",
       " 0,\n",
       " 0,\n",
       " 0,\n",
       " 0,\n",
       " 0,\n",
       " 0,\n",
       " 0,\n",
       " 0,\n",
       " 0,\n",
       " 0,\n",
       " 0,\n",
       " 0,\n",
       " 0,\n",
       " 0,\n",
       " 0,\n",
       " 0,\n",
       " 0,\n",
       " 0,\n",
       " 0,\n",
       " 0,\n",
       " 0,\n",
       " 0,\n",
       " 0,\n",
       " 0,\n",
       " 0,\n",
       " 0,\n",
       " 0,\n",
       " 0,\n",
       " 0,\n",
       " 0,\n",
       " 0,\n",
       " 0,\n",
       " 0,\n",
       " 0,\n",
       " 0,\n",
       " 0,\n",
       " 0,\n",
       " 0,\n",
       " 0,\n",
       " 0,\n",
       " 0,\n",
       " 0,\n",
       " 0,\n",
       " 0,\n",
       " 0,\n",
       " 0,\n",
       " 0,\n",
       " 0,\n",
       " 0,\n",
       " 0,\n",
       " 0,\n",
       " 0,\n",
       " 0,\n",
       " 0,\n",
       " 0,\n",
       " 0,\n",
       " 0,\n",
       " 0,\n",
       " 0,\n",
       " 0,\n",
       " 0,\n",
       " 0,\n",
       " 0,\n",
       " 0,\n",
       " 0,\n",
       " 0,\n",
       " 0,\n",
       " 0,\n",
       " 0,\n",
       " 0,\n",
       " 0,\n",
       " 0,\n",
       " 0,\n",
       " 0,\n",
       " 0,\n",
       " 0,\n",
       " 0,\n",
       " 0,\n",
       " 0,\n",
       " 0,\n",
       " 0,\n",
       " 0,\n",
       " 0,\n",
       " 0,\n",
       " 0,\n",
       " 0,\n",
       " 0,\n",
       " 0,\n",
       " 0,\n",
       " 0,\n",
       " 0,\n",
       " 0,\n",
       " 0,\n",
       " 0,\n",
       " 0,\n",
       " 0,\n",
       " 0,\n",
       " 0,\n",
       " 0,\n",
       " 0,\n",
       " 0,\n",
       " 0,\n",
       " 0,\n",
       " 0,\n",
       " 0,\n",
       " 0,\n",
       " 0,\n",
       " 0,\n",
       " 0,\n",
       " 0,\n",
       " 0,\n",
       " 0,\n",
       " 0,\n",
       " 0,\n",
       " 0,\n",
       " 0,\n",
       " 0,\n",
       " 0,\n",
       " 0,\n",
       " 0,\n",
       " 0,\n",
       " 0,\n",
       " 0,\n",
       " 0,\n",
       " 0,\n",
       " 0,\n",
       " 0,\n",
       " 0,\n",
       " 0,\n",
       " 0,\n",
       " 0,\n",
       " 0,\n",
       " 0,\n",
       " 0,\n",
       " 0,\n",
       " 0,\n",
       " 0,\n",
       " 0,\n",
       " 0,\n",
       " 0,\n",
       " 0,\n",
       " 0,\n",
       " 0,\n",
       " 0,\n",
       " 0,\n",
       " 0,\n",
       " 0,\n",
       " 0,\n",
       " 0,\n",
       " 0,\n",
       " 0,\n",
       " 0,\n",
       " 0,\n",
       " 0,\n",
       " 0,\n",
       " 0,\n",
       " 0,\n",
       " 0,\n",
       " 0,\n",
       " 0,\n",
       " 0,\n",
       " 0,\n",
       " 0,\n",
       " 0,\n",
       " 0,\n",
       " 0,\n",
       " 0,\n",
       " 0,\n",
       " 0,\n",
       " 0,\n",
       " 0,\n",
       " 0,\n",
       " 0,\n",
       " 0,\n",
       " 0,\n",
       " 0,\n",
       " 0,\n",
       " 0,\n",
       " 0,\n",
       " 0,\n",
       " 0,\n",
       " 0,\n",
       " 0,\n",
       " 0,\n",
       " 0,\n",
       " 0,\n",
       " 0,\n",
       " 0,\n",
       " 0,\n",
       " 0,\n",
       " 0,\n",
       " 0,\n",
       " 0,\n",
       " 0,\n",
       " 0,\n",
       " 0,\n",
       " 0,\n",
       " 0,\n",
       " 0,\n",
       " 0,\n",
       " 0,\n",
       " 0,\n",
       " 0,\n",
       " 0,\n",
       " 0,\n",
       " 0,\n",
       " 0,\n",
       " 0,\n",
       " 0,\n",
       " 0,\n",
       " 0,\n",
       " 0,\n",
       " 0,\n",
       " 0,\n",
       " 0,\n",
       " 0,\n",
       " 0,\n",
       " 0,\n",
       " 0,\n",
       " 0,\n",
       " 0,\n",
       " 0,\n",
       " 0,\n",
       " 0,\n",
       " 0,\n",
       " 0,\n",
       " 0,\n",
       " 0,\n",
       " 0,\n",
       " 0,\n",
       " 0,\n",
       " 0,\n",
       " ...]"
      ]
     },
     "execution_count": 15,
     "metadata": {},
     "output_type": "execute_result"
    }
   ],
   "source": [
    "image_labels"
   ]
  },
  {
   "cell_type": "code",
   "execution_count": 16,
   "metadata": {},
   "outputs": [
    {
     "data": {
      "text/html": [
       "<div>\n",
       "<style scoped>\n",
       "    .dataframe tbody tr th:only-of-type {\n",
       "        vertical-align: middle;\n",
       "    }\n",
       "\n",
       "    .dataframe tbody tr th {\n",
       "        vertical-align: top;\n",
       "    }\n",
       "\n",
       "    .dataframe thead th {\n",
       "        text-align: right;\n",
       "    }\n",
       "</style>\n",
       "<table border=\"1\" class=\"dataframe\">\n",
       "  <thead>\n",
       "    <tr style=\"text-align: right;\">\n",
       "      <th></th>\n",
       "      <th>img_paths</th>\n",
       "      <th>img_labels</th>\n",
       "    </tr>\n",
       "  </thead>\n",
       "  <tbody>\n",
       "    <tr>\n",
       "      <td>0</td>\n",
       "      <td>/home/vaggelis/PycharmProjects/pythonProject/d...</td>\n",
       "      <td>0</td>\n",
       "    </tr>\n",
       "    <tr>\n",
       "      <td>1</td>\n",
       "      <td>/home/vaggelis/PycharmProjects/pythonProject/d...</td>\n",
       "      <td>0</td>\n",
       "    </tr>\n",
       "    <tr>\n",
       "      <td>2</td>\n",
       "      <td>/home/vaggelis/PycharmProjects/pythonProject/d...</td>\n",
       "      <td>0</td>\n",
       "    </tr>\n",
       "    <tr>\n",
       "      <td>3</td>\n",
       "      <td>/home/vaggelis/PycharmProjects/pythonProject/d...</td>\n",
       "      <td>0</td>\n",
       "    </tr>\n",
       "    <tr>\n",
       "      <td>4</td>\n",
       "      <td>/home/vaggelis/PycharmProjects/pythonProject/d...</td>\n",
       "      <td>0</td>\n",
       "    </tr>\n",
       "    <tr>\n",
       "      <td>...</td>\n",
       "      <td>...</td>\n",
       "      <td>...</td>\n",
       "    </tr>\n",
       "    <tr>\n",
       "      <td>6530</td>\n",
       "      <td>/home/vaggelis/PycharmProjects/pythonProject/d...</td>\n",
       "      <td>1</td>\n",
       "    </tr>\n",
       "    <tr>\n",
       "      <td>6531</td>\n",
       "      <td>/home/vaggelis/PycharmProjects/pythonProject/d...</td>\n",
       "      <td>1</td>\n",
       "    </tr>\n",
       "    <tr>\n",
       "      <td>6532</td>\n",
       "      <td>/home/vaggelis/PycharmProjects/pythonProject/d...</td>\n",
       "      <td>1</td>\n",
       "    </tr>\n",
       "    <tr>\n",
       "      <td>6533</td>\n",
       "      <td>/home/vaggelis/PycharmProjects/pythonProject/d...</td>\n",
       "      <td>1</td>\n",
       "    </tr>\n",
       "    <tr>\n",
       "      <td>6534</td>\n",
       "      <td>/home/vaggelis/PycharmProjects/pythonProject/d...</td>\n",
       "      <td>1</td>\n",
       "    </tr>\n",
       "  </tbody>\n",
       "</table>\n",
       "<p>6535 rows × 2 columns</p>\n",
       "</div>"
      ],
      "text/plain": [
       "                                              img_paths  img_labels\n",
       "0     /home/vaggelis/PycharmProjects/pythonProject/d...           0\n",
       "1     /home/vaggelis/PycharmProjects/pythonProject/d...           0\n",
       "2     /home/vaggelis/PycharmProjects/pythonProject/d...           0\n",
       "3     /home/vaggelis/PycharmProjects/pythonProject/d...           0\n",
       "4     /home/vaggelis/PycharmProjects/pythonProject/d...           0\n",
       "...                                                 ...         ...\n",
       "6530  /home/vaggelis/PycharmProjects/pythonProject/d...           1\n",
       "6531  /home/vaggelis/PycharmProjects/pythonProject/d...           1\n",
       "6532  /home/vaggelis/PycharmProjects/pythonProject/d...           1\n",
       "6533  /home/vaggelis/PycharmProjects/pythonProject/d...           1\n",
       "6534  /home/vaggelis/PycharmProjects/pythonProject/d...           1\n",
       "\n",
       "[6535 rows x 2 columns]"
      ]
     },
     "execution_count": 16,
     "metadata": {},
     "output_type": "execute_result"
    }
   ],
   "source": [
    "df1 = pd.DataFrame({'img_paths': image_paths,\n",
    "              'img_labels': image_labels})\n",
    "df1"
   ]
  },
  {
   "cell_type": "code",
   "execution_count": 17,
   "metadata": {},
   "outputs": [],
   "source": [
    "# load the actual images and do some pre-processing to get the X and y datasets\n",
    "X, y = examples_to_dataset(img_paths=image_paths,\n",
    "                           labels=image_labels,\n",
    "                           block_size=2,\n",
    "                           as_gray=True)"
   ]
  },
  {
   "cell_type": "code",
   "execution_count": 18,
   "metadata": {},
   "outputs": [
    {
     "data": {
      "text/plain": [
       "(6535, 32, 32)"
      ]
     },
     "execution_count": 18,
     "metadata": {},
     "output_type": "execute_result"
    }
   ],
   "source": [
    "X.shape"
   ]
  },
  {
   "cell_type": "code",
   "execution_count": 19,
   "metadata": {},
   "outputs": [
    {
     "data": {
      "text/plain": [
       "numpy.ndarray"
      ]
     },
     "execution_count": 19,
     "metadata": {},
     "output_type": "execute_result"
    }
   ],
   "source": [
    "type(X)"
   ]
  },
  {
   "cell_type": "code",
   "execution_count": 20,
   "metadata": {},
   "outputs": [
    {
     "data": {
      "text/plain": [
       "(6535,)"
      ]
     },
     "execution_count": 20,
     "metadata": {},
     "output_type": "execute_result"
    }
   ],
   "source": [
    "y.shape"
   ]
  },
  {
   "cell_type": "code",
   "execution_count": 21,
   "metadata": {},
   "outputs": [],
   "source": [
    "# Converting to floats and normalizing the images\n",
    "X = X.astype(np.float32) / 255.\n",
    "\n",
    "# Converting the labels to integers\n",
    "y = y.astype(np.int32)"
   ]
  },
  {
   "cell_type": "code",
   "execution_count": 22,
   "metadata": {},
   "outputs": [
    {
     "name": "stdout",
     "output_type": "stream",
     "text": [
      "float32 0.0 1.0 (6535, 32, 32)\n",
      "int32 0 1 (6535,)\n"
     ]
    }
   ],
   "source": [
    "print(X.dtype, X.min(), X.max(), X.shape)\n",
    "\n",
    "print(y.dtype, y.min(), y.max(), y.shape)"
   ]
  },
  {
   "cell_type": "code",
   "execution_count": 23,
   "metadata": {},
   "outputs": [
    {
     "data": {
      "image/jpeg": "[encoded data removed]",
      "text/plain": [
       "<IPython.core.display.Image object>"
      ]
     },
     "metadata": {},
     "output_type": "display_data"
    }
   ],
   "source": [
    "# plot a mosaic of people for the negative paths\n",
    "show_array(255 * make_mosaic(X[:len(negative_paths)], n=20), fmt='jpeg')  # negative at the beginning"
   ]
  },
  {
   "cell_type": "code",
   "execution_count": 24,
   "metadata": {},
   "outputs": [
    {
     "data": {
      "image/jpeg": "[encoded data removed]",
      "text/plain": [
       "<IPython.core.display.Image object>"
      ]
     },
     "metadata": {},
     "output_type": "display_data"
    }
   ],
   "source": [
    "# plot a mosaic of people for the positive (smiling people) paths \n",
    "show_array(255 * make_mosaic(X[-len(positive_paths):], n=20), fmt='jpeg')  # positive at the end\n"
   ]
  },
  {
   "cell_type": "code",
   "execution_count": 25,
   "metadata": {},
   "outputs": [
    {
     "name": "stdout",
     "output_type": "stream",
     "text": [
      "(6535, 32, 32)\n"
     ]
    }
   ],
   "source": [
    "# Check out this shape. It doen't contain the \"number of channels\"\n",
    "# It's just (n_samples, width, height). \n",
    "# We need also the number of channels.|\n",
    "print(X.shape)"
   ]
  },
  {
   "cell_type": "code",
   "execution_count": 26,
   "metadata": {},
   "outputs": [],
   "source": [
    "# Expanding the dimensions in order to be able to fit it in a CNN model.\n",
    "X = np.expand_dims(X, axis=-1)"
   ]
  },
  {
   "cell_type": "code",
   "execution_count": 27,
   "metadata": {},
   "outputs": [
    {
     "name": "stdout",
     "output_type": "stream",
     "text": [
      "(6535, 32, 32, 1)\n"
     ]
    }
   ],
   "source": [
    "# the new shape \n",
    "print(X.shape)"
   ]
  },
  {
   "cell_type": "code",
   "execution_count": 28,
   "metadata": {},
   "outputs": [],
   "source": [
    "# Using numpy to save the X an y's in a special format that is quite easy to store and retrieve\n",
    "np.save('X.npy', X)\n",
    "np.save('y.npy', y)"
   ]
  },
  {
   "cell_type": "code",
   "execution_count": 29,
   "metadata": {},
   "outputs": [],
   "source": [
    "# load the data. We don't need the previous procedure from start\n",
    "X = np.load('X.npy')\n",
    "y = np.load('y.npy')"
   ]
  },
  {
   "cell_type": "code",
   "execution_count": 31,
   "metadata": {},
   "outputs": [
    {
     "data": {
      "text/plain": [
       "array([[1., 0.],\n",
       "       [1., 0.],\n",
       "       [1., 0.],\n",
       "       ...,\n",
       "       [0., 1.],\n",
       "       [0., 1.],\n",
       "       [0., 1.]], dtype=float32)"
      ]
     },
     "execution_count": 31,
     "metadata": {},
     "output_type": "execute_result"
    }
   ],
   "source": [
    "# convert classes to vector\n",
    "nb_classes = 2\n",
    "\n",
    "y = np_utils.to_categorical(y, nb_classes).astype(np.float32)"
   ]
  },
  {
   "cell_type": "code",
   "execution_count": 32,
   "metadata": {},
   "outputs": [
    {
     "name": "stdout",
     "output_type": "stream",
     "text": [
      "Getting shuffled indices: [5897 3823 6075 ... 5769 5034 1484]\n"
     ]
    }
   ],
   "source": [
    "# shuffle all the data\n",
    "\n",
    "# creating indices from the length of X\n",
    "indices = np.arange(len(X))\n",
    "\n",
    "# shuffling the indices\n",
    "np.random.shuffle(indices)\n",
    "\n",
    "print(f'Getting shuffled indices: {indices}')\n",
    "\n",
    "# shuffling X and Y\n",
    "X = X[indices]\n",
    "y = y[indices]"
   ]
  },
  {
   "cell_type": "code",
   "execution_count": 34,
   "metadata": {},
   "outputs": [],
   "source": [
    "# prepare weighting for classes since they're unbalanced\n",
    "class_totals = y.sum(axis=0)\n",
    "class_weight = class_totals.max() / class_totals"
   ]
  },
  {
   "cell_type": "code",
   "execution_count": 35,
   "metadata": {},
   "outputs": [
    {
     "data": {
      "text/plain": [
       "array([1.       , 1.0511613], dtype=float32)"
      ]
     },
     "execution_count": 35,
     "metadata": {},
     "output_type": "execute_result"
    }
   ],
   "source": [
    "class_weight"
   ]
  },
  {
   "cell_type": "code",
   "execution_count": 36,
   "metadata": {},
   "outputs": [
    {
     "name": "stdout",
     "output_type": "stream",
     "text": [
      "X | Type: float32, Min: 0.0, Max: 1.0, Shape (6535, 32, 32, 1)\n",
      "y | Type: float32, Min: 0.0, Max: 1.0, Shape (6535, 2)\n"
     ]
    }
   ],
   "source": [
    "print(f'X | Type: {X.dtype}, Min: {X.min()}, Max: {X.max()}, Shape {X.shape}')\n",
    "print(f'y | Type: {y.dtype}, Min: {y.min()}, Max: {y.max()}, Shape {y.shape}')"
   ]
  },
  {
   "cell_type": "code",
   "execution_count": 37,
   "metadata": {},
   "outputs": [],
   "source": [
    "X_train, X_test, y_train, y_test = train_test_split(X, y, image_labels, test_size=0.25)"
   ]
  },
  {
   "cell_type": "code",
   "execution_count": 38,
   "metadata": {},
   "outputs": [],
   "source": [
    "# Setting model hyper-paramters\n",
    "nb_filters = 64\n",
    "\n",
    "nb_pool = 2\n",
    "\n",
    "nb_conv = 3"
   ]
  },
  {
   "cell_type": "code",
   "execution_count": 39,
   "metadata": {},
   "outputs": [
    {
     "name": "stdout",
     "output_type": "stream",
     "text": [
      "Model: \"sequential\"\n",
      "_________________________________________________________________\n",
      "Layer (type)                 Output Shape              Param #   \n",
      "=================================================================\n",
      "conv2d (Conv2D)              (None, 30, 30, 64)        640       \n",
      "_________________________________________________________________\n",
      "conv2d_1 (Conv2D)            (None, 28, 28, 64)        36928     \n",
      "_________________________________________________________________\n",
      "max_pooling2d (MaxPooling2D) (None, 14, 14, 64)        0         \n",
      "_________________________________________________________________\n",
      "dropout (Dropout)            (None, 14, 14, 64)        0         \n",
      "_________________________________________________________________\n",
      "flatten (Flatten)            (None, 12544)             0         \n",
      "_________________________________________________________________\n",
      "dense (Dense)                (None, 128)               1605760   \n",
      "_________________________________________________________________\n",
      "dropout_1 (Dropout)          (None, 128)               0         \n",
      "_________________________________________________________________\n",
      "dense_1 (Dense)              (None, 2)                 258       \n",
      "=================================================================\n",
      "Total params: 1,643,586\n",
      "Trainable params: 1,643,586\n",
      "Non-trainable params: 0\n",
      "_________________________________________________________________\n",
      "None\n"
     ]
    }
   ],
   "source": [
    "mask_model = build_model(x=X_train,\n",
    "                          n_classes=nb_classes,\n",
    "                          n_filters=nb_filters,\n",
    "                          n_pool=nb_pool,\n",
    "                          n_conv=nb_conv,\n",
    "                          dr=0.25)"
   ]
  },
  {
   "cell_type": "code",
   "execution_count": 40,
   "metadata": {},
   "outputs": [],
   "source": [
    "# Setting hyper-parameters for the fit.\n",
    "\n",
    "validation_split = 0.10\n",
    "bs = 64\n",
    "n_epochs = 100"
   ]
  },
  {
   "cell_type": "code",
   "execution_count": 41,
   "metadata": {},
   "outputs": [],
   "source": [
    "from tensorflow.python.keras.callbacks import EarlyStopping\n",
    "\n",
    "# setting the early stoping callback\n",
    "es = EarlyStopping(monitor='val_loss',\n",
    "                   patience=5,\n",
    "                   verbose=1,\n",
    "                   restore_best_weights=True),"
   ]
  },
  {
   "cell_type": "code",
   "execution_count": 42,
   "metadata": {},
   "outputs": [
    {
     "data": {
      "text/plain": [
       "{0: 1.0, 1: 1.0511613}"
      ]
     },
     "execution_count": 42,
     "metadata": {},
     "output_type": "execute_result"
    }
   ],
   "source": [
    "class_weight = {c: w for c, w in enumerate(class_weight)}\n",
    "class_weight"
   ]
  },
  {
   "cell_type": "code",
   "execution_count": 43,
   "metadata": {},
   "outputs": [
    {
     "name": "stdout",
     "output_type": "stream",
     "text": [
      "Epoch 1/100\n",
      "69/69 [==============================] - 5s 73ms/step - loss: 0.4602 - accuracy: 0.7946 - val_loss: 0.2420 - val_accuracy: 0.9226\n",
      "Epoch 2/100\n",
      "69/69 [==============================] - 5s 70ms/step - loss: 0.1605 - accuracy: 0.9474 - val_loss: 0.1382 - val_accuracy: 0.9511\n",
      "Epoch 3/100\n",
      "69/69 [==============================] - 5s 71ms/step - loss: 0.0881 - accuracy: 0.9726 - val_loss: 0.1075 - val_accuracy: 0.9572\n",
      "Epoch 4/100\n",
      "69/69 [==============================] - 5s 75ms/step - loss: 0.0637 - accuracy: 0.9780 - val_loss: 0.0999 - val_accuracy: 0.9613\n",
      "Epoch 5/100\n",
      "69/69 [==============================] - 5s 76ms/step - loss: 0.0563 - accuracy: 0.9810 - val_loss: 0.0889 - val_accuracy: 0.9715\n",
      "Epoch 6/100\n",
      "69/69 [==============================] - 5s 76ms/step - loss: 0.0447 - accuracy: 0.9848 - val_loss: 0.1042 - val_accuracy: 0.9613\n",
      "Epoch 7/100\n",
      "69/69 [==============================] - 5s 77ms/step - loss: 0.0358 - accuracy: 0.9873 - val_loss: 0.0967 - val_accuracy: 0.9715\n",
      "Epoch 8/100\n",
      "69/69 [==============================] - 5s 78ms/step - loss: 0.0298 - accuracy: 0.9896 - val_loss: 0.0974 - val_accuracy: 0.9735\n",
      "Epoch 9/100\n",
      "69/69 [==============================] - 5s 77ms/step - loss: 0.0234 - accuracy: 0.9930 - val_loss: 0.0944 - val_accuracy: 0.9715\n",
      "Epoch 10/100\n",
      "69/69 [==============================] - 5s 79ms/step - loss: 0.0184 - accuracy: 0.9946 - val_loss: 0.0801 - val_accuracy: 0.9756\n",
      "Epoch 11/100\n",
      "69/69 [==============================] - 5s 76ms/step - loss: 0.0154 - accuracy: 0.9939 - val_loss: 0.0969 - val_accuracy: 0.9796\n",
      "Epoch 12/100\n",
      "69/69 [==============================] - 5s 77ms/step - loss: 0.0128 - accuracy: 0.9955 - val_loss: 0.0870 - val_accuracy: 0.9796\n",
      "Epoch 13/100\n",
      "69/69 [==============================] - 6s 80ms/step - loss: 0.0109 - accuracy: 0.9968 - val_loss: 0.1163 - val_accuracy: 0.9776\n",
      "Epoch 14/100\n",
      "69/69 [==============================] - 5s 77ms/step - loss: 0.0104 - accuracy: 0.9971 - val_loss: 0.1119 - val_accuracy: 0.9715\n",
      "Epoch 15/100\n",
      "69/69 [==============================] - ETA: 0s - loss: 0.0124 - accuracy: 0.9961Restoring model weights from the end of the best epoch.\n",
      "69/69 [==============================] - 5s 76ms/step - loss: 0.0124 - accuracy: 0.9961 - val_loss: 0.1138 - val_accuracy: 0.9715\n",
      "Epoch 00015: early stopping\n"
     ]
    },
    {
     "data": {
      "text/plain": [
       "<tensorflow.python.keras.callbacks.History at 0x7f8968364d10>"
      ]
     },
     "execution_count": 43,
     "metadata": {},
     "output_type": "execute_result"
    }
   ],
   "source": [
    "mask_model.fit(X_train,\n",
    "                y_train,\n",
    "                batch_size=bs,\n",
    "                class_weight=class_weight,\n",
    "                epochs=n_epochs,\n",
    "                verbose=1,\n",
    "                validation_split=validation_split,\n",
    "                callbacks=[es[0]])"
   ]
  },
  {
   "cell_type": "code",
   "execution_count": 44,
   "metadata": {},
   "outputs": [],
   "source": [
    "# saving the model to json format\n",
    "open('model2.json', 'w').write(mask_model.to_json())\n",
    "\n",
    "# saving the weights of the model separately\n",
    "mask_model.save_weights('weights2.h5')"
   ]
  },
  {
   "cell_type": "code",
   "execution_count": 45,
   "metadata": {},
   "outputs": [
    {
     "data": {
      "image/png": "[encoded data removed]",
      "text/plain": [
       "<Figure size 432x288 with 1 Axes>"
      ]
     },
     "metadata": {
      "needs_background": "light"
     },
     "output_type": "display_data"
    }
   ],
   "source": [
    "plt.plot(mask_model.history.history['loss'])\n",
    "plt.plot(mask_model.history.history['val_loss'])\n",
    "plt.show()"
   ]
  },
  {
   "cell_type": "code",
   "execution_count": 46,
   "metadata": {},
   "outputs": [
    {
     "data": {
      "image/png": "[encoded data removed]",
      "text/plain": [
       "<Figure size 432x288 with 1 Axes>"
      ]
     },
     "metadata": {
      "needs_background": "light"
     },
     "output_type": "display_data"
    }
   ],
   "source": [
    "plt.plot(mask_model.history.history['accuracy'])\n",
    "plt.plot(mask_model.history.history['val_accuracy'])\n",
    "plt.show()"
   ]
  },
  {
   "cell_type": "code",
   "execution_count": 47,
   "metadata": {},
   "outputs": [
    {
     "name": "stdout",
     "output_type": "stream",
     "text": [
      "0.9959172790748054\n"
     ]
    }
   ],
   "source": [
    "n_validation = int(len(X_train) * validation_split)\n",
    "\n",
    "y_predicted = mask_model.predict(X_train[-n_validation:])\n",
    "\n",
    "print(roc_auc_score(y_train[-n_validation:], y_predicted))"
   ]
  },
  {
   "cell_type": "code",
   "execution_count": 48,
   "metadata": {},
   "outputs": [],
   "source": [
    "# load the model from json\n",
    "mask_model = model_from_json(open('model2.json').read())\n",
    "\n",
    "# loading the weigths\n",
    "mask_model.load_weights('weights2.h5')\n",
    "\n",
    "# loading the data (X)\n",
    "#X = np.load('X.npy')\n",
    "\n",
    "# creating the class names (0 --> Neutral, 1 --> Smiling)\n",
    "class_names = ['No mask', 'Mask']"
   ]
  },
  {
   "cell_type": "code",
   "execution_count": 49,
   "metadata": {},
   "outputs": [
    {
     "data": {
      "image/png": "[encoded data removed]",
      "text/plain": [
       "<IPython.core.display.Image object>"
      ]
     },
     "metadata": {},
     "output_type": "display_data"
    },
    {
     "name": "stdout",
     "output_type": "stream",
     "text": [
      "['No_Mask', 'Mask']\n",
      "[3.4207321e-04 9.9965787e-01]\n",
      "\n",
      "No mask -------------------------------------------------###- Mask\n"
     ]
    }
   ],
   "source": [
    "img = X_test[-36]\n",
    "\n",
    "show_array(255 * img)\n",
    "\n",
    "print_indicator(img, mask_model, class_names)"
   ]
  },
  {
   "cell_type": "code",
   "execution_count": 51,
   "metadata": {},
   "outputs": [
    {
     "data": {
      "image/png": "[encoded data removed]",
      "text/plain": [
       "<IPython.core.display.Image object>"
      ]
     },
     "metadata": {},
     "output_type": "display_data"
    },
    {
     "name": "stdout",
     "output_type": "stream",
     "text": [
      "['No_Mask', 'Mask']\n",
      "[1.3231010e-05 9.9998677e-01]\n",
      "\n",
      "No mask -------------------------------------------------###- Mask\n",
      "\n"
     ]
    },
    {
     "data": {
      "image/png": "[encoded data removed]",
      "text/plain": [
       "<IPython.core.display.Image object>"
      ]
     },
     "metadata": {},
     "output_type": "display_data"
    },
    {
     "name": "stdout",
     "output_type": "stream",
     "text": [
      "['No_Mask', 'Mask']\n",
      "[8.739192e-06 9.999913e-01]\n",
      "\n",
      "No mask -------------------------------------------------###- Mask\n",
      "\n"
     ]
    },
    {
     "data": {
      "image/png": "[encoded data removed]",
      "text/plain": [
       "<IPython.core.display.Image object>"
      ]
     },
     "metadata": {},
     "output_type": "display_data"
    },
    {
     "name": "stdout",
     "output_type": "stream",
     "text": [
      "['No_Mask', 'Mask']\n",
      "[0.66575456 0.33424544]\n",
      "\n",
      "No mask ----------------###---------------------------------- Mask\n",
      "\n"
     ]
    },
    {
     "data": {
      "image/png": "[encoded data removed]",
      "text/plain": [
       "<IPython.core.display.Image object>"
      ]
     },
     "metadata": {},
     "output_type": "display_data"
    },
    {
     "name": "stdout",
     "output_type": "stream",
     "text": [
      "['No_Mask', 'Mask']\n",
      "[9.9998367e-01 1.6319269e-05]\n",
      "\n",
      "No mask ###-------------------------------------------------- Mask\n",
      "\n"
     ]
    },
    {
     "data": {
      "image/png": "[encoded data removed]",
      "text/plain": [
       "<IPython.core.display.Image object>"
      ]
     },
     "metadata": {},
     "output_type": "display_data"
    },
    {
     "name": "stdout",
     "output_type": "stream",
     "text": [
      "['No_Mask', 'Mask']\n",
      "[9.9945551e-01 5.4451346e-04]\n",
      "\n",
      "No mask ###-------------------------------------------------- Mask\n",
      "\n"
     ]
    },
    {
     "data": {
      "image/png": "[encoded data removed]",
      "text/plain": [
       "<IPython.core.display.Image object>"
      ]
     },
     "metadata": {},
     "output_type": "display_data"
    },
    {
     "name": "stdout",
     "output_type": "stream",
     "text": [
      "['No_Mask', 'Mask']\n",
      "[9.993923e-01 6.077535e-04]\n",
      "\n",
      "No mask ###-------------------------------------------------- Mask\n",
      "\n"
     ]
    },
    {
     "data": {
      "image/png": "[encoded data removed]",
      "text/plain": [
       "<IPython.core.display.Image object>"
      ]
     },
     "metadata": {},
     "output_type": "display_data"
    },
    {
     "name": "stdout",
     "output_type": "stream",
     "text": [
      "['No_Mask', 'Mask']\n",
      "[9.999912e-01 8.850465e-06]\n",
      "\n",
      "No mask ###-------------------------------------------------- Mask\n",
      "\n"
     ]
    },
    {
     "data": {
      "image/png": "[encoded data removed]",
      "text/plain": [
       "<IPython.core.display.Image object>"
      ]
     },
     "metadata": {},
     "output_type": "display_data"
    },
    {
     "name": "stdout",
     "output_type": "stream",
     "text": [
      "['No_Mask', 'Mask']\n",
      "[3.5422196e-05 9.9996459e-01]\n",
      "\n",
      "No mask -------------------------------------------------###- Mask\n",
      "\n"
     ]
    },
    {
     "data": {
      "image/png": "[encoded data removed]",
      "text/plain": [
       "<IPython.core.display.Image object>"
      ]
     },
     "metadata": {},
     "output_type": "display_data"
    },
    {
     "name": "stdout",
     "output_type": "stream",
     "text": [
      "['No_Mask', 'Mask']\n",
      "[9.9996662e-01 3.3427285e-05]\n",
      "\n",
      "No mask ###-------------------------------------------------- Mask\n",
      "\n"
     ]
    },
    {
     "data": {
      "image/png": "[encoded data removed]",
      "text/plain": [
       "<IPython.core.display.Image object>"
      ]
     },
     "metadata": {},
     "output_type": "display_data"
    },
    {
     "name": "stdout",
     "output_type": "stream",
     "text": [
      "['No_Mask', 'Mask']\n",
      "[0.9980482  0.00195182]\n",
      "\n",
      "No mask ###-------------------------------------------------- Mask\n",
      "\n"
     ]
    },
    {
     "data": {
      "image/png": "[encoded data removed]",
      "text/plain": [
       "<IPython.core.display.Image object>"
      ]
     },
     "metadata": {},
     "output_type": "display_data"
    },
    {
     "name": "stdout",
     "output_type": "stream",
     "text": [
      "['No_Mask', 'Mask']\n",
      "[9.9999726e-01 2.7431570e-06]\n",
      "\n",
      "No mask ###-------------------------------------------------- Mask\n",
      "\n"
     ]
    },
    {
     "data": {
      "image/png": "[encoded data removed]",
      "text/plain": [
       "<IPython.core.display.Image object>"
      ]
     },
     "metadata": {},
     "output_type": "display_data"
    },
    {
     "name": "stdout",
     "output_type": "stream",
     "text": [
      "['No_Mask', 'Mask']\n",
      "[1.695339e-04 9.998305e-01]\n",
      "\n",
      "No mask -------------------------------------------------###- Mask\n",
      "\n"
     ]
    },
    {
     "data": {
      "image/png": "[encoded data removed]",
      "text/plain": [
       "<IPython.core.display.Image object>"
      ]
     },
     "metadata": {},
     "output_type": "display_data"
    },
    {
     "name": "stdout",
     "output_type": "stream",
     "text": [
      "['No_Mask', 'Mask']\n",
      "[9.9962640e-01 3.7353396e-04]\n",
      "\n",
      "No mask ###-------------------------------------------------- Mask\n",
      "\n"
     ]
    },
    {
     "data": {
      "image/png": "[encoded data removed]",
      "text/plain": [
       "<IPython.core.display.Image object>"
      ]
     },
     "metadata": {},
     "output_type": "display_data"
    },
    {
     "name": "stdout",
     "output_type": "stream",
     "text": [
      "['No_Mask', 'Mask']\n",
      "[1.1310123e-05 9.9998868e-01]\n",
      "\n",
      "No mask -------------------------------------------------###- Mask\n",
      "\n"
     ]
    },
    {
     "data": {
      "image/png": "[encoded data removed]",
      "text/plain": [
       "<IPython.core.display.Image object>"
      ]
     },
     "metadata": {},
     "output_type": "display_data"
    },
    {
     "name": "stdout",
     "output_type": "stream",
     "text": [
      "['No_Mask', 'Mask']\n",
      "[1.1530509e-05 9.9998844e-01]\n",
      "\n",
      "No mask -------------------------------------------------###- Mask\n",
      "\n"
     ]
    },
    {
     "data": {
      "image/png": "[encoded data removed]",
      "text/plain": [
       "<IPython.core.display.Image object>"
      ]
     },
     "metadata": {},
     "output_type": "display_data"
    },
    {
     "name": "stdout",
     "output_type": "stream",
     "text": [
      "['No_Mask', 'Mask']\n",
      "[0.00630399 0.99369603]\n",
      "\n",
      "No mask -------------------------------------------------###- Mask\n",
      "\n"
     ]
    },
    {
     "data": {
      "image/png": "[encoded data removed]",
      "text/plain": [
       "<IPython.core.display.Image object>"
      ]
     },
     "metadata": {},
     "output_type": "display_data"
    },
    {
     "name": "stdout",
     "output_type": "stream",
     "text": [
      "['No_Mask', 'Mask']\n",
      "[5.0203275e-04 9.9949801e-01]\n",
      "\n",
      "No mask -------------------------------------------------###- Mask\n",
      "\n"
     ]
    },
    {
     "data": {
      "image/png": "[encoded data removed]",
      "text/plain": [
       "<IPython.core.display.Image object>"
      ]
     },
     "metadata": {},
     "output_type": "display_data"
    },
    {
     "name": "stdout",
     "output_type": "stream",
     "text": [
      "['No_Mask', 'Mask']\n",
      "[1.11896305e-04 9.99888062e-01]\n",
      "\n",
      "No mask -------------------------------------------------###- Mask\n",
      "\n"
     ]
    },
    {
     "data": {
      "image/png": "[encoded data removed]",
      "text/plain": [
       "<IPython.core.display.Image object>"
      ]
     },
     "metadata": {},
     "output_type": "display_data"
    },
    {
     "name": "stdout",
     "output_type": "stream",
     "text": [
      "['No_Mask', 'Mask']\n",
      "[0.8882415  0.11175846]\n",
      "\n",
      "No mask -----###--------------------------------------------- Mask\n",
      "\n"
     ]
    },
    {
     "data": {
      "image/png": "[encoded data removed]",
      "text/plain": [
       "<IPython.core.display.Image object>"
      ]
     },
     "metadata": {},
     "output_type": "display_data"
    },
    {
     "name": "stdout",
     "output_type": "stream",
     "text": [
      "['No_Mask', 'Mask']\n",
      "[2.2029115e-05 9.9997795e-01]\n",
      "\n",
      "No mask -------------------------------------------------###- Mask\n",
      "\n"
     ]
    },
    {
     "data": {
      "image/png": "[encoded data removed]",
      "text/plain": [
       "<IPython.core.display.Image object>"
      ]
     },
     "metadata": {},
     "output_type": "display_data"
    },
    {
     "name": "stdout",
     "output_type": "stream",
     "text": [
      "['No_Mask', 'Mask']\n",
      "[9.9999833e-01 1.6202944e-06]\n",
      "\n",
      "No mask ###-------------------------------------------------- Mask\n",
      "\n"
     ]
    },
    {
     "data": {
      "image/png": "[encoded data removed]",
      "text/plain": [
       "<IPython.core.display.Image object>"
      ]
     },
     "metadata": {},
     "output_type": "display_data"
    },
    {
     "name": "stdout",
     "output_type": "stream",
     "text": [
      "['No_Mask', 'Mask']\n",
      "[9.9999106e-01 8.9880559e-06]\n",
      "\n",
      "No mask ###-------------------------------------------------- Mask\n",
      "\n"
     ]
    },
    {
     "data": {
      "image/png": "[encoded data removed]",
      "text/plain": [
       "<IPython.core.display.Image object>"
      ]
     },
     "metadata": {},
     "output_type": "display_data"
    },
    {
     "name": "stdout",
     "output_type": "stream",
     "text": [
      "['No_Mask', 'Mask']\n",
      "[0.99156135 0.00843869]\n",
      "\n",
      "No mask ###-------------------------------------------------- Mask\n",
      "\n"
     ]
    },
    {
     "data": {
      "image/png": "[encoded data removed]",
      "text/plain": [
       "<IPython.core.display.Image object>"
      ]
     },
     "metadata": {},
     "output_type": "display_data"
    },
    {
     "name": "stdout",
     "output_type": "stream",
     "text": [
      "['No_Mask', 'Mask']\n",
      "[2.0924610e-06 9.9999785e-01]\n",
      "\n",
      "No mask -------------------------------------------------###- Mask\n",
      "\n"
     ]
    },
    {
     "data": {
      "image/png": "[encoded data removed]",
      "text/plain": [
       "<IPython.core.display.Image object>"
      ]
     },
     "metadata": {},
     "output_type": "display_data"
    },
    {
     "name": "stdout",
     "output_type": "stream",
     "text": [
      "['No_Mask', 'Mask']\n",
      "[9.991365e-01 8.634996e-04]\n",
      "\n",
      "No mask ###-------------------------------------------------- Mask\n",
      "\n"
     ]
    },
    {
     "data": {
      "image/png": "[encoded data removed]",
      "text/plain": [
       "<IPython.core.display.Image object>"
      ]
     },
     "metadata": {},
     "output_type": "display_data"
    },
    {
     "name": "stdout",
     "output_type": "stream",
     "text": [
      "['No_Mask', 'Mask']\n",
      "[9.253742e-06 9.999907e-01]\n",
      "\n",
      "No mask -------------------------------------------------###- Mask\n",
      "\n"
     ]
    },
    {
     "data": {
      "image/png": "[encoded data removed]",
      "text/plain": [
       "<IPython.core.display.Image object>"
      ]
     },
     "metadata": {},
     "output_type": "display_data"
    },
    {
     "name": "stdout",
     "output_type": "stream",
     "text": [
      "['No_Mask', 'Mask']\n",
      "[5.626747e-04 9.994373e-01]\n",
      "\n",
      "No mask -------------------------------------------------###- Mask\n",
      "\n"
     ]
    },
    {
     "data": {
      "image/png": "[encoded data removed]",
      "text/plain": [
       "<IPython.core.display.Image object>"
      ]
     },
     "metadata": {},
     "output_type": "display_data"
    },
    {
     "name": "stdout",
     "output_type": "stream",
     "text": [
      "['No_Mask', 'Mask']\n",
      "[8.6798045e-06 9.9999130e-01]\n",
      "\n",
      "No mask -------------------------------------------------###- Mask\n",
      "\n"
     ]
    },
    {
     "data": {
      "image/png": "[encoded data removed]",
      "text/plain": [
       "<IPython.core.display.Image object>"
      ]
     },
     "metadata": {},
     "output_type": "display_data"
    },
    {
     "name": "stdout",
     "output_type": "stream",
     "text": [
      "['No_Mask', 'Mask']\n",
      "[2.7406562e-05 9.9997258e-01]\n",
      "\n",
      "No mask -------------------------------------------------###- Mask\n",
      "\n"
     ]
    },
    {
     "data": {
      "image/png": "[encoded data removed]",
      "text/plain": [
       "<IPython.core.display.Image object>"
      ]
     },
     "metadata": {},
     "output_type": "display_data"
    },
    {
     "name": "stdout",
     "output_type": "stream",
     "text": [
      "['No_Mask', 'Mask']\n",
      "[0.9894326  0.01056747]\n",
      "\n",
      "No mask ###-------------------------------------------------- Mask\n",
      "\n"
     ]
    },
    {
     "data": {
      "image/png": "[encoded data removed]",
      "text/plain": [
       "<IPython.core.display.Image object>"
      ]
     },
     "metadata": {},
     "output_type": "display_data"
    },
    {
     "name": "stdout",
     "output_type": "stream",
     "text": [
      "['No_Mask', 'Mask']\n",
      "[2.0924088e-04 9.9979073e-01]\n",
      "\n",
      "No mask -------------------------------------------------###- Mask\n",
      "\n"
     ]
    },
    {
     "data": {
      "image/png": "[encoded data removed]",
      "text/plain": [
       "<IPython.core.display.Image object>"
      ]
     },
     "metadata": {},
     "output_type": "display_data"
    },
    {
     "name": "stdout",
     "output_type": "stream",
     "text": [
      "['No_Mask', 'Mask']\n",
      "[9.997675e-01 2.325163e-04]\n",
      "\n",
      "No mask ###-------------------------------------------------- Mask\n",
      "\n"
     ]
    },
    {
     "data": {
      "image/png": "[encoded data removed]",
      "text/plain": [
       "<IPython.core.display.Image object>"
      ]
     },
     "metadata": {},
     "output_type": "display_data"
    },
    {
     "name": "stdout",
     "output_type": "stream",
     "text": [
      "['No_Mask', 'Mask']\n",
      "[9.9972814e-01 2.7185041e-04]\n",
      "\n",
      "No mask ###-------------------------------------------------- Mask\n",
      "\n"
     ]
    },
    {
     "data": {
      "image/png": "[encoded data removed]",
      "text/plain": [
       "<IPython.core.display.Image object>"
      ]
     },
     "metadata": {},
     "output_type": "display_data"
    },
    {
     "name": "stdout",
     "output_type": "stream",
     "text": [
      "['No_Mask', 'Mask']\n",
      "[2.0184045e-06 9.9999797e-01]\n",
      "\n",
      "No mask -------------------------------------------------###- Mask\n",
      "\n"
     ]
    },
    {
     "data": {
      "image/png": "[encoded data removed]",
      "text/plain": [
       "<IPython.core.display.Image object>"
      ]
     },
     "metadata": {},
     "output_type": "display_data"
    },
    {
     "name": "stdout",
     "output_type": "stream",
     "text": [
      "['No_Mask', 'Mask']\n",
      "[1.3439098e-06 9.9999869e-01]\n",
      "\n",
      "No mask -------------------------------------------------###- Mask\n",
      "\n"
     ]
    },
    {
     "data": {
      "image/png": "[encoded data removed]",
      "text/plain": [
       "<IPython.core.display.Image object>"
      ]
     },
     "metadata": {},
     "output_type": "display_data"
    },
    {
     "name": "stdout",
     "output_type": "stream",
     "text": [
      "['No_Mask', 'Mask']\n",
      "[9.9996567e-01 3.4361921e-05]\n",
      "\n",
      "No mask ###-------------------------------------------------- Mask\n",
      "\n"
     ]
    },
    {
     "data": {
      "image/png": "[encoded data removed]",
      "text/plain": [
       "<IPython.core.display.Image object>"
      ]
     },
     "metadata": {},
     "output_type": "display_data"
    },
    {
     "name": "stdout",
     "output_type": "stream",
     "text": [
      "['No_Mask', 'Mask']\n",
      "[3.4825000e-06 9.9999654e-01]\n",
      "\n",
      "No mask -------------------------------------------------###- Mask\n",
      "\n"
     ]
    },
    {
     "data": {
      "image/png": "[encoded data removed]",
      "text/plain": [
       "<IPython.core.display.Image object>"
      ]
     },
     "metadata": {},
     "output_type": "display_data"
    },
    {
     "name": "stdout",
     "output_type": "stream",
     "text": [
      "['No_Mask', 'Mask']\n",
      "[5.8110400e-06 9.9999416e-01]\n",
      "\n",
      "No mask -------------------------------------------------###- Mask\n",
      "\n"
     ]
    },
    {
     "data": {
      "image/png": "[encoded data removed]",
      "text/plain": [
       "<IPython.core.display.Image object>"
      ]
     },
     "metadata": {},
     "output_type": "display_data"
    },
    {
     "name": "stdout",
     "output_type": "stream",
     "text": [
      "['No_Mask', 'Mask']\n",
      "[0.9989574  0.00104264]\n",
      "\n",
      "No mask ###-------------------------------------------------- Mask\n",
      "\n"
     ]
    },
    {
     "data": {
      "image/png": "[encoded data removed]",
      "text/plain": [
       "<IPython.core.display.Image object>"
      ]
     },
     "metadata": {},
     "output_type": "display_data"
    },
    {
     "name": "stdout",
     "output_type": "stream",
     "text": [
      "['No_Mask', 'Mask']\n",
      "[3.5460256e-05 9.9996459e-01]\n",
      "\n",
      "No mask -------------------------------------------------###- Mask\n",
      "\n"
     ]
    },
    {
     "data": {
      "image/png": "[encoded data removed]",
      "text/plain": [
       "<IPython.core.display.Image object>"
      ]
     },
     "metadata": {},
     "output_type": "display_data"
    },
    {
     "name": "stdout",
     "output_type": "stream",
     "text": [
      "['No_Mask', 'Mask']\n",
      "[9.9966013e-01 3.3981225e-04]\n",
      "\n",
      "No mask ###-------------------------------------------------- Mask\n",
      "\n"
     ]
    },
    {
     "data": {
      "image/png": "[encoded data removed]",
      "text/plain": [
       "<IPython.core.display.Image object>"
      ]
     },
     "metadata": {},
     "output_type": "display_data"
    },
    {
     "name": "stdout",
     "output_type": "stream",
     "text": [
      "['No_Mask', 'Mask']\n",
      "[9.9999380e-01 6.1393066e-06]\n",
      "\n",
      "No mask ###-------------------------------------------------- Mask\n",
      "\n"
     ]
    },
    {
     "data": {
      "image/png": "[encoded data removed]",
      "text/plain": [
       "<IPython.core.display.Image object>"
      ]
     },
     "metadata": {},
     "output_type": "display_data"
    },
    {
     "name": "stdout",
     "output_type": "stream",
     "text": [
      "['No_Mask', 'Mask']\n",
      "[1.05267834e-04 9.99894738e-01]\n",
      "\n",
      "No mask -------------------------------------------------###- Mask\n",
      "\n"
     ]
    },
    {
     "data": {
      "image/png": "[encoded data removed]",
      "text/plain": [
       "<IPython.core.display.Image object>"
      ]
     },
     "metadata": {},
     "output_type": "display_data"
    },
    {
     "name": "stdout",
     "output_type": "stream",
     "text": [
      "['No_Mask', 'Mask']\n",
      "[7.7684554e-08 9.9999988e-01]\n",
      "\n",
      "No mask -------------------------------------------------###- Mask\n",
      "\n"
     ]
    },
    {
     "data": {
      "image/png": "[encoded data removed]",
      "text/plain": [
       "<IPython.core.display.Image object>"
      ]
     },
     "metadata": {},
     "output_type": "display_data"
    },
    {
     "name": "stdout",
     "output_type": "stream",
     "text": [
      "['No_Mask', 'Mask']\n",
      "[4.2419247e-06 9.9999571e-01]\n",
      "\n",
      "No mask -------------------------------------------------###- Mask\n",
      "\n"
     ]
    },
    {
     "data": {
      "image/png": "[encoded data removed]",
      "text/plain": [
       "<IPython.core.display.Image object>"
      ]
     },
     "metadata": {},
     "output_type": "display_data"
    },
    {
     "name": "stdout",
     "output_type": "stream",
     "text": [
      "['No_Mask', 'Mask']\n",
      "[4.7971389e-06 9.9999523e-01]\n",
      "\n",
      "No mask -------------------------------------------------###- Mask\n",
      "\n"
     ]
    },
    {
     "data": {
      "image/png": "[encoded data removed]",
      "text/plain": [
       "<IPython.core.display.Image object>"
      ]
     },
     "metadata": {},
     "output_type": "display_data"
    },
    {
     "name": "stdout",
     "output_type": "stream",
     "text": [
      "['No_Mask', 'Mask']\n",
      "[0.0057592 0.9942409]\n",
      "\n",
      "No mask -------------------------------------------------###- Mask\n",
      "\n"
     ]
    },
    {
     "data": {
      "image/png": "[encoded data removed]",
      "text/plain": [
       "<IPython.core.display.Image object>"
      ]
     },
     "metadata": {},
     "output_type": "display_data"
    },
    {
     "name": "stdout",
     "output_type": "stream",
     "text": [
      "['No_Mask', 'Mask']\n",
      "[9.9984539e-01 1.5462973e-04]\n",
      "\n",
      "No mask ###-------------------------------------------------- Mask\n",
      "\n"
     ]
    },
    {
     "data": {
      "image/png": "[encoded data removed]",
      "text/plain": [
       "<IPython.core.display.Image object>"
      ]
     },
     "metadata": {},
     "output_type": "display_data"
    },
    {
     "name": "stdout",
     "output_type": "stream",
     "text": [
      "['No_Mask', 'Mask']\n",
      "[9.999614e-01 3.861501e-05]\n",
      "\n",
      "No mask ###-------------------------------------------------- Mask\n",
      "\n"
     ]
    },
    {
     "data": {
      "image/png": "[encoded data removed]",
      "text/plain": [
       "<IPython.core.display.Image object>"
      ]
     },
     "metadata": {},
     "output_type": "display_data"
    },
    {
     "name": "stdout",
     "output_type": "stream",
     "text": [
      "['No_Mask', 'Mask']\n",
      "[9.999994e-01 5.500323e-07]\n",
      "\n",
      "No mask ###-------------------------------------------------- Mask\n",
      "\n"
     ]
    },
    {
     "data": {
      "image/png": "[encoded data removed]",
      "text/plain": [
       "<IPython.core.display.Image object>"
      ]
     },
     "metadata": {},
     "output_type": "display_data"
    },
    {
     "name": "stdout",
     "output_type": "stream",
     "text": [
      "['No_Mask', 'Mask']\n",
      "[3.1738260e-04 9.9968266e-01]\n",
      "\n",
      "No mask -------------------------------------------------###- Mask\n",
      "\n"
     ]
    },
    {
     "data": {
      "image/png": "[encoded data removed]",
      "text/plain": [
       "<IPython.core.display.Image object>"
      ]
     },
     "metadata": {},
     "output_type": "display_data"
    },
    {
     "name": "stdout",
     "output_type": "stream",
     "text": [
      "['No_Mask', 'Mask']\n",
      "[1.6544813e-05 9.9998343e-01]\n",
      "\n",
      "No mask -------------------------------------------------###- Mask\n",
      "\n"
     ]
    }
   ],
   "source": [
    "for i in range(0, len(X_test), int(len(X_test)/50)):\n",
    "\n",
    "    img = X_test[i]\n",
    "\n",
    "\n",
    "    show_array(255 * img)\n",
    "    print_indicator(img, mask_model, class_names)\n",
    "    \n",
    "    print()"
   ]
  },
  {
   "cell_type": "code",
   "execution_count": 52,
   "metadata": {},
   "outputs": [],
   "source": [
    "y_score = mask_model.predict(X_test)"
   ]
  },
  {
   "cell_type": "code",
   "execution_count": 54,
   "metadata": {},
   "outputs": [],
   "source": [
    "predicted_labels = []\n",
    "for p in y_score:\n",
    "    predicted_labels.append(0) if p[0] <= 0.5 else predicted_labels.append(1)"
   ]
  },
  {
   "cell_type": "code",
   "execution_count": 66,
   "metadata": {},
   "outputs": [
    {
     "data": {
      "image/png": "[encoded data removed]",
      "text/plain": [
       "<Figure size 720x504 with 2 Axes>"
      ]
     },
     "metadata": {
      "needs_background": "light"
     },
     "output_type": "display_data"
    },
    {
     "data": {
      "text/html": [
       "<div>\n",
       "<style scoped>\n",
       "    .dataframe tbody tr th:only-of-type {\n",
       "        vertical-align: middle;\n",
       "    }\n",
       "\n",
       "    .dataframe tbody tr th {\n",
       "        vertical-align: top;\n",
       "    }\n",
       "\n",
       "    .dataframe thead th {\n",
       "        text-align: right;\n",
       "    }\n",
       "</style>\n",
       "<table border=\"1\" class=\"dataframe\">\n",
       "  <thead>\n",
       "    <tr style=\"text-align: right;\">\n",
       "      <th></th>\n",
       "      <th>No mask</th>\n",
       "      <th>Mask</th>\n",
       "    </tr>\n",
       "  </thead>\n",
       "  <tbody>\n",
       "    <tr>\n",
       "      <td>No mask</td>\n",
       "      <td>794</td>\n",
       "      <td>15</td>\n",
       "    </tr>\n",
       "    <tr>\n",
       "      <td>Mask</td>\n",
       "      <td>20</td>\n",
       "      <td>805</td>\n",
       "    </tr>\n",
       "  </tbody>\n",
       "</table>\n",
       "</div>"
      ],
      "text/plain": [
       "         No mask  Mask\n",
       "No mask      794    15\n",
       "Mask          20   805"
      ]
     },
     "execution_count": 66,
     "metadata": {},
     "output_type": "execute_result"
    }
   ],
   "source": [
    "print_confusion_matrix(y_true=y_test[:,0],\n",
    "                           y_pred=predicted_labels,\n",
    "                      class_names = class_names)\n",
    "                       \n",
    "                           "
   ]
  },
  {
   "cell_type": "code",
   "execution_count": 62,
   "metadata": {},
   "outputs": [],
   "source": [
    "conf_matrix = confusion_matrix(y_true=y_test[:,0], y_pred=predicted_labels)"
   ]
  },
  {
   "cell_type": "code",
   "execution_count": 63,
   "metadata": {},
   "outputs": [
    {
     "data": {
      "text/plain": [
       "array([[794,  15],\n",
       "       [ 20, 805]])"
      ]
     },
     "execution_count": 63,
     "metadata": {},
     "output_type": "execute_result"
    }
   ],
   "source": [
    "conf_matrix "
   ]
  }
 ],
 "metadata": {
  "kernelspec": {
   "display_name": "Python 3",
   "language": "python",
   "name": "python3"
  },
  "language_info": {
   "codemirror_mode": {
    "name": "ipython",
    "version": 3
   },
   "file_extension": ".py",
   "mimetype": "text/x-python",
   "name": "python",
   "nbconvert_exporter": "python",
   "pygments_lexer": "ipython3",
   "version": "3.7.4"
  }
 },
 "nbformat": 4,
 "nbformat_minor": 2
}
